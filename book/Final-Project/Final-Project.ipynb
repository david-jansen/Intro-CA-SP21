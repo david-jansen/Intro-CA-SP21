{
 "cells": [
  {
   "cell_type": "markdown",
   "metadata": {},
   "source": [
    "# Final Project — Cultural Data Analysis"
   ]
  },
  {
   "cell_type": "markdown",
   "metadata": {},
   "source": [
    "Due Monday, May 18th by 5pm"
   ]
  },
  {
   "cell_type": "markdown",
   "metadata": {},
   "source": [
    "For your final project, you will analyze a cultural dataset of your choosing with one of the methods that we’ve discussed in class and write a short paper about your findings. In the end, you will submit two documents: 1) a Jupyter notebook that shows your computational analysis and 2) a three- to five-page (double-spaced) paper that describes your analysis and discusses your findings.\n",
    "\n",
    "## Possible Cultural Datasets: \n",
    "A \"cultural\" dataset is any dataset broadly related to art, literature, music, history, politics, communities, and/or society. For your cultural dataset, you can choose:\n",
    "- a dataset that we’ve already used in class\n",
    "- a dataset that that has been shared by someone else\n",
    "- a dataset that you yourself collect and/or compile \n",
    "\n",
    "You can find a list of [potential cultural datasets here](https://melaniewalsh.github.io/Intro-Cultural-Analytics/Datasets/Datasets.html). If you have questions about which option to choose or whether your dataset will make for a good final project, please reach out and discuss it with me.\n",
    "\n",
    "\n",
    "## Computational Analysis (Jupyter Notebook): \n",
    "The computational analysis in your Jupyter notebook should be split into the following sections:\n",
    "\n",
    "**1.** Prepare and Examine the Data\n",
    "\n",
    "First, prepare and broadly examine your data with an eye toward general patterns, potential outliers, or problems. This might involve getting an overview of the data (checking the number of rows and names of columns, calculating basic statistics, etc.), cleaning the data, and/or transforming the data in some way.\n",
    "\n",
    "**2.** Analyze the Data\n",
    "\n",
    "Then analyze the data using at least of the methods that we’ve discussed in class:\n",
    "\n",
    "- Pandas calculations\n",
    "- TF-IDF\n",
    "- Topic models\n",
    "- Named entity recognition\n",
    "- Network analysis\n",
    "- Mapping\n",
    "\n",
    "**3.** Zoom In\n",
    "\n",
    "Finally, zoom in on a few specific examples from your dataset—either grounding your analysis in these concrete examples or examining specific patterns in the new light of your analysis.\n",
    "\n",
    "\n",
    "## Report and Findings (3-5 page paper):\n",
    "The paper that describes your analysis and reports on your findings should be split into the following sections:\n",
    "\n",
    "**1.** Introduction\n",
    "\n",
    "Broadly introduce your research question, how it relates to culture more broadly, why you were motivated to answer it, and what you were hoping or expecting to find.\n",
    "\n",
    "**2.** Dataset\n",
    "\n",
    "Introduce your dataset (where did it come from, how was it collected, what are its limits, etc.) and explain why you chose this dataset to explore your research question. \n",
    "\n",
    "**3.** Methodology\n",
    "\n",
    "Explain the method that you chose to analyze the data (what is it? how does it work?) and why you chose this method.\n",
    "\n",
    "**4.** Analysis & Interpretation\n",
    "\n",
    "Describe your analysis and interpret your results. What, if anything, can you conclude about your cultural phenomenon based on your analysis? Make sure to incorporate at least one metric, calculation, or data visualization from your computational analysis.\n",
    "\n",
    "**5.** Conclusions & Future Work\n",
    "\n",
    "If you had unlimited time and resources, where would you go next with this analysis?"
   ]
  },
  {
   "cell_type": "code",
   "execution_count": null,
   "metadata": {},
   "outputs": [],
   "source": []
  }
 ],
 "metadata": {
  "kernelspec": {
   "display_name": "Python 3",
   "language": "python",
   "name": "python3"
  },
  "language_info": {
   "codemirror_mode": {
    "name": "ipython",
    "version": 3
   },
   "file_extension": ".py",
   "mimetype": "text/x-python",
   "name": "python",
   "nbconvert_exporter": "python",
   "pygments_lexer": "ipython3",
   "version": "3.8.5"
  }
 },
 "nbformat": 4,
 "nbformat_minor": 4
}
