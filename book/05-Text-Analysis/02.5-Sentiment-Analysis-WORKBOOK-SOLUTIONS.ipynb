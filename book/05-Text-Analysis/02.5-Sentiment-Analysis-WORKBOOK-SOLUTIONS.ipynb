{
 "cells": [
  {
   "cell_type": "markdown",
   "metadata": {},
   "source": [
    "## Sentiment Analysis — Workbook Solutions"
   ]
  },
  {
   "cell_type": "markdown",
   "metadata": {},
   "source": [
    "In this notebook, we're going to learn how to use [VADER](https://github.com/cjhutto/vaderSentiment) (Valence Aware Dictionary and sEntiment Reasoner), a sentiment analysis tool designed for social media. (Read the VADER paper [here](https://www.aaai.org/ocs/index.php/ICWSM/ICWSM14/paper/view/8109/8122).)\n",
    "\n",
    "We're going to see how well VADER works with our own sentences and with sentences from *The House on Mango Street*. Can we create an accurate plot arc of Sandra Cisneros's coming-of-age novel?\n",
    "\n",
    "*Don't forget to rename this notebook if you want to save changes!*\n",
    "\n",
    "---"
   ]
  },
  {
   "cell_type": "markdown",
   "metadata": {},
   "source": [
    "## Install and Import Libraries/Packages"
   ]
  },
  {
   "cell_type": "markdown",
   "metadata": {},
   "source": [
    "Import Pandas and set Pandas display column width to 400 characters"
   ]
  },
  {
   "cell_type": "code",
   "execution_count": 1,
   "metadata": {},
   "outputs": [],
   "source": [
    "import pandas as pd\n",
    "pd.options.display.max_colwidth = 400"
   ]
  },
  {
   "cell_type": "markdown",
   "metadata": {},
   "source": [
    "Install [vaderSentiment package](https://github.com/cjhutto/vaderSentiment) with pip"
   ]
  },
  {
   "cell_type": "code",
   "execution_count": 10,
   "metadata": {
    "scrolled": true
   },
   "outputs": [
    {
     "name": "stdout",
     "output_type": "stream",
     "text": [
      "Collecting vaderSentiment\n",
      "  Downloading vaderSentiment-3.3.2-py2.py3-none-any.whl (125 kB)\n",
      "\u001b[K     |████████████████████████████████| 125 kB 2.8 MB/s eta 0:00:01\n",
      "\u001b[?25hRequirement already satisfied: requests in /Users/melaniewalsh/opt/anaconda3/lib/python3.7/site-packages (from vaderSentiment) (2.23.0)\n",
      "Requirement already satisfied: idna<3,>=2.5 in /Users/melaniewalsh/opt/anaconda3/lib/python3.7/site-packages (from requests->vaderSentiment) (2.9)\n",
      "Requirement already satisfied: certifi>=2017.4.17 in /Users/melaniewalsh/opt/anaconda3/lib/python3.7/site-packages (from requests->vaderSentiment) (2020.12.5)\n",
      "Requirement already satisfied: urllib3!=1.25.0,!=1.25.1,<1.26,>=1.21.1 in /Users/melaniewalsh/opt/anaconda3/lib/python3.7/site-packages (from requests->vaderSentiment) (1.25.9)\n",
      "Requirement already satisfied: chardet<4,>=3.0.2 in /Users/melaniewalsh/opt/anaconda3/lib/python3.7/site-packages (from requests->vaderSentiment) (3.0.4)\n",
      "Installing collected packages: vaderSentiment\n",
      "Successfully installed vaderSentiment-3.3.2\n",
      "\u001b[33mWARNING: You are using pip version 20.3.3; however, version 21.0.1 is available.\n",
      "You should consider upgrading via the '/Users/melaniewalsh/opt/anaconda3/bin/python3 -m pip install --upgrade pip' command.\u001b[0m\n"
     ]
    }
   ],
   "source": [
    "!pip install vaderSentiment"
   ]
  },
  {
   "cell_type": "markdown",
   "metadata": {},
   "source": [
    "Import the `SentimentIntensityAnalyser` and initlaize it"
   ]
  },
  {
   "cell_type": "code",
   "execution_count": 48,
   "metadata": {},
   "outputs": [],
   "source": [
    "from vaderSentiment.vaderSentiment import SentimentIntensityAnalyzer\n",
    "sentimentAnalyser = SentimentIntensityAnalyzer()"
   ]
  },
  {
   "cell_type": "markdown",
   "metadata": {},
   "source": [
    "## Calculate Sentiment Scores"
   ]
  },
  {
   "cell_type": "markdown",
   "metadata": {},
   "source": [
    "To calculate sentiment scores for a sentence or paragraph, we can use the `.polarity_scores()` method."
   ]
  },
  {
   "cell_type": "code",
   "execution_count": 412,
   "metadata": {},
   "outputs": [
    {
     "data": {
      "text/plain": [
       "{'neg': 0.0, 'neu': 0.361, 'pos': 0.639, 'compound': 0.6486}"
      ]
     },
     "execution_count": 412,
     "metadata": {},
     "output_type": "execute_result"
    }
   ],
   "source": [
    "sentimentAnalyser.polarity_scores(\"I like the Marvel movies\")"
   ]
  },
  {
   "cell_type": "code",
   "execution_count": 391,
   "metadata": {},
   "outputs": [
    {
     "data": {
      "text/plain": [
       "{'neg': 0.526, 'neu': 0.474, 'pos': 0.0, 'compound': -0.5334}"
      ]
     },
     "execution_count": 391,
     "metadata": {},
     "output_type": "execute_result"
    }
   ],
   "source": [
    "sentimentAnalyser.polarity_scores(\"I don't like the Marvel movies\")"
   ]
  },
  {
   "cell_type": "code",
   "execution_count": 392,
   "metadata": {},
   "outputs": [
    {
     "data": {
      "text/plain": [
       "{'neg': 0.255, 'neu': 0.546, 'pos': 0.199, 'compound': -0.1307}"
      ]
     },
     "execution_count": 392,
     "metadata": {},
     "output_type": "execute_result"
    }
   ],
   "source": [
    "sentimentAnalyser.polarity_scores(\"I don't *not* like the Marvel movies\")"
   ]
  },
  {
   "cell_type": "markdown",
   "metadata": {},
   "source": [
    "## Your Turn!"
   ]
  },
  {
   "cell_type": "markdown",
   "metadata": {},
   "source": [
    "Try out the `sentimentAnalyzer` on some sentences of your own!\n",
    "\n",
    "Experiment with capitalization, punctuation, emojis, historical words, slangy language, poetry, or non-English words. How does VADER handle it? What does VADER seem to do well and not so well?"
   ]
  },
  {
   "cell_type": "code",
   "execution_count": 393,
   "metadata": {},
   "outputs": [
    {
     "data": {
      "text/plain": [
       "{'neg': 0.0, 'neu': 0.361, 'pos': 0.639, 'compound': 0.6486}"
      ]
     },
     "execution_count": 393,
     "metadata": {},
     "output_type": "execute_result"
    }
   ],
   "source": [
    "#Your code here"
   ]
  },
  {
   "cell_type": "code",
   "execution_count": null,
   "metadata": {},
   "outputs": [],
   "source": [
    "#Your code here"
   ]
  },
  {
   "cell_type": "markdown",
   "metadata": {},
   "source": [
    "## Calculate Sentiment Scores for *The House on Mango Street*"
   ]
  },
  {
   "cell_type": "markdown",
   "metadata": {},
   "source": [
    "To calculate sentiment scores for *The House on Mango Street*, we first need a quick-and-easy way to break the novel up into sentences."
   ]
  },
  {
   "cell_type": "markdown",
   "metadata": {},
   "source": [
    "### Install and Import NLTK"
   ]
  },
  {
   "cell_type": "markdown",
   "metadata": {},
   "source": [
    "Install [NLTK](https://www.nltk.org/), a Python library for text analysis natural language processing"
   ]
  },
  {
   "cell_type": "code",
   "execution_count": 266,
   "metadata": {
    "scrolled": true
   },
   "outputs": [
    {
     "name": "stdout",
     "output_type": "stream",
     "text": [
      "Requirement already satisfied: nltk in /Users/melaniewalsh/opt/anaconda3/lib/python3.7/site-packages (3.5)\n",
      "Requirement already satisfied: click in /Users/melaniewalsh/opt/anaconda3/lib/python3.7/site-packages (from nltk) (7.1.2)\n",
      "Requirement already satisfied: regex in /Users/melaniewalsh/opt/anaconda3/lib/python3.7/site-packages (from nltk) (2018.1.10)\n",
      "Requirement already satisfied: joblib in /Users/melaniewalsh/opt/anaconda3/lib/python3.7/site-packages (from nltk) (0.14.1)\n",
      "Requirement already satisfied: tqdm in /Users/melaniewalsh/opt/anaconda3/lib/python3.7/site-packages (from nltk) (4.46.0)\n",
      "\u001b[33mWARNING: You are using pip version 20.3.3; however, version 21.0.1 is available.\n",
      "You should consider upgrading via the '/Users/melaniewalsh/opt/anaconda3/bin/python3 -m pip install --upgrade pip' command.\u001b[0m\n"
     ]
    }
   ],
   "source": [
    "!pip install nltk"
   ]
  },
  {
   "cell_type": "markdown",
   "metadata": {},
   "source": [
    "Import nltk and download the model that will help us get sentences"
   ]
  },
  {
   "cell_type": "code",
   "execution_count": 46,
   "metadata": {},
   "outputs": [
    {
     "name": "stderr",
     "output_type": "stream",
     "text": [
      "[nltk_data] Downloading package punkt to\n",
      "[nltk_data]     /Users/melaniewalsh/nltk_data...\n",
      "[nltk_data]   Unzipping tokenizers/punkt.zip.\n"
     ]
    },
    {
     "data": {
      "text/plain": [
       "True"
      ]
     },
     "execution_count": 46,
     "metadata": {},
     "output_type": "execute_result"
    }
   ],
   "source": [
    "import nltk\n",
    "nltk.download('punkt')"
   ]
  },
  {
   "cell_type": "markdown",
   "metadata": {},
   "source": [
    "### Load Text and Break Into Sentences"
   ]
  },
  {
   "cell_type": "markdown",
   "metadata": {},
   "source": [
    "Read in the text file for \"Hairs\""
   ]
  },
  {
   "cell_type": "code",
   "execution_count": 414,
   "metadata": {},
   "outputs": [],
   "source": [
    "text_file = \"../texts/literature/House-on-Mango-Street/02-Hairs.txt\"\n",
    "chapter = open(text_file, encoding=\"utf-8\").read()"
   ]
  },
  {
   "cell_type": "markdown",
   "metadata": {},
   "source": [
    "To break a string into individual sentences, we can use `nltk.sent_tokenize()`"
   ]
  },
  {
   "cell_type": "code",
   "execution_count": 415,
   "metadata": {},
   "outputs": [
    {
     "data": {
      "text/plain": [
       "['Hairs\\n\\nEverybody in our family has different hair.',\n",
       " 'My Papa’s hair is like a broom, all up in the air.',\n",
       " 'And me, my hair is lazy.',\n",
       " 'It never obeys barrettes or bands.',\n",
       " 'Carlos’ hair is thick and straight.',\n",
       " 'He doesn’t need to comb it.',\n",
       " 'Nenny’s hair is slippery—slides out of your hand.',\n",
       " 'And Kiki, who is the youngest, has hair like fur.',\n",
       " 'But my mother’s hair, my mother’s hair, like little rosettes, like little candy circles all curly and pretty because she pinned it in pincurls all day, sweet to put your nose into when she is holding you, holding you and you feel safe, is the warm smell of bread before you bake it, is the smell when she makes room for you on her side of the bed still warm with her skin, and you sleep near her, the rain outside falling and Papa snoring.',\n",
       " 'The snoring, the rain, and Mama’s hair that smells like bread.']"
      ]
     },
     "execution_count": 415,
     "metadata": {},
     "output_type": "execute_result"
    }
   ],
   "source": [
    "nltk.sent_tokenize(chapter)"
   ]
  },
  {
   "cell_type": "code",
   "execution_count": 269,
   "metadata": {},
   "outputs": [],
   "source": [
    "sentences = nltk.sent_tokenize(chapter)"
   ]
  },
  {
   "cell_type": "markdown",
   "metadata": {},
   "source": [
    "### Calculate Scores for Each Sentence"
   ]
  },
  {
   "cell_type": "markdown",
   "metadata": {},
   "source": [
    "We can loop through the sentences and calculate sentiment scores for every sentence.\n",
    "\n",
    "*How would we print just the \"compound\" score for each sentence?*"
   ]
  },
  {
   "cell_type": "code",
   "execution_count": 417,
   "metadata": {
    "scrolled": true
   },
   "outputs": [
    {
     "name": "stdout",
     "output_type": "stream",
     "text": [
      "Hairs\n",
      "\n",
      "Everybody in our family has different hair. \n",
      " {'neg': 0.0, 'neu': 1.0, 'pos': 0.0, 'compound': 0.0} \n",
      "\n",
      "My Papa’s hair is like a broom, all up in the air. \n",
      " {'neg': 0.0, 'neu': 0.815, 'pos': 0.185, 'compound': 0.3612} \n",
      "\n",
      "And me, my hair is lazy. \n",
      " {'neg': 0.333, 'neu': 0.667, 'pos': 0.0, 'compound': -0.3612} \n",
      "\n",
      "It never obeys barrettes or bands. \n",
      " {'neg': 0.0, 'neu': 1.0, 'pos': 0.0, 'compound': 0.0} \n",
      "\n",
      "Carlos’ hair is thick and straight. \n",
      " {'neg': 0.0, 'neu': 0.725, 'pos': 0.275, 'compound': 0.2263} \n",
      "\n",
      "He doesn’t need to comb it. \n",
      " {'neg': 0.0, 'neu': 1.0, 'pos': 0.0, 'compound': 0.0} \n",
      "\n",
      "Nenny’s hair is slippery—slides out of your hand. \n",
      " {'neg': 0.0, 'neu': 0.686, 'pos': 0.314, 'compound': 0.4939} \n",
      "\n",
      "And Kiki, who is the youngest, has hair like fur. \n",
      " {'neg': 0.0, 'neu': 0.783, 'pos': 0.217, 'compound': 0.3612} \n",
      "\n",
      "But my mother’s hair, my mother’s hair, like little rosettes, like little candy circles all curly and pretty because she pinned it in pincurls all day, sweet to put your nose into when she is holding you, holding you and you feel safe, is the warm smell of bread before you bake it, is the smell when she makes room for you on her side of the bed still warm with her skin, and you sleep near her, the rain outside falling and Papa snoring. \n",
      " {'neg': 0.019, 'neu': 0.756, 'pos': 0.225, 'compound': 0.9684} \n",
      "\n",
      "The snoring, the rain, and Mama’s hair that smells like bread. \n",
      " {'neg': 0.0, 'neu': 0.8, 'pos': 0.2, 'compound': 0.3612} \n",
      "\n"
     ]
    }
   ],
   "source": [
    "for sentence in sentences:\n",
    "    scores = sentimentAnalyser.polarity_scores(sentence)\n",
    "    \n",
    "    print(sentence, '\\n', scores, '\\n')"
   ]
  },
  {
   "cell_type": "markdown",
   "metadata": {},
   "source": [
    "### Make DataFrame"
   ]
  },
  {
   "cell_type": "markdown",
   "metadata": {},
   "source": [
    "A convenient way to make a DataFrame is to first make a list of dictionaries.\n",
    "\n",
    "Below we loop through the sentences, calculate sentiment scores, and then create a mini-dictionary with the sentence and compound score, which we append to the list `sentence_scores`."
   ]
  },
  {
   "cell_type": "code",
   "execution_count": 418,
   "metadata": {},
   "outputs": [],
   "source": [
    "sentence_scores = []\n",
    "for sentence in sentences:\n",
    "    scores = sentimentAnalyser.polarity_scores(sentence)\n",
    "    sentence_scores.append({'sentence': sentence, 'score': scores['compound']})"
   ]
  },
  {
   "cell_type": "markdown",
   "metadata": {},
   "source": [
    "To make this list of dictionaries into a DataFrame, we can simply use `pd.DataFrame()`"
   ]
  },
  {
   "cell_type": "code",
   "execution_count": 419,
   "metadata": {},
   "outputs": [
    {
     "data": {
      "text/html": [
       "<div>\n",
       "<style scoped>\n",
       "    .dataframe tbody tr th:only-of-type {\n",
       "        vertical-align: middle;\n",
       "    }\n",
       "\n",
       "    .dataframe tbody tr th {\n",
       "        vertical-align: top;\n",
       "    }\n",
       "\n",
       "    .dataframe thead th {\n",
       "        text-align: right;\n",
       "    }\n",
       "</style>\n",
       "<table border=\"1\" class=\"dataframe\">\n",
       "  <thead>\n",
       "    <tr style=\"text-align: right;\">\n",
       "      <th></th>\n",
       "      <th>sentence</th>\n",
       "      <th>score</th>\n",
       "    </tr>\n",
       "  </thead>\n",
       "  <tbody>\n",
       "    <tr>\n",
       "      <th>0</th>\n",
       "      <td>Hairs\\n\\nEverybody in our family has different hair.</td>\n",
       "      <td>0.0000</td>\n",
       "    </tr>\n",
       "    <tr>\n",
       "      <th>1</th>\n",
       "      <td>My Papa’s hair is like a broom, all up in the air.</td>\n",
       "      <td>0.3612</td>\n",
       "    </tr>\n",
       "    <tr>\n",
       "      <th>2</th>\n",
       "      <td>And me, my hair is lazy.</td>\n",
       "      <td>-0.3612</td>\n",
       "    </tr>\n",
       "    <tr>\n",
       "      <th>3</th>\n",
       "      <td>It never obeys barrettes or bands.</td>\n",
       "      <td>0.0000</td>\n",
       "    </tr>\n",
       "    <tr>\n",
       "      <th>4</th>\n",
       "      <td>Carlos’ hair is thick and straight.</td>\n",
       "      <td>0.2263</td>\n",
       "    </tr>\n",
       "    <tr>\n",
       "      <th>5</th>\n",
       "      <td>He doesn’t need to comb it.</td>\n",
       "      <td>0.0000</td>\n",
       "    </tr>\n",
       "    <tr>\n",
       "      <th>6</th>\n",
       "      <td>Nenny’s hair is slippery—slides out of your hand.</td>\n",
       "      <td>0.4939</td>\n",
       "    </tr>\n",
       "    <tr>\n",
       "      <th>7</th>\n",
       "      <td>And Kiki, who is the youngest, has hair like fur.</td>\n",
       "      <td>0.3612</td>\n",
       "    </tr>\n",
       "    <tr>\n",
       "      <th>8</th>\n",
       "      <td>But my mother’s hair, my mother’s hair, like little rosettes, like little candy circles all curly and pretty because she pinned it in pincurls all day, sweet to put your nose into when she is holding you, holding you and you feel safe, is the warm smell of bread before you bake it, is the smell when she makes room for you on her side of the bed still warm with her skin, and you sleep near her,...</td>\n",
       "      <td>0.9684</td>\n",
       "    </tr>\n",
       "    <tr>\n",
       "      <th>9</th>\n",
       "      <td>The snoring, the rain, and Mama’s hair that smells like bread.</td>\n",
       "      <td>0.3612</td>\n",
       "    </tr>\n",
       "  </tbody>\n",
       "</table>\n",
       "</div>"
      ],
      "text/plain": [
       "                                                                                                                                                                                                                                                                                                                                                                                                          sentence  \\\n",
       "0                                                                                                                                                                                                                                                                                                                                                             Hairs\\n\\nEverybody in our family has different hair.   \n",
       "1                                                                                                                                                                                                                                                                                                                                                               My Papa’s hair is like a broom, all up in the air.   \n",
       "2                                                                                                                                                                                                                                                                                                                                                                                         And me, my hair is lazy.   \n",
       "3                                                                                                                                                                                                                                                                                                                                                                               It never obeys barrettes or bands.   \n",
       "4                                                                                                                                                                                                                                                                                                                                                                              Carlos’ hair is thick and straight.   \n",
       "5                                                                                                                                                                                                                                                                                                                                                                                      He doesn’t need to comb it.   \n",
       "6                                                                                                                                                                                                                                                                                                                                                                Nenny’s hair is slippery—slides out of your hand.   \n",
       "7                                                                                                                                                                                                                                                                                                                                                                And Kiki, who is the youngest, has hair like fur.   \n",
       "8  But my mother’s hair, my mother’s hair, like little rosettes, like little candy circles all curly and pretty because she pinned it in pincurls all day, sweet to put your nose into when she is holding you, holding you and you feel safe, is the warm smell of bread before you bake it, is the smell when she makes room for you on her side of the bed still warm with her skin, and you sleep near her,...   \n",
       "9                                                                                                                                                                                                                                                                                                                                                   The snoring, the rain, and Mama’s hair that smells like bread.   \n",
       "\n",
       "    score  \n",
       "0  0.0000  \n",
       "1  0.3612  \n",
       "2 -0.3612  \n",
       "3  0.0000  \n",
       "4  0.2263  \n",
       "5  0.0000  \n",
       "6  0.4939  \n",
       "7  0.3612  \n",
       "8  0.9684  \n",
       "9  0.3612  "
      ]
     },
     "execution_count": 419,
     "metadata": {},
     "output_type": "execute_result"
    }
   ],
   "source": [
    "pd.DataFrame(sentence_scores)"
   ]
  },
  {
   "cell_type": "markdown",
   "metadata": {},
   "source": [
    "Let's examine the sentences from negative to positive sentiment scores."
   ]
  },
  {
   "cell_type": "code",
   "execution_count": 420,
   "metadata": {},
   "outputs": [
    {
     "data": {
      "text/html": [
       "<div>\n",
       "<style scoped>\n",
       "    .dataframe tbody tr th:only-of-type {\n",
       "        vertical-align: middle;\n",
       "    }\n",
       "\n",
       "    .dataframe tbody tr th {\n",
       "        vertical-align: top;\n",
       "    }\n",
       "\n",
       "    .dataframe thead th {\n",
       "        text-align: right;\n",
       "    }\n",
       "</style>\n",
       "<table border=\"1\" class=\"dataframe\">\n",
       "  <thead>\n",
       "    <tr style=\"text-align: right;\">\n",
       "      <th></th>\n",
       "      <th>sentence</th>\n",
       "      <th>score</th>\n",
       "    </tr>\n",
       "  </thead>\n",
       "  <tbody>\n",
       "    <tr>\n",
       "      <th>2</th>\n",
       "      <td>And me, my hair is lazy.</td>\n",
       "      <td>-0.3612</td>\n",
       "    </tr>\n",
       "    <tr>\n",
       "      <th>0</th>\n",
       "      <td>Hairs\\n\\nEverybody in our family has different hair.</td>\n",
       "      <td>0.0000</td>\n",
       "    </tr>\n",
       "    <tr>\n",
       "      <th>3</th>\n",
       "      <td>It never obeys barrettes or bands.</td>\n",
       "      <td>0.0000</td>\n",
       "    </tr>\n",
       "    <tr>\n",
       "      <th>5</th>\n",
       "      <td>He doesn’t need to comb it.</td>\n",
       "      <td>0.0000</td>\n",
       "    </tr>\n",
       "    <tr>\n",
       "      <th>4</th>\n",
       "      <td>Carlos’ hair is thick and straight.</td>\n",
       "      <td>0.2263</td>\n",
       "    </tr>\n",
       "    <tr>\n",
       "      <th>1</th>\n",
       "      <td>My Papa’s hair is like a broom, all up in the air.</td>\n",
       "      <td>0.3612</td>\n",
       "    </tr>\n",
       "    <tr>\n",
       "      <th>7</th>\n",
       "      <td>And Kiki, who is the youngest, has hair like fur.</td>\n",
       "      <td>0.3612</td>\n",
       "    </tr>\n",
       "    <tr>\n",
       "      <th>9</th>\n",
       "      <td>The snoring, the rain, and Mama’s hair that smells like bread.</td>\n",
       "      <td>0.3612</td>\n",
       "    </tr>\n",
       "    <tr>\n",
       "      <th>6</th>\n",
       "      <td>Nenny’s hair is slippery—slides out of your hand.</td>\n",
       "      <td>0.4939</td>\n",
       "    </tr>\n",
       "    <tr>\n",
       "      <th>8</th>\n",
       "      <td>But my mother’s hair, my mother’s hair, like little rosettes, like little candy circles all curly and pretty because she pinned it in pincurls all day, sweet to put your nose into when she is holding you, holding you and you feel safe, is the warm smell of bread before you bake it, is the smell when she makes room for you on her side of the bed still warm with her skin, and you sleep near her,...</td>\n",
       "      <td>0.9684</td>\n",
       "    </tr>\n",
       "  </tbody>\n",
       "</table>\n",
       "</div>"
      ],
      "text/plain": [
       "                                                                                                                                                                                                                                                                                                                                                                                                          sentence  \\\n",
       "2                                                                                                                                                                                                                                                                                                                                                                                         And me, my hair is lazy.   \n",
       "0                                                                                                                                                                                                                                                                                                                                                             Hairs\\n\\nEverybody in our family has different hair.   \n",
       "3                                                                                                                                                                                                                                                                                                                                                                               It never obeys barrettes or bands.   \n",
       "5                                                                                                                                                                                                                                                                                                                                                                                      He doesn’t need to comb it.   \n",
       "4                                                                                                                                                                                                                                                                                                                                                                              Carlos’ hair is thick and straight.   \n",
       "1                                                                                                                                                                                                                                                                                                                                                               My Papa’s hair is like a broom, all up in the air.   \n",
       "7                                                                                                                                                                                                                                                                                                                                                                And Kiki, who is the youngest, has hair like fur.   \n",
       "9                                                                                                                                                                                                                                                                                                                                                   The snoring, the rain, and Mama’s hair that smells like bread.   \n",
       "6                                                                                                                                                                                                                                                                                                                                                                Nenny’s hair is slippery—slides out of your hand.   \n",
       "8  But my mother’s hair, my mother’s hair, like little rosettes, like little candy circles all curly and pretty because she pinned it in pincurls all day, sweet to put your nose into when she is holding you, holding you and you feel safe, is the warm smell of bread before you bake it, is the smell when she makes room for you on her side of the bed still warm with her skin, and you sleep near her,...   \n",
       "\n",
       "    score  \n",
       "2 -0.3612  \n",
       "0  0.0000  \n",
       "3  0.0000  \n",
       "5  0.0000  \n",
       "4  0.2263  \n",
       "1  0.3612  \n",
       "7  0.3612  \n",
       "9  0.3612  \n",
       "6  0.4939  \n",
       "8  0.9684  "
      ]
     },
     "execution_count": 420,
     "metadata": {},
     "output_type": "execute_result"
    }
   ],
   "source": [
    "hairs_df = pd.DataFrame(sentence_scores)\n",
    "hairs_df.sort_values(by='score')"
   ]
  },
  {
   "cell_type": "markdown",
   "metadata": {},
   "source": [
    "### Calculate Sentiment Scores By Chapter"
   ]
  },
  {
   "cell_type": "markdown",
   "metadata": {},
   "source": [
    "To calculate sentiment scores for the sentences in each chapter of *The House on Mango Street*, we need to read in each file indviidually.\n",
    "\n",
    "Below we will import `glob` and `Path`, which will allow us to get all the filenames for the chapters and extract the titles."
   ]
  },
  {
   "cell_type": "code",
   "execution_count": 432,
   "metadata": {},
   "outputs": [],
   "source": [
    "import glob\n",
    "from pathlib import Path"
   ]
  },
  {
   "cell_type": "markdown",
   "metadata": {},
   "source": [
    "Create a list of filenames for every `.txt` file in the directory"
   ]
  },
  {
   "cell_type": "code",
   "execution_count": 435,
   "metadata": {},
   "outputs": [],
   "source": [
    "directory_path = \"../texts/literature/House-on-Mango-Street/\"\n",
    "text_files = glob.glob(f\"{directory_path}/*.txt\")"
   ]
  },
  {
   "cell_type": "markdown",
   "metadata": {},
   "source": [
    "Loop through each file in the \"House on Mango Street\" directory, calculate sentiment scores, and make a list of dictionaries"
   ]
  },
  {
   "cell_type": "code",
   "execution_count": 436,
   "metadata": {},
   "outputs": [],
   "source": [
    "sentence_scores = []\n",
    "\n",
    "# Loop through all the filenames\n",
    "for text_file in text_files:\n",
    "    \n",
    "    #Read in the file\n",
    "    chapter = open(text_file, encoding=\"utf-8\").read()\n",
    "    #Extract the end of the filename\n",
    "    title = Path(text_file).stem\n",
    "    \n",
    "    #Loop through each sentence in the \n",
    "    for sentence in nltk.sent_tokenize(chapter):\n",
    "        #Calculate sentiment scores for sentence\n",
    "        scores = sentimentAnalyser.polarity_scores(sentence)\n",
    "        \n",
    "        #Make mini-dictionary with chapter name, sentence, and sentiment score\n",
    "        sentence_scores.append({'chapter': title,\n",
    "                                'sentence': sentence,\n",
    "                                'score': scores['compound']})"
   ]
  },
  {
   "cell_type": "markdown",
   "metadata": {},
   "source": [
    "Let's create a DataFrame from our list of dictionaries"
   ]
  },
  {
   "cell_type": "code",
   "execution_count": 437,
   "metadata": {},
   "outputs": [],
   "source": [
    "chapter_df = pd.DataFrame(sentence_scores)\n",
    "# Make the DataFrame alphabetical by chapter\n",
    "chapter_df = chapter_df.sort_values(by='chapter')"
   ]
  },
  {
   "cell_type": "markdown",
   "metadata": {},
   "source": [
    "How would we examine the most negative 15 sentences?"
   ]
  },
  {
   "cell_type": "code",
   "execution_count": 438,
   "metadata": {},
   "outputs": [
    {
     "data": {
      "text/html": [
       "<div>\n",
       "<style scoped>\n",
       "    .dataframe tbody tr th:only-of-type {\n",
       "        vertical-align: middle;\n",
       "    }\n",
       "\n",
       "    .dataframe tbody tr th {\n",
       "        vertical-align: top;\n",
       "    }\n",
       "\n",
       "    .dataframe thead th {\n",
       "        text-align: right;\n",
       "    }\n",
       "</style>\n",
       "<table border=\"1\" class=\"dataframe\">\n",
       "  <thead>\n",
       "    <tr style=\"text-align: right;\">\n",
       "      <th></th>\n",
       "      <th>chapter</th>\n",
       "      <th>sentence</th>\n",
       "      <th>score</th>\n",
       "    </tr>\n",
       "  </thead>\n",
       "  <tbody>\n",
       "    <tr>\n",
       "      <th>1028</th>\n",
       "      <td>17-The-Family-of-Little-Feet</td>\n",
       "      <td>Bum man is yelling something to the air but by now we are running fast and far away, our high heel shoes taking us all the way down the avenue and around the block, past the ugly cousins, past Mr. Benny’s, up Mango Street, the back way, just in case.</td>\n",
       "      <td>-0.8519</td>\n",
       "    </tr>\n",
       "    <tr>\n",
       "      <th>0</th>\n",
       "      <td>23-Born-Bad</td>\n",
       "      <td>Born Bad\\n\\n\\nMost likely I will go to hell and most likely I deserve to be there.</td>\n",
       "      <td>-0.8442</td>\n",
       "    </tr>\n",
       "    <tr>\n",
       "      <th>1305</th>\n",
       "      <td>22-Papa-Who-Wakes-Up-Tired-in-the-Dark</td>\n",
       "      <td>Papa\\n\\nWho Wakes Up\\n\\nTired\\n\\nin the Dark\\n\\n\\nYour abuelito is dead, Papa says early one morning in my room.</td>\n",
       "      <td>-0.8020</td>\n",
       "    </tr>\n",
       "    <tr>\n",
       "      <th>173</th>\n",
       "      <td>12-Those-Who-Don’t</td>\n",
       "      <td>They are stupid people who are lost and got here by mistake.</td>\n",
       "      <td>-0.7964</td>\n",
       "    </tr>\n",
       "    <tr>\n",
       "      <th>426</th>\n",
       "      <td>13-There-Was-an-Old-Woman-She-Had-So-Many-Children-She-Didn’t-Know-What-to-Do</td>\n",
       "      <td>But after a while you get tired of being worried about kids who aren’t even yours.</td>\n",
       "      <td>-0.7684</td>\n",
       "    </tr>\n",
       "    <tr>\n",
       "      <th>315</th>\n",
       "      <td>16-And-Some-More</td>\n",
       "      <td>Anita, Stella, Dennis, and Lolo …\\n\\nWho you calling ugly, ugly?</td>\n",
       "      <td>-0.7650</td>\n",
       "    </tr>\n",
       "    <tr>\n",
       "      <th>565</th>\n",
       "      <td>18-A-Rice-Sandwich</td>\n",
       "      <td>she said, pointing to a row of ugly three-flats, the ones even the raggedy men are ashamed to go into.</td>\n",
       "      <td>-0.7506</td>\n",
       "    </tr>\n",
       "    <tr>\n",
       "      <th>422</th>\n",
       "      <td>13-There-Was-an-Old-Woman-She-Had-So-Many-Children-She-Didn’t-Know-What-to-Do</td>\n",
       "      <td>They are bad those Vargases, and how can they help it with only one mother who is tired all the time from buttoning and bottling and babying, and who cries every day for the man who left without even leaving a dollar for bologna or a note explaining how come.</td>\n",
       "      <td>-0.7506</td>\n",
       "    </tr>\n",
       "    <tr>\n",
       "      <th>47</th>\n",
       "      <td>23-Born-Bad</td>\n",
       "      <td>I hated to go there alone.</td>\n",
       "      <td>-0.7351</td>\n",
       "    </tr>\n",
       "    <tr>\n",
       "      <th>957</th>\n",
       "      <td>06-Our-Good-Day</td>\n",
       "      <td>Past my house, sad and red and crumbly in places, past Mr. Benny’s grocery on the corner, and down the avenue which is dangerous.</td>\n",
       "      <td>-0.7351</td>\n",
       "    </tr>\n",
       "    <tr>\n",
       "      <th>1189</th>\n",
       "      <td>14-Alicia-Who-Sees-Mice</td>\n",
       "      <td>Alicia, whose mama died, is sorry there is no one older to rise and make the lunchbox tortillas.</td>\n",
       "      <td>-0.7269</td>\n",
       "    </tr>\n",
       "    <tr>\n",
       "      <th>1410</th>\n",
       "      <td>10-Louie,-His-Cousin-&amp;-His-Other-Cousin</td>\n",
       "      <td>Marin screamed and we ran down the block to where the cop car’s siren spun a dizzy blue.</td>\n",
       "      <td>-0.7269</td>\n",
       "    </tr>\n",
       "    <tr>\n",
       "      <th>672</th>\n",
       "      <td>11-Marin</td>\n",
       "      <td>But next year Louie’s parents are going to send her back to her mother with a letter saying she’s too much trouble, and that is too bad because I like Marin.</td>\n",
       "      <td>-0.7227</td>\n",
       "    </tr>\n",
       "    <tr>\n",
       "      <th>1261</th>\n",
       "      <td>38-The-Monkey-Garden</td>\n",
       "      <td>When I got back Sally was pretending to be mad … something about the boys having stolen her keys.</td>\n",
       "      <td>-0.7184</td>\n",
       "    </tr>\n",
       "    <tr>\n",
       "      <th>1018</th>\n",
       "      <td>17-The-Family-of-Little-Feet</td>\n",
       "      <td>Now you know to talk to drunks is crazy and to tell them your name is worse, but who can blame her.</td>\n",
       "      <td>-0.7050</td>\n",
       "    </tr>\n",
       "  </tbody>\n",
       "</table>\n",
       "</div>"
      ],
      "text/plain": [
       "                                                                            chapter  \\\n",
       "1028                                                   17-The-Family-of-Little-Feet   \n",
       "0                                                                       23-Born-Bad   \n",
       "1305                                         22-Papa-Who-Wakes-Up-Tired-in-the-Dark   \n",
       "173                                                              12-Those-Who-Don’t   \n",
       "426   13-There-Was-an-Old-Woman-She-Had-So-Many-Children-She-Didn’t-Know-What-to-Do   \n",
       "315                                                                16-And-Some-More   \n",
       "565                                                              18-A-Rice-Sandwich   \n",
       "422   13-There-Was-an-Old-Woman-She-Had-So-Many-Children-She-Didn’t-Know-What-to-Do   \n",
       "47                                                                      23-Born-Bad   \n",
       "957                                                                 06-Our-Good-Day   \n",
       "1189                                                        14-Alicia-Who-Sees-Mice   \n",
       "1410                                        10-Louie,-His-Cousin-&-His-Other-Cousin   \n",
       "672                                                                        11-Marin   \n",
       "1261                                                           38-The-Monkey-Garden   \n",
       "1018                                                   17-The-Family-of-Little-Feet   \n",
       "\n",
       "                                                                                                                                                                                                                                                                 sentence  \\\n",
       "1028           Bum man is yelling something to the air but by now we are running fast and far away, our high heel shoes taking us all the way down the avenue and around the block, past the ugly cousins, past Mr. Benny’s, up Mango Street, the back way, just in case.   \n",
       "0                                                                                                                                                                                      Born Bad\\n\\n\\nMost likely I will go to hell and most likely I deserve to be there.   \n",
       "1305                                                                                                                                                     Papa\\n\\nWho Wakes Up\\n\\nTired\\n\\nin the Dark\\n\\n\\nYour abuelito is dead, Papa says early one morning in my room.   \n",
       "173                                                                                                                                                                                                          They are stupid people who are lost and got here by mistake.   \n",
       "426                                                                                                                                                                                    But after a while you get tired of being worried about kids who aren’t even yours.   \n",
       "315                                                                                                                                                                                                      Anita, Stella, Dennis, and Lolo …\\n\\nWho you calling ugly, ugly?   \n",
       "565                                                                                                                                                                she said, pointing to a row of ugly three-flats, the ones even the raggedy men are ashamed to go into.   \n",
       "422   They are bad those Vargases, and how can they help it with only one mother who is tired all the time from buttoning and bottling and babying, and who cries every day for the man who left without even leaving a dollar for bologna or a note explaining how come.   \n",
       "47                                                                                                                                                                                                                                             I hated to go there alone.   \n",
       "957                                                                                                                                     Past my house, sad and red and crumbly in places, past Mr. Benny’s grocery on the corner, and down the avenue which is dangerous.   \n",
       "1189                                                                                                                                                                     Alicia, whose mama died, is sorry there is no one older to rise and make the lunchbox tortillas.   \n",
       "1410                                                                                                                                                                             Marin screamed and we ran down the block to where the cop car’s siren spun a dizzy blue.   \n",
       "672                                                                                                         But next year Louie’s parents are going to send her back to her mother with a letter saying she’s too much trouble, and that is too bad because I like Marin.   \n",
       "1261                                                                                                                                                                    When I got back Sally was pretending to be mad … something about the boys having stolen her keys.   \n",
       "1018                                                                                                                                                                  Now you know to talk to drunks is crazy and to tell them your name is worse, but who can blame her.   \n",
       "\n",
       "       score  \n",
       "1028 -0.8519  \n",
       "0    -0.8442  \n",
       "1305 -0.8020  \n",
       "173  -0.7964  \n",
       "426  -0.7684  \n",
       "315  -0.7650  \n",
       "565  -0.7506  \n",
       "422  -0.7506  \n",
       "47   -0.7351  \n",
       "957  -0.7351  \n",
       "1189 -0.7269  \n",
       "1410 -0.7269  \n",
       "672  -0.7227  \n",
       "1261 -0.7184  \n",
       "1018 -0.7050  "
      ]
     },
     "execution_count": 438,
     "metadata": {},
     "output_type": "execute_result"
    }
   ],
   "source": [
    "chapter_df.sort_values(by='score')[:15]"
   ]
  },
  {
   "cell_type": "markdown",
   "metadata": {},
   "source": [
    "How would we examine the most positive 15 sentences?"
   ]
  },
  {
   "cell_type": "code",
   "execution_count": 439,
   "metadata": {},
   "outputs": [
    {
     "data": {
      "text/html": [
       "<div>\n",
       "<style scoped>\n",
       "    .dataframe tbody tr th:only-of-type {\n",
       "        vertical-align: middle;\n",
       "    }\n",
       "\n",
       "    .dataframe tbody tr th {\n",
       "        vertical-align: top;\n",
       "    }\n",
       "\n",
       "    .dataframe thead th {\n",
       "        text-align: right;\n",
       "    }\n",
       "</style>\n",
       "<table border=\"1\" class=\"dataframe\">\n",
       "  <thead>\n",
       "    <tr style=\"text-align: right;\">\n",
       "      <th></th>\n",
       "      <th>chapter</th>\n",
       "      <th>sentence</th>\n",
       "      <th>score</th>\n",
       "    </tr>\n",
       "  </thead>\n",
       "  <tbody>\n",
       "    <tr>\n",
       "      <th>1216</th>\n",
       "      <td>02-Hairs</td>\n",
       "      <td>But my mother’s hair, my mother’s hair, like little rosettes, like little candy circles all curly and pretty because she pinned it in pincurls all day, sweet to put your nose into when she is holding you, holding you and you feel safe, is the warm smell of bread before you bake it, is the smell when she makes room for you on her side of the bed still warm with her skin, and you sleep near her,...</td>\n",
       "      <td>0.9684</td>\n",
       "    </tr>\n",
       "    <tr>\n",
       "      <th>817</th>\n",
       "      <td>31-Rafaela-Who-Drinks-Coconut-&amp;-Papaya-Juice-on-Tuesdays</td>\n",
       "      <td>Rafaela who drinks and drinks coconut and papaya juice on Tuesdays and wishes there were sweeter drinks, not bitter like an empty room, but sweet sweet like the island, like the dance hall down the street where women much older than her throw green eyes easily like dice and open homes with keys.</td>\n",
       "      <td>0.9677</td>\n",
       "    </tr>\n",
       "    <tr>\n",
       "      <th>526</th>\n",
       "      <td>18-A-Rice-Sandwich</td>\n",
       "      <td>But Nenny says she doesn’t want to eat at school—ever—because she likes to go home with her best friend Gloria who lives across the schoolyard.</td>\n",
       "      <td>0.9455</td>\n",
       "    </tr>\n",
       "    <tr>\n",
       "      <th>732</th>\n",
       "      <td>32-Sally</td>\n",
       "      <td>The boys at school think she’s beautiful because her hair is shiny black like raven feathers and when she laughs, she flicks her hair back like a satin shawl over her shoulders and laughs.</td>\n",
       "      <td>0.9360</td>\n",
       "    </tr>\n",
       "    <tr>\n",
       "      <th>1001</th>\n",
       "      <td>17-The-Family-of-Little-Feet</td>\n",
       "      <td>Rachel says yes, and Lucy says yes, and yes I say, these are the best shoes.</td>\n",
       "      <td>0.9062</td>\n",
       "    </tr>\n",
       "    <tr>\n",
       "      <th>1354</th>\n",
       "      <td>05-Cathy-Queen-of-Cats</td>\n",
       "      <td>Cathy’s father will have to fly to France one day and find her great great distant grand cousin on her father’s side and inherit the family house.</td>\n",
       "      <td>0.9042</td>\n",
       "    </tr>\n",
       "    <tr>\n",
       "      <th>1327</th>\n",
       "      <td>05-Cathy-Queen-of-Cats</td>\n",
       "      <td>Cathy\\n\\nQueen of Cats\\n\\n\\nShe says, I am the great great grand cousin of the queen of France.</td>\n",
       "      <td>0.9042</td>\n",
       "    </tr>\n",
       "    <tr>\n",
       "      <th>671</th>\n",
       "      <td>11-Marin</td>\n",
       "      <td>Marin says that if she stays here next year, she’s going to get a real job downtown because that’s where the best jobs are, since you always get to look beautiful and get to wear nice clothes and can meet someone in the subway who might marry you and take you to live in a big house far away.</td>\n",
       "      <td>0.8979</td>\n",
       "    </tr>\n",
       "    <tr>\n",
       "      <th>304</th>\n",
       "      <td>16-And-Some-More</td>\n",
       "      <td>Well, there’s these already that look like shaving cream …\\n\\nAnd what about the kind that looks like you combed its hair?</td>\n",
       "      <td>0.8591</td>\n",
       "    </tr>\n",
       "    <tr>\n",
       "      <th>1206</th>\n",
       "      <td>07-Laughter</td>\n",
       "      <td>Rachel and Lucy look at me like I’m crazy, but before they can let out a laugh, Nenny says: Yes, that’s Mexico all right.</td>\n",
       "      <td>0.8591</td>\n",
       "    </tr>\n",
       "    <tr>\n",
       "      <th>390</th>\n",
       "      <td>39-Red-Clowns</td>\n",
       "      <td>He said I love you, I love you, Spanish girl.</td>\n",
       "      <td>0.8555</td>\n",
       "    </tr>\n",
       "    <tr>\n",
       "      <th>367</th>\n",
       "      <td>39-Red-Clowns</td>\n",
       "      <td>He said I love you, Spanish girl, I love you, and pressed his sour mouth to mine.</td>\n",
       "      <td>0.8555</td>\n",
       "    </tr>\n",
       "    <tr>\n",
       "      <th>1036</th>\n",
       "      <td>35-Beautiful-&amp;-Cruel</td>\n",
       "      <td>Nenny has pretty eyes and it’s easy to talk that way if you are pretty.</td>\n",
       "      <td>0.8519</td>\n",
       "    </tr>\n",
       "    <tr>\n",
       "      <th>1153</th>\n",
       "      <td>04-My-Name</td>\n",
       "      <td>She was a horse woman too, born like me in the Chinese year of the horse—which is supposed to be bad luck if you’re born female—but I think this is a Chinese lie because the Chinese, like the Mexicans, don’t like their women strong.</td>\n",
       "      <td>0.8519</td>\n",
       "    </tr>\n",
       "    <tr>\n",
       "      <th>1280</th>\n",
       "      <td>38-The-Monkey-Garden</td>\n",
       "      <td>Your son and his friends stole Sally’s keys and now they won’t give them back unless she kisses them and right now they’re making her kiss them, I said all out of breath from the three flights of stairs.</td>\n",
       "      <td>0.8481</td>\n",
       "    </tr>\n",
       "  </tbody>\n",
       "</table>\n",
       "</div>"
      ],
      "text/plain": [
       "                                                       chapter  \\\n",
       "1216                                                  02-Hairs   \n",
       "817   31-Rafaela-Who-Drinks-Coconut-&-Papaya-Juice-on-Tuesdays   \n",
       "526                                         18-A-Rice-Sandwich   \n",
       "732                                                   32-Sally   \n",
       "1001                              17-The-Family-of-Little-Feet   \n",
       "1354                                    05-Cathy-Queen-of-Cats   \n",
       "1327                                    05-Cathy-Queen-of-Cats   \n",
       "671                                                   11-Marin   \n",
       "304                                           16-And-Some-More   \n",
       "1206                                               07-Laughter   \n",
       "390                                              39-Red-Clowns   \n",
       "367                                              39-Red-Clowns   \n",
       "1036                                      35-Beautiful-&-Cruel   \n",
       "1153                                                04-My-Name   \n",
       "1280                                      38-The-Monkey-Garden   \n",
       "\n",
       "                                                                                                                                                                                                                                                                                                                                                                                                             sentence  \\\n",
       "1216  But my mother’s hair, my mother’s hair, like little rosettes, like little candy circles all curly and pretty because she pinned it in pincurls all day, sweet to put your nose into when she is holding you, holding you and you feel safe, is the warm smell of bread before you bake it, is the smell when she makes room for you on her side of the bed still warm with her skin, and you sleep near her,...   \n",
       "817                                                                                                          Rafaela who drinks and drinks coconut and papaya juice on Tuesdays and wishes there were sweeter drinks, not bitter like an empty room, but sweet sweet like the island, like the dance hall down the street where women much older than her throw green eyes easily like dice and open homes with keys.   \n",
       "526                                                                                                                                                                                                                                                                   But Nenny says she doesn’t want to eat at school—ever—because she likes to go home with her best friend Gloria who lives across the schoolyard.   \n",
       "732                                                                                                                                                                                                                      The boys at school think she’s beautiful because her hair is shiny black like raven feathers and when she laughs, she flicks her hair back like a satin shawl over her shoulders and laughs.   \n",
       "1001                                                                                                                                                                                                                                                                                                                                     Rachel says yes, and Lucy says yes, and yes I say, these are the best shoes.   \n",
       "1354                                                                                                                                                                                                                                                               Cathy’s father will have to fly to France one day and find her great great distant grand cousin on her father’s side and inherit the family house.   \n",
       "1327                                                                                                                                                                                                                                                                                                                  Cathy\\n\\nQueen of Cats\\n\\n\\nShe says, I am the great great grand cousin of the queen of France.   \n",
       "671                                                                                                              Marin says that if she stays here next year, she’s going to get a real job downtown because that’s where the best jobs are, since you always get to look beautiful and get to wear nice clothes and can meet someone in the subway who might marry you and take you to live in a big house far away.   \n",
       "304                                                                                                                                                                                                                                                                                        Well, there’s these already that look like shaving cream …\\n\\nAnd what about the kind that looks like you combed its hair?   \n",
       "1206                                                                                                                                                                                                                                                                                        Rachel and Lucy look at me like I’m crazy, but before they can let out a laugh, Nenny says: Yes, that’s Mexico all right.   \n",
       "390                                                                                                                                                                                                                                                                                                                                                                     He said I love you, I love you, Spanish girl.   \n",
       "367                                                                                                                                                                                                                                                                                                                                 He said I love you, Spanish girl, I love you, and pressed his sour mouth to mine.   \n",
       "1036                                                                                                                                                                                                                                                                                                                                          Nenny has pretty eyes and it’s easy to talk that way if you are pretty.   \n",
       "1153                                                                                                                                                                         She was a horse woman too, born like me in the Chinese year of the horse—which is supposed to be bad luck if you’re born female—but I think this is a Chinese lie because the Chinese, like the Mexicans, don’t like their women strong.   \n",
       "1280                                                                                                                                                                                                      Your son and his friends stole Sally’s keys and now they won’t give them back unless she kisses them and right now they’re making her kiss them, I said all out of breath from the three flights of stairs.   \n",
       "\n",
       "       score  \n",
       "1216  0.9684  \n",
       "817   0.9677  \n",
       "526   0.9455  \n",
       "732   0.9360  \n",
       "1001  0.9062  \n",
       "1354  0.9042  \n",
       "1327  0.9042  \n",
       "671   0.8979  \n",
       "304   0.8591  \n",
       "1206  0.8591  \n",
       "390   0.8555  \n",
       "367   0.8555  \n",
       "1036  0.8519  \n",
       "1153  0.8519  \n",
       "1280  0.8481  "
      ]
     },
     "execution_count": 439,
     "metadata": {},
     "output_type": "execute_result"
    }
   ],
   "source": [
    "chapter_df.sort_values(by='score', ascending=False)[:15]"
   ]
  },
  {
   "cell_type": "markdown",
   "metadata": {},
   "source": [
    "### Make a Plot Arc"
   ]
  },
  {
   "cell_type": "markdown",
   "metadata": {},
   "source": [
    "To create a data visualization of sentiment over the course of *The House on Mango Street*, we first need to calculate the average sentiment for each chapter."
   ]
  },
  {
   "cell_type": "code",
   "execution_count": 371,
   "metadata": {},
   "outputs": [
    {
     "data": {
      "text/plain": [
       "chapter\n",
       "01-The-House-on-Mango-Street                                                     0.041836\n",
       "02-Hairs                                                                         0.241100\n",
       "03-Boys-&-Girls                                                                  0.242573\n",
       "04-My-Name                                                                       0.127677\n",
       "05-Cathy-Queen-of-Cats                                                           0.113374\n",
       "06-Our-Good-Day                                                                  0.127275\n",
       "07-Laughter                                                                      0.313938\n",
       "08-Gil’s-Furniture-Bought-&-Sold                                                 0.112105\n",
       "09-Meme-Ortiz                                                                    0.032085\n",
       "10-Louie,-His-Cousin-&-His-Other-Cousin                                          0.067255\n",
       "11-Marin                                                                         0.143275\n",
       "12-Those-Who-Don’t                                                              -0.088660\n",
       "13-There-Was-an-Old-Woman-She-Had-So-Many-Children-She-Didn’t-Know-What-to-Do   -0.048036\n",
       "14-Alicia-Who-Sees-Mice                                                          0.037650\n",
       "15-Darius-&-the-Clouds                                                           0.122159\n",
       "16-And-Some-More                                                                 0.087000\n",
       "17-The-Family-of-Little-Feet                                                     0.209180\n",
       "18-A-Rice-Sandwich                                                               0.097951\n",
       "19-Chanclas                                                                      0.129330\n",
       "20-Hips                                                                          0.137093\n",
       "21-The-First-Job                                                                 0.103643\n",
       "22-Papa-Who-Wakes-Up-Tired-in-the-Dark                                          -0.202727\n",
       "23-Born-Bad                                                                      0.011672\n",
       "24-Elenita,-Cards,-Palm,-Water                                                   0.073752\n",
       "25-Geraldo-No-Last-Name                                                         -0.020864\n",
       "26-Edna’s-Ruthie                                                                 0.209125\n",
       "27-The-Earl-of-Tennessee                                                         0.053060\n",
       "28-Sire                                                                          0.113610\n",
       "29-Four-Skinny-Trees                                                             0.051544\n",
       "30-No-Speak-English                                                             -0.000458\n",
       "31-Rafaela-Who-Drinks-Coconut-&-Papaya-Juice-on-Tuesdays                         0.366275\n",
       "32-Sally                                                                         0.182263\n",
       "33-Minerva-Writes-Poems                                                          0.007067\n",
       "34-Bums-in-the-Attic                                                             0.011163\n",
       "35-Beautiful-&-Cruel                                                             0.100457\n",
       "36-A-Smart-Cookie                                                                0.059276\n",
       "37-What-Sally-Said                                                              -0.055325\n",
       "38-The-Monkey-Garden                                                             0.025824\n",
       "39-Red-Clowns                                                                    0.027551\n",
       "40-Linoleum-Roses                                                                0.167850\n",
       "41-The-Three-Sisters                                                             0.105905\n",
       "42-Alicia-&-I-Talking-on-Edna’s-Steps                                            0.046825\n",
       "43-A-House-of-My-Own                                                             0.065264\n",
       "44-Mango-Says-Goodbye-Sometimes                                                  0.026554\n",
       "Name: score, dtype: float64"
      ]
     },
     "execution_count": 371,
     "metadata": {},
     "output_type": "execute_result"
    }
   ],
   "source": [
    "chapter_df.groupby('chapter')['score'].mean()"
   ]
  },
  {
   "cell_type": "code",
   "execution_count": 374,
   "metadata": {},
   "outputs": [],
   "source": [
    "chapter_means = chapter_df.groupby('chapter')['score'].mean().reset_index()"
   ]
  },
  {
   "cell_type": "markdown",
   "metadata": {},
   "source": [
    "#### Bar Chart"
   ]
  },
  {
   "cell_type": "code",
   "execution_count": 431,
   "metadata": {},
   "outputs": [
    {
     "data": {
      "text/plain": [
       "<matplotlib.lines.Line2D at 0x7fb5914686d0>"
      ]
     },
     "execution_count": 431,
     "metadata": {},
     "output_type": "execute_result"
    },
    {
     "data": {
      "image/png": "[encoded data removed]",
      "text/plain": [
       "<Figure size 936x720 with 1 Axes>"
      ]
     },
     "metadata": {
      "needs_background": "light"
     },
     "output_type": "display_data"
    }
   ],
   "source": [
    "ax = chapter_means.plot(x='chapter', y='score', kind='bar',\n",
    "                        figsize=(13,10), rot=90, title='Sentiment in Mango Street')\n",
    "\n",
    "# Plot a horizontal line at 0\n",
    "plt.axhline(y=0, color='orange', linestyle='-')"
   ]
  },
  {
   "cell_type": "markdown",
   "metadata": {},
   "source": [
    "#### Line Chart"
   ]
  },
  {
   "cell_type": "code",
   "execution_count": 430,
   "metadata": {},
   "outputs": [
    {
     "data": {
      "image/png": "[encoded data removed]",
      "text/plain": [
       "<Figure size 936x720 with 1 Axes>"
      ]
     },
     "metadata": {
      "needs_background": "light"
     },
     "output_type": "display_data"
    }
   ],
   "source": [
    "ax = chapter_means.plot(x='chapter', y='score', kind='line',\n",
    "                        figsize=(13,10), rot=90, title='Sentiment in Mango Street')\n",
    "\n",
    "#Not all xtick labels will show up in a line plot by default, so we have to make it explicit\n",
    "ax.set_xticks(range(0, 44))\n",
    "ax.set_xticklabels(chapter_means['chapter'].unique())\n",
    "\n",
    "# Plot a horizontal line at 0\n",
    "plt.axhline(y=0, color='orange', linestyle='-')\n",
    "plt.show()"
   ]
  },
  {
   "cell_type": "markdown",
   "metadata": {},
   "source": [
    "### Your Turn! "
   ]
  },
  {
   "cell_type": "markdown",
   "metadata": {},
   "source": [
    "How do these plot arcs align with your reading experience of *The House on Mango Street*? Examine some specific chapters and sentences below, and discuss how well VADER seems to be working or not working."
   ]
  },
  {
   "cell_type": "markdown",
   "metadata": {},
   "source": [
    "*Note: if you want to read the sentences in order, you can use the `.sort_index()` method*"
   ]
  },
  {
   "cell_type": "code",
   "execution_count": 424,
   "metadata": {
    "scrolled": true
   },
   "outputs": [
    {
     "data": {
      "text/html": [
       "<div>\n",
       "<style scoped>\n",
       "    .dataframe tbody tr th:only-of-type {\n",
       "        vertical-align: middle;\n",
       "    }\n",
       "\n",
       "    .dataframe tbody tr th {\n",
       "        vertical-align: top;\n",
       "    }\n",
       "\n",
       "    .dataframe thead th {\n",
       "        text-align: right;\n",
       "    }\n",
       "</style>\n",
       "<table border=\"1\" class=\"dataframe\">\n",
       "  <thead>\n",
       "    <tr style=\"text-align: right;\">\n",
       "      <th></th>\n",
       "      <th>chapter</th>\n",
       "      <th>sentence</th>\n",
       "      <th>score</th>\n",
       "      <th>rolling_mean</th>\n",
       "    </tr>\n",
       "  </thead>\n",
       "  <tbody>\n",
       "    <tr>\n",
       "      <th>1305</th>\n",
       "      <td>22-Papa-Who-Wakes-Up-Tired-in-the-Dark</td>\n",
       "      <td>Papa\\n\\nWho Wakes Up\\n\\nTired\\n\\nin the Dark\\n\\n\\nYour abuelito is dead, Papa says early one morning in my room.</td>\n",
       "      <td>-0.8020</td>\n",
       "      <td>0.115703</td>\n",
       "    </tr>\n",
       "    <tr>\n",
       "      <th>1314</th>\n",
       "      <td>22-Papa-Who-Wakes-Up-Tired-in-the-Dark</td>\n",
       "      <td>I hold my Papa in my arms.</td>\n",
       "      <td>0.0000</td>\n",
       "      <td>0.102307</td>\n",
       "    </tr>\n",
       "    <tr>\n",
       "      <th>1313</th>\n",
       "      <td>22-Papa-Who-Wakes-Up-Tired-in-the-Dark</td>\n",
       "      <td>And I think if my own Papa died what would I do.</td>\n",
       "      <td>-0.5574</td>\n",
       "      <td>0.083727</td>\n",
       "    </tr>\n",
       "    <tr>\n",
       "      <th>1312</th>\n",
       "      <td>22-Papa-Who-Wakes-Up-Tired-in-the-Dark</td>\n",
       "      <td>My Papa, his thick hands and thick shoes, who wakes up tired in the dark, who combs his hair with water, drinks his coffee, and is gone before we wake, today is sitting on my bed.</td>\n",
       "      <td>-0.4404</td>\n",
       "      <td>0.057007</td>\n",
       "    </tr>\n",
       "    <tr>\n",
       "      <th>1311</th>\n",
       "      <td>22-Papa-Who-Wakes-Up-Tired-in-the-Dark</td>\n",
       "      <td>I will have to tell them to be quiet today.</td>\n",
       "      <td>0.0000</td>\n",
       "      <td>0.044967</td>\n",
       "    </tr>\n",
       "    <tr>\n",
       "      <th>1309</th>\n",
       "      <td>22-Papa-Who-Wakes-Up-Tired-in-the-Dark</td>\n",
       "      <td>Because I am the oldest, my father has told me first, and now it is my turn to tell the others.</td>\n",
       "      <td>0.0000</td>\n",
       "      <td>0.019467</td>\n",
       "    </tr>\n",
       "    <tr>\n",
       "      <th>1308</th>\n",
       "      <td>22-Papa-Who-Wakes-Up-Tired-in-the-Dark</td>\n",
       "      <td>I know he will have to go away, that he will take a plane to Mexico, all the uncles and aunts will be there, and they will have a black-and-white photo taken in front of the tomb with flowers shaped like spears in a white vase because this is how they send the dead away in that country.</td>\n",
       "      <td>-0.4215</td>\n",
       "      <td>0.005417</td>\n",
       "    </tr>\n",
       "    <tr>\n",
       "      <th>1307</th>\n",
       "      <td>22-Papa-Who-Wakes-Up-Tired-in-the-Dark</td>\n",
       "      <td>I have never seen my Papa cry and don’t know what to do.</td>\n",
       "      <td>-0.4767</td>\n",
       "      <td>-0.020340</td>\n",
       "    </tr>\n",
       "    <tr>\n",
       "      <th>1306</th>\n",
       "      <td>22-Papa-Who-Wakes-Up-Tired-in-the-Dark</td>\n",
       "      <td>Está muerto, and then as if he just heard the news himself, crumples like a coat and cries, my brave Papa cries.</td>\n",
       "      <td>0.1280</td>\n",
       "      <td>-0.016073</td>\n",
       "    </tr>\n",
       "    <tr>\n",
       "      <th>1315</th>\n",
       "      <td>22-Papa-Who-Wakes-Up-Tired-in-the-Dark</td>\n",
       "      <td>I hold and hold and hold him.</td>\n",
       "      <td>0.0000</td>\n",
       "      <td>-0.016073</td>\n",
       "    </tr>\n",
       "    <tr>\n",
       "      <th>1310</th>\n",
       "      <td>22-Papa-Who-Wakes-Up-Tired-in-the-Dark</td>\n",
       "      <td>I will have to explain why we can’t play.</td>\n",
       "      <td>0.3400</td>\n",
       "      <td>-0.004740</td>\n",
       "    </tr>\n",
       "  </tbody>\n",
       "</table>\n",
       "</div>"
      ],
      "text/plain": [
       "                                     chapter  \\\n",
       "1305  22-Papa-Who-Wakes-Up-Tired-in-the-Dark   \n",
       "1314  22-Papa-Who-Wakes-Up-Tired-in-the-Dark   \n",
       "1313  22-Papa-Who-Wakes-Up-Tired-in-the-Dark   \n",
       "1312  22-Papa-Who-Wakes-Up-Tired-in-the-Dark   \n",
       "1311  22-Papa-Who-Wakes-Up-Tired-in-the-Dark   \n",
       "1309  22-Papa-Who-Wakes-Up-Tired-in-the-Dark   \n",
       "1308  22-Papa-Who-Wakes-Up-Tired-in-the-Dark   \n",
       "1307  22-Papa-Who-Wakes-Up-Tired-in-the-Dark   \n",
       "1306  22-Papa-Who-Wakes-Up-Tired-in-the-Dark   \n",
       "1315  22-Papa-Who-Wakes-Up-Tired-in-the-Dark   \n",
       "1310  22-Papa-Who-Wakes-Up-Tired-in-the-Dark   \n",
       "\n",
       "                                                                                                                                                                                                                                                                                             sentence  \\\n",
       "1305                                                                                                                                                                                 Papa\\n\\nWho Wakes Up\\n\\nTired\\n\\nin the Dark\\n\\n\\nYour abuelito is dead, Papa says early one morning in my room.   \n",
       "1314                                                                                                                                                                                                                                                                       I hold my Papa in my arms.   \n",
       "1313                                                                                                                                                                                                                                                 And I think if my own Papa died what would I do.   \n",
       "1312                                                                                                              My Papa, his thick hands and thick shoes, who wakes up tired in the dark, who combs his hair with water, drinks his coffee, and is gone before we wake, today is sitting on my bed.   \n",
       "1311                                                                                                                                                                                                                                                      I will have to tell them to be quiet today.   \n",
       "1309                                                                                                                                                                                                  Because I am the oldest, my father has told me first, and now it is my turn to tell the others.   \n",
       "1308  I know he will have to go away, that he will take a plane to Mexico, all the uncles and aunts will be there, and they will have a black-and-white photo taken in front of the tomb with flowers shaped like spears in a white vase because this is how they send the dead away in that country.   \n",
       "1307                                                                                                                                                                                                                                         I have never seen my Papa cry and don’t know what to do.   \n",
       "1306                                                                                                                                                                                 Está muerto, and then as if he just heard the news himself, crumples like a coat and cries, my brave Papa cries.   \n",
       "1315                                                                                                                                                                                                                                                                    I hold and hold and hold him.   \n",
       "1310                                                                                                                                                                                                                                                        I will have to explain why we can’t play.   \n",
       "\n",
       "       score  rolling_mean  \n",
       "1305 -0.8020      0.115703  \n",
       "1314  0.0000      0.102307  \n",
       "1313 -0.5574      0.083727  \n",
       "1312 -0.4404      0.057007  \n",
       "1311  0.0000      0.044967  \n",
       "1309  0.0000      0.019467  \n",
       "1308 -0.4215      0.005417  \n",
       "1307 -0.4767     -0.020340  \n",
       "1306  0.1280     -0.016073  \n",
       "1315  0.0000     -0.016073  \n",
       "1310  0.3400     -0.004740  "
      ]
     },
     "execution_count": 424,
     "metadata": {},
     "output_type": "execute_result"
    }
   ],
   "source": [
    "chapter_df[chapter_df['chapter'].str.contains('Papa-Who')]"
   ]
  },
  {
   "cell_type": "markdown",
   "metadata": {},
   "source": [
    "Examine another chapter or chapters"
   ]
  },
  {
   "cell_type": "code",
   "execution_count": 302,
   "metadata": {
    "scrolled": true
   },
   "outputs": [
    {
     "data": {
      "text/html": [
       "<div>\n",
       "<style scoped>\n",
       "    .dataframe tbody tr th:only-of-type {\n",
       "        vertical-align: middle;\n",
       "    }\n",
       "\n",
       "    .dataframe tbody tr th {\n",
       "        vertical-align: top;\n",
       "    }\n",
       "\n",
       "    .dataframe thead th {\n",
       "        text-align: right;\n",
       "    }\n",
       "</style>\n",
       "<table border=\"1\" class=\"dataframe\">\n",
       "  <thead>\n",
       "    <tr style=\"text-align: right;\">\n",
       "      <th></th>\n",
       "      <th>chapter</th>\n",
       "      <th>sentence</th>\n",
       "      <th>compound_score</th>\n",
       "      <th>negative_score</th>\n",
       "    </tr>\n",
       "  </thead>\n",
       "  <tbody>\n",
       "    <tr>\n",
       "      <th>383</th>\n",
       "      <td>39-Red-Clowns</td>\n",
       "      <td>The tilt-a-whirl.</td>\n",
       "      <td>0.0000</td>\n",
       "      <td>0.000</td>\n",
       "    </tr>\n",
       "    <tr>\n",
       "      <th>384</th>\n",
       "      <td>39-Red-Clowns</td>\n",
       "      <td>The red clowns laughing their thick-tongue laugh.</td>\n",
       "      <td>0.7783</td>\n",
       "      <td>0.000</td>\n",
       "    </tr>\n",
       "    <tr>\n",
       "      <th>362</th>\n",
       "      <td>39-Red-Clowns</td>\n",
       "      <td>I waited by the red clowns, just like you said, but you never came, you never came for me.</td>\n",
       "      <td>0.1901</td>\n",
       "      <td>0.000</td>\n",
       "    </tr>\n",
       "    <tr>\n",
       "      <th>381</th>\n",
       "      <td>39-Red-Clowns</td>\n",
       "      <td>Only his dirty fingernails against my skin, only his sour smell again.</td>\n",
       "      <td>-0.4404</td>\n",
       "      <td>0.209</td>\n",
       "    </tr>\n",
       "    <tr>\n",
       "      <th>380</th>\n",
       "      <td>39-Red-Clowns</td>\n",
       "      <td>All the books and magazines, everything that told it wrong.</td>\n",
       "      <td>-0.4767</td>\n",
       "      <td>0.256</td>\n",
       "    </tr>\n",
       "    <tr>\n",
       "      <th>379</th>\n",
       "      <td>39-Red-Clowns</td>\n",
       "      <td>They all lied.</td>\n",
       "      <td>-0.3818</td>\n",
       "      <td>0.565</td>\n",
       "    </tr>\n",
       "    <tr>\n",
       "      <th>378</th>\n",
       "      <td>39-Red-Clowns</td>\n",
       "      <td>You’re a liar.</td>\n",
       "      <td>-0.5106</td>\n",
       "      <td>0.623</td>\n",
       "    </tr>\n",
       "    <tr>\n",
       "      <th>377</th>\n",
       "      <td>39-Red-Clowns</td>\n",
       "      <td>I waited my whole life.</td>\n",
       "      <td>0.0000</td>\n",
       "      <td>0.000</td>\n",
       "    </tr>\n",
       "    <tr>\n",
       "      <th>376</th>\n",
       "      <td>39-Red-Clowns</td>\n",
       "      <td>Why did you leave me all alone?</td>\n",
       "      <td>-0.2960</td>\n",
       "      <td>0.390</td>\n",
       "    </tr>\n",
       "    <tr>\n",
       "      <th>373</th>\n",
       "      <td>39-Red-Clowns</td>\n",
       "      <td>I don’t remember.</td>\n",
       "      <td>0.0000</td>\n",
       "      <td>0.000</td>\n",
       "    </tr>\n",
       "    <tr>\n",
       "      <th>368</th>\n",
       "      <td>39-Red-Clowns</td>\n",
       "      <td>Sally, make him stop.</td>\n",
       "      <td>-0.2960</td>\n",
       "      <td>0.423</td>\n",
       "    </tr>\n",
       "    <tr>\n",
       "      <th>364</th>\n",
       "      <td>39-Red-Clowns</td>\n",
       "      <td>Why didn’t you hear me when I called?</td>\n",
       "      <td>0.0000</td>\n",
       "      <td>0.000</td>\n",
       "    </tr>\n",
       "    <tr>\n",
       "      <th>366</th>\n",
       "      <td>39-Red-Clowns</td>\n",
       "      <td>The one who grabbed me by the arm, he wouldn’t let me go.</td>\n",
       "      <td>0.0000</td>\n",
       "      <td>0.000</td>\n",
       "    </tr>\n",
       "    <tr>\n",
       "      <th>367</th>\n",
       "      <td>39-Red-Clowns</td>\n",
       "      <td>He said I love you, Spanish girl, I love you, and pressed his sour mouth to mine.</td>\n",
       "      <td>0.8555</td>\n",
       "      <td>0.000</td>\n",
       "    </tr>\n",
       "    <tr>\n",
       "      <th>365</th>\n",
       "      <td>39-Red-Clowns</td>\n",
       "      <td>Why didn’t you tell them to leave me alone?</td>\n",
       "      <td>-0.2960</td>\n",
       "      <td>0.314</td>\n",
       "    </tr>\n",
       "    <tr>\n",
       "      <th>369</th>\n",
       "      <td>39-Red-Clowns</td>\n",
       "      <td>I couldn’t make them go away.</td>\n",
       "      <td>0.0000</td>\n",
       "      <td>0.000</td>\n",
       "    </tr>\n",
       "    <tr>\n",
       "      <th>370</th>\n",
       "      <td>39-Red-Clowns</td>\n",
       "      <td>I couldn’t do anything but cry.</td>\n",
       "      <td>-0.6310</td>\n",
       "      <td>0.454</td>\n",
       "    </tr>\n",
       "    <tr>\n",
       "      <th>371</th>\n",
       "      <td>39-Red-Clowns</td>\n",
       "      <td>I don’t remember.</td>\n",
       "      <td>0.0000</td>\n",
       "      <td>0.000</td>\n",
       "    </tr>\n",
       "    <tr>\n",
       "      <th>372</th>\n",
       "      <td>39-Red-Clowns</td>\n",
       "      <td>It was dark.</td>\n",
       "      <td>0.0000</td>\n",
       "      <td>0.000</td>\n",
       "    </tr>\n",
       "    <tr>\n",
       "      <th>385</th>\n",
       "      <td>39-Red-Clowns</td>\n",
       "      <td>Then the colors began to whirl.</td>\n",
       "      <td>0.0000</td>\n",
       "      <td>0.000</td>\n",
       "    </tr>\n",
       "    <tr>\n",
       "      <th>374</th>\n",
       "      <td>39-Red-Clowns</td>\n",
       "      <td>I don’t remember.</td>\n",
       "      <td>0.0000</td>\n",
       "      <td>0.000</td>\n",
       "    </tr>\n",
       "    <tr>\n",
       "      <th>386</th>\n",
       "      <td>39-Red-Clowns</td>\n",
       "      <td>Sky tipped.</td>\n",
       "      <td>0.0000</td>\n",
       "      <td>0.000</td>\n",
       "    </tr>\n",
       "    <tr>\n",
       "      <th>382</th>\n",
       "      <td>39-Red-Clowns</td>\n",
       "      <td>The moon that watched.</td>\n",
       "      <td>0.0000</td>\n",
       "      <td>0.000</td>\n",
       "    </tr>\n",
       "    <tr>\n",
       "      <th>375</th>\n",
       "      <td>39-Red-Clowns</td>\n",
       "      <td>Please don’t make me tell it all.</td>\n",
       "      <td>0.3182</td>\n",
       "      <td>0.000</td>\n",
       "    </tr>\n",
       "    <tr>\n",
       "      <th>356</th>\n",
       "      <td>39-Red-Clowns</td>\n",
       "      <td>I hold your change, wave, count how many times you go by.</td>\n",
       "      <td>0.0000</td>\n",
       "      <td>0.000</td>\n",
       "    </tr>\n",
       "    <tr>\n",
       "      <th>357</th>\n",
       "      <td>39-Red-Clowns</td>\n",
       "      <td>Those boys that look at you because you’re pretty.</td>\n",
       "      <td>0.4939</td>\n",
       "      <td>0.000</td>\n",
       "    </tr>\n",
       "    <tr>\n",
       "      <th>358</th>\n",
       "      <td>39-Red-Clowns</td>\n",
       "      <td>I like to be with you, Sally.</td>\n",
       "      <td>0.3612</td>\n",
       "      <td>0.000</td>\n",
       "    </tr>\n",
       "    <tr>\n",
       "      <th>354</th>\n",
       "      <td>39-Red-Clowns</td>\n",
       "      <td>And anyway I don’t like carnivals.</td>\n",
       "      <td>0.3612</td>\n",
       "      <td>0.000</td>\n",
       "    </tr>\n",
       "    <tr>\n",
       "      <th>353</th>\n",
       "      <td>39-Red-Clowns</td>\n",
       "      <td>I was standing by the tilt-a-whirl where you said.</td>\n",
       "      <td>0.0000</td>\n",
       "      <td>0.000</td>\n",
       "    </tr>\n",
       "    <tr>\n",
       "      <th>359</th>\n",
       "      <td>39-Red-Clowns</td>\n",
       "      <td>You’re my friend.</td>\n",
       "      <td>0.4939</td>\n",
       "      <td>0.000</td>\n",
       "    </tr>\n",
       "    <tr>\n",
       "      <th>352</th>\n",
       "      <td>39-Red-Clowns</td>\n",
       "      <td>I was waiting by the red clowns.</td>\n",
       "      <td>0.0000</td>\n",
       "      <td>0.000</td>\n",
       "    </tr>\n",
       "    <tr>\n",
       "      <th>355</th>\n",
       "      <td>39-Red-Clowns</td>\n",
       "      <td>I went to be with you because you laugh on the tilt-a-whirl, you throw your head back and laugh.</td>\n",
       "      <td>0.8020</td>\n",
       "      <td>0.000</td>\n",
       "    </tr>\n",
       "    <tr>\n",
       "      <th>348</th>\n",
       "      <td>39-Red-Clowns</td>\n",
       "      <td>What he did.</td>\n",
       "      <td>0.0000</td>\n",
       "      <td>0.000</td>\n",
       "    </tr>\n",
       "    <tr>\n",
       "      <th>349</th>\n",
       "      <td>39-Red-Clowns</td>\n",
       "      <td>Where he touched me.</td>\n",
       "      <td>0.0000</td>\n",
       "      <td>0.000</td>\n",
       "    </tr>\n",
       "    <tr>\n",
       "      <th>351</th>\n",
       "      <td>39-Red-Clowns</td>\n",
       "      <td>The way they said it, the way it’s supposed to be, all the storybooks and movies, why did you lie to me?</td>\n",
       "      <td>0.0000</td>\n",
       "      <td>0.000</td>\n",
       "    </tr>\n",
       "    <tr>\n",
       "      <th>346</th>\n",
       "      <td>39-Red-Clowns</td>\n",
       "      <td>Red Clowns\\n\\n\\nSally, you lied.</td>\n",
       "      <td>-0.3818</td>\n",
       "      <td>0.394</td>\n",
       "    </tr>\n",
       "    <tr>\n",
       "      <th>387</th>\n",
       "      <td>39-Red-Clowns</td>\n",
       "      <td>Their high black gym shoes ran.</td>\n",
       "      <td>0.0000</td>\n",
       "      <td>0.000</td>\n",
       "    </tr>\n",
       "    <tr>\n",
       "      <th>388</th>\n",
       "      <td>39-Red-Clowns</td>\n",
       "      <td>Sally, you lied, you lied.</td>\n",
       "      <td>-0.6369</td>\n",
       "      <td>0.634</td>\n",
       "    </tr>\n",
       "    <tr>\n",
       "      <th>390</th>\n",
       "      <td>39-Red-Clowns</td>\n",
       "      <td>He said I love you, I love you, Spanish girl.</td>\n",
       "      <td>0.8555</td>\n",
       "      <td>0.000</td>\n",
       "    </tr>\n",
       "    <tr>\n",
       "      <th>389</th>\n",
       "      <td>39-Red-Clowns</td>\n",
       "      <td>He wouldn’t let me go.</td>\n",
       "      <td>0.0000</td>\n",
       "      <td>0.000</td>\n",
       "    </tr>\n",
       "    <tr>\n",
       "      <th>360</th>\n",
       "      <td>39-Red-Clowns</td>\n",
       "      <td>But that big boy, where did he take you?</td>\n",
       "      <td>0.0000</td>\n",
       "      <td>0.000</td>\n",
       "    </tr>\n",
       "    <tr>\n",
       "      <th>363</th>\n",
       "      <td>39-Red-Clowns</td>\n",
       "      <td>Sally Sally a hundred times.</td>\n",
       "      <td>0.0000</td>\n",
       "      <td>0.000</td>\n",
       "    </tr>\n",
       "    <tr>\n",
       "      <th>350</th>\n",
       "      <td>39-Red-Clowns</td>\n",
       "      <td>I didn’t want it, Sally.</td>\n",
       "      <td>0.0772</td>\n",
       "      <td>0.000</td>\n",
       "    </tr>\n",
       "    <tr>\n",
       "      <th>361</th>\n",
       "      <td>39-Red-Clowns</td>\n",
       "      <td>I waited such a long time.</td>\n",
       "      <td>0.0000</td>\n",
       "      <td>0.000</td>\n",
       "    </tr>\n",
       "    <tr>\n",
       "      <th>347</th>\n",
       "      <td>39-Red-Clowns</td>\n",
       "      <td>It wasn’t what you said at all.</td>\n",
       "      <td>0.0000</td>\n",
       "      <td>0.000</td>\n",
       "    </tr>\n",
       "  </tbody>\n",
       "</table>\n",
       "</div>"
      ],
      "text/plain": [
       "           chapter  \\\n",
       "383  39-Red-Clowns   \n",
       "384  39-Red-Clowns   \n",
       "362  39-Red-Clowns   \n",
       "381  39-Red-Clowns   \n",
       "380  39-Red-Clowns   \n",
       "379  39-Red-Clowns   \n",
       "378  39-Red-Clowns   \n",
       "377  39-Red-Clowns   \n",
       "376  39-Red-Clowns   \n",
       "373  39-Red-Clowns   \n",
       "368  39-Red-Clowns   \n",
       "364  39-Red-Clowns   \n",
       "366  39-Red-Clowns   \n",
       "367  39-Red-Clowns   \n",
       "365  39-Red-Clowns   \n",
       "369  39-Red-Clowns   \n",
       "370  39-Red-Clowns   \n",
       "371  39-Red-Clowns   \n",
       "372  39-Red-Clowns   \n",
       "385  39-Red-Clowns   \n",
       "374  39-Red-Clowns   \n",
       "386  39-Red-Clowns   \n",
       "382  39-Red-Clowns   \n",
       "375  39-Red-Clowns   \n",
       "356  39-Red-Clowns   \n",
       "357  39-Red-Clowns   \n",
       "358  39-Red-Clowns   \n",
       "354  39-Red-Clowns   \n",
       "353  39-Red-Clowns   \n",
       "359  39-Red-Clowns   \n",
       "352  39-Red-Clowns   \n",
       "355  39-Red-Clowns   \n",
       "348  39-Red-Clowns   \n",
       "349  39-Red-Clowns   \n",
       "351  39-Red-Clowns   \n",
       "346  39-Red-Clowns   \n",
       "387  39-Red-Clowns   \n",
       "388  39-Red-Clowns   \n",
       "390  39-Red-Clowns   \n",
       "389  39-Red-Clowns   \n",
       "360  39-Red-Clowns   \n",
       "363  39-Red-Clowns   \n",
       "350  39-Red-Clowns   \n",
       "361  39-Red-Clowns   \n",
       "347  39-Red-Clowns   \n",
       "\n",
       "                                                                                                     sentence  \\\n",
       "383                                                                                         The tilt-a-whirl.   \n",
       "384                                                         The red clowns laughing their thick-tongue laugh.   \n",
       "362                I waited by the red clowns, just like you said, but you never came, you never came for me.   \n",
       "381                                    Only his dirty fingernails against my skin, only his sour smell again.   \n",
       "380                                               All the books and magazines, everything that told it wrong.   \n",
       "379                                                                                            They all lied.   \n",
       "378                                                                                            You’re a liar.   \n",
       "377                                                                                   I waited my whole life.   \n",
       "376                                                                           Why did you leave me all alone?   \n",
       "373                                                                                         I don’t remember.   \n",
       "368                                                                                     Sally, make him stop.   \n",
       "364                                                                     Why didn’t you hear me when I called?   \n",
       "366                                                 The one who grabbed me by the arm, he wouldn’t let me go.   \n",
       "367                         He said I love you, Spanish girl, I love you, and pressed his sour mouth to mine.   \n",
       "365                                                               Why didn’t you tell them to leave me alone?   \n",
       "369                                                                             I couldn’t make them go away.   \n",
       "370                                                                           I couldn’t do anything but cry.   \n",
       "371                                                                                         I don’t remember.   \n",
       "372                                                                                              It was dark.   \n",
       "385                                                                           Then the colors began to whirl.   \n",
       "374                                                                                         I don’t remember.   \n",
       "386                                                                                               Sky tipped.   \n",
       "382                                                                                    The moon that watched.   \n",
       "375                                                                         Please don’t make me tell it all.   \n",
       "356                                                 I hold your change, wave, count how many times you go by.   \n",
       "357                                                        Those boys that look at you because you’re pretty.   \n",
       "358                                                                             I like to be with you, Sally.   \n",
       "354                                                                        And anyway I don’t like carnivals.   \n",
       "353                                                        I was standing by the tilt-a-whirl where you said.   \n",
       "359                                                                                         You’re my friend.   \n",
       "352                                                                          I was waiting by the red clowns.   \n",
       "355          I went to be with you because you laugh on the tilt-a-whirl, you throw your head back and laugh.   \n",
       "348                                                                                              What he did.   \n",
       "349                                                                                      Where he touched me.   \n",
       "351  The way they said it, the way it’s supposed to be, all the storybooks and movies, why did you lie to me?   \n",
       "346                                                                          Red Clowns\\n\\n\\nSally, you lied.   \n",
       "387                                                                           Their high black gym shoes ran.   \n",
       "388                                                                                Sally, you lied, you lied.   \n",
       "390                                                             He said I love you, I love you, Spanish girl.   \n",
       "389                                                                                    He wouldn’t let me go.   \n",
       "360                                                                  But that big boy, where did he take you?   \n",
       "363                                                                              Sally Sally a hundred times.   \n",
       "350                                                                                  I didn’t want it, Sally.   \n",
       "361                                                                                I waited such a long time.   \n",
       "347                                                                           It wasn’t what you said at all.   \n",
       "\n",
       "     compound_score  negative_score  \n",
       "383          0.0000           0.000  \n",
       "384          0.7783           0.000  \n",
       "362          0.1901           0.000  \n",
       "381         -0.4404           0.209  \n",
       "380         -0.4767           0.256  \n",
       "379         -0.3818           0.565  \n",
       "378         -0.5106           0.623  \n",
       "377          0.0000           0.000  \n",
       "376         -0.2960           0.390  \n",
       "373          0.0000           0.000  \n",
       "368         -0.2960           0.423  \n",
       "364          0.0000           0.000  \n",
       "366          0.0000           0.000  \n",
       "367          0.8555           0.000  \n",
       "365         -0.2960           0.314  \n",
       "369          0.0000           0.000  \n",
       "370         -0.6310           0.454  \n",
       "371          0.0000           0.000  \n",
       "372          0.0000           0.000  \n",
       "385          0.0000           0.000  \n",
       "374          0.0000           0.000  \n",
       "386          0.0000           0.000  \n",
       "382          0.0000           0.000  \n",
       "375          0.3182           0.000  \n",
       "356          0.0000           0.000  \n",
       "357          0.4939           0.000  \n",
       "358          0.3612           0.000  \n",
       "354          0.3612           0.000  \n",
       "353          0.0000           0.000  \n",
       "359          0.4939           0.000  \n",
       "352          0.0000           0.000  \n",
       "355          0.8020           0.000  \n",
       "348          0.0000           0.000  \n",
       "349          0.0000           0.000  \n",
       "351          0.0000           0.000  \n",
       "346         -0.3818           0.394  \n",
       "387          0.0000           0.000  \n",
       "388         -0.6369           0.634  \n",
       "390          0.8555           0.000  \n",
       "389          0.0000           0.000  \n",
       "360          0.0000           0.000  \n",
       "363          0.0000           0.000  \n",
       "350          0.0772           0.000  \n",
       "361          0.0000           0.000  \n",
       "347          0.0000           0.000  "
      ]
     },
     "execution_count": 302,
     "metadata": {},
     "output_type": "execute_result"
    }
   ],
   "source": [
    "chapter_df[chapter_df['chapter'].str.contains('Red-Clowns')]"
   ]
  },
  {
   "cell_type": "markdown",
   "metadata": {},
   "source": [
    "- How well do you think VADER sentiment analysis works with literary texts?\n",
    "- How do social media posts and literary texts different in the way they express sentiment? (What is \"sentiment\", anyway?)\n",
    "- Could you imagine using sentiment analysis in a project? If so, how?"
   ]
  }
 ],
 "metadata": {
  "kernelspec": {
   "display_name": "Python 3",
   "language": "python",
   "name": "python3"
  },
  "language_info": {
   "codemirror_mode": {
    "name": "ipython",
    "version": 3
   },
   "file_extension": ".py",
   "mimetype": "text/x-python",
   "name": "python",
   "nbconvert_exporter": "python",
   "pygments_lexer": "ipython3",
   "version": "3.7.6"
  }
 },
 "nbformat": 4,
 "nbformat_minor": 4
}
