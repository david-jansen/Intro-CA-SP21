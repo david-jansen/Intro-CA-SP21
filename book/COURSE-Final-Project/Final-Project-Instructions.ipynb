{
 "cells": [
  {
   "cell_type": "markdown",
   "metadata": {},
   "source": [
    "## Final Project"
   ]
  },
  {
   "cell_type": "markdown",
   "metadata": {},
   "source": [
    "Due Dates:\n",
    "- [Final Project Proposal](https://docs.google.com/document/d/1Tx3gTMu1UXNK5h1sE8L-VhxGhelHhCJutqeXQJ6dxFw/edit#) due **Friday May 7** by midnight\n",
    "- Dataset Biography due **Friday May 14** by midnight\n",
    "- Final Project due **Friday May 21** by midnight"
   ]
  },
  {
   "cell_type": "markdown",
   "metadata": {},
   "source": [
    "## Let's Put It All Together!\n",
    "\n",
    "For the final project, you will apply the critical and technical skills that you've learned this semester on a topic and dataset of your choice. You are free to choose **any topic or dataset** that you want, but it must be related to culture or the humanities in some way. You can pick a dataset that we've worked with in class or one of the midterm project options, but in that case you must analyze  it from a substantially different angle.\n",
    "\n",
    "To explore a question or curiosity about this dataset, you will use **at least one of the methods** that we've learned in class — data analysis with Pandas, word frequencies, tf-idf, topic modeling, NER, network analysis, or mapping. \n",
    "\n",
    "After your **computational analysis**, you will **write a 1,000-2,000 word Medium blog post** that tells a story or makes an argument based on your results and findings.\n",
    "\n",
    "In this blog post, you will partly describe your data-driven analysis, but you will also relay what's interesting and important about the analysis to your reader. We want to encourage you to write for target audiences beyond Prof. Walsh and the TAs. Who else will find this blog post interesting? How would you write for that audience? How would you write for your friends or family?\n",
    "\n",
    "## Collaboration\n",
    "\n",
    "For the final project, you have the option of working alone or working with up to 2 partners. To find collaborators, you can post your project idea to this [Google Sheet](https://docs.google.com/spreadsheets/d/1ziQlXzihf49iaUnTlhbj3nA0YnSc1Mm7dTi-iApxPDk/edit?usp=sharing) and say how many collaborators you're looking for. If other students are interested in working with you, they can hopefully email you to connect.\n",
    "\n",
    "\n",
    "## Submission\n",
    "\n",
    "You will again publish your blog post to our [Medium course page](https://medium.com/introduction-to-cultural-analytics) ([instructions for posting are here](https://help.medium.com/hc/en-us/articles/213904978-Add-a-draft-or-post-to-publication)). Each partner will submit a Jupyter notebook to Gradescope (\"Final-Project-LASTNAME.ipynb\") that includes a link to your blog post.\n",
    "\n",
    "When you're finished with the project, you will also fill out a [self/peer evaluation](https://forms.gle/8UiDc25RQBCzytnm9) and evaluate the participation of each group member. If group members participate less than others, their grades will be adjusted to reflect this contribution."
   ]
  },
  {
   "cell_type": "markdown",
   "metadata": {},
   "source": [
    "## Final Project Proposal (10 points)"
   ]
  },
  {
   "cell_type": "markdown",
   "metadata": {},
   "source": [
    "Due **Friday May 7** by midnight"
   ]
  },
  {
   "cell_type": "markdown",
   "metadata": {},
   "source": [
    "Please fill out your Final Project Proposal in this [Google Doc](https://docs.google.com/document/d/1Tx3gTMu1UXNK5h1sE8L-VhxGhelHhCJutqeXQJ6dxFw/edit?usp=sharing)"
   ]
  },
  {
   "cell_type": "markdown",
   "metadata": {},
   "source": [
    "|Criteria | Points|\n",
    "|----------|--------|\n",
    "|Abstract: Project idea is manageable and interesting | 2 points |\n",
    "| Target Audience: Two potential target audiences are identified | 2 points |\n",
    "|Methods: Methods are appropriate for the project idea | 2 points |\n",
    "| Dataset and Data Access/Collection: Plan articulated for preparing dataset, including second choice if necessary | 3 points |\n",
    "| Shared: Proposal shared in [Google doc](https://docs.google.com/document/d/1Tx3gTMu1UXNK5h1sE8L-VhxGhelHhCJutqeXQJ6dxFw/edit?usp=sharing) | 1 point |\n",
    "| **Total** | **10 points** |"
   ]
  },
  {
   "cell_type": "markdown",
   "metadata": {},
   "source": [
    "## Dataset Biography (10 points)"
   ]
  },
  {
   "cell_type": "markdown",
   "metadata": {},
   "source": [
    "Due **Friday May 14** by midnight  \n",
    "\n",
    "You will upload the dataset that you're planning to work with to Canvas along with a short dataset biography."
   ]
  },
  {
   "cell_type": "markdown",
   "metadata": {},
   "source": [
    "|Criteria | Points|\n",
    "|----------|--------|\n",
    "| Where did the data come from? | 1 point |\n",
    "| Who collected the data? | 1 point |\n",
    "| How/why was the data collected? | 1 point |\n",
    "| How much data is there? | 1 point |\n",
    "| Limitations/problems with the data? | 1 point |\n",
    "| Ethical considerations of the data? | 1 point |\n",
    "| Further cleaning/preparation plans | 1 point |\n",
    "| Uploaded a dataset to Canvas | 3 point |\n",
    "| **Total** | **10 points** |"
   ]
  },
  {
   "cell_type": "markdown",
   "metadata": {},
   "source": [
    "## Final Project (80 points)"
   ]
  },
  {
   "cell_type": "markdown",
   "metadata": {},
   "source": [
    "### Computational Analysis (35 points)"
   ]
  },
  {
   "cell_type": "markdown",
   "metadata": {},
   "source": [
    "You will perform a computational analysis on your dataset of choice in a Jupyter notebook. You have a lot of free rein with this Jupyter notebook, but here are the requirements:\n",
    "- You must prepare/clean/examine your data in some way\n",
    "- You must apply at least one method to the data\n",
    "- You must zoom in on a specific example\n",
    "- You must provide documentation of your code through Markdown text and in-code comments"
   ]
  },
  {
   "cell_type": "markdown",
   "metadata": {},
   "source": [
    "|Criteria | Points|\n",
    "|----------|--------|\n",
    "| Data is prepared/cleaned/examined thoroughly. Student(s) identifies general patterns, potential outliers, or problems with the data. | 10 points |\n",
    "| At least one of the methods learned in class — data analysis with Pandas, word frequencies, tf-idf, topic modeling, NER, network analysis, or mapping — is applied appropriately. Student(s) demonstrate command of method.  | 10 points |\n",
    "| Student uses the method(s) to zoom in on specific examples that help shed light on larger patterns. | 5 points |\n",
    "| The code is well-written, readable, and organized. Student uses Python correctly and approriately.  | 5 points |\n",
    "| Student includes Markdown text and in-code comments to describe sections of the code. | 5 points |\n",
    "| **Total** | **35 points** |"
   ]
  },
  {
   "cell_type": "markdown",
   "metadata": {},
   "source": [
    "### Blog Post (35 points)"
   ]
  },
  {
   "cell_type": "markdown",
   "metadata": {},
   "source": [
    "You will author/co-author a 1,000-2,000 word blog post about your analysis and the most interesting results or findings.\n",
    "\n",
    "In this blog post, you will partly describe your data-driven analysis, but you will also relay what's interesting and important about the analysis to your reader. We want to encourage you to write for target audiences beyond Prof. Walsh and the TAs. Who else will find this blog post interesting? How would you write for that audience? How would you write for your friends or family?"
   ]
  },
  {
   "cell_type": "markdown",
   "metadata": {},
   "source": [
    "|Blog Post Criteria | Points|\n",
    "|----------|--------|\n",
    "|You introduce the main question, topic, or idea that you are exploring in the blog post | 4 points |\n",
    "|You introduce the dataset that you used for your analysis, including who collected/curated the data and what's included in the data | 3 points |\n",
    "|You mention what is missing from the data and any possible ethical considerations or concerns | 3 points |\n",
    "|You briefly describe the computational method that you're using and why you've chosen to use it | 3 points |\n",
    "| You present your main finding or insight, ideally with quantitative evidence | 5 points |\n",
    "| You include a data viz/plot from your analysis OR another related image, and you sufficiently introduce and describe it in the blog post | 5 points |\n",
    "| You zoom in on a specific example (a specific movie, book, song, NBA player, etc.) | 6 points |\n",
    "| You address a possible direction for future work | 3 points |\n",
    "| Your writing contains nearly perfect grammar and spelling, few if any typos | 3 points |\n",
    "| **Total** | **35 points** |"
   ]
  },
  {
   "cell_type": "markdown",
   "metadata": {},
   "source": [
    "### Self/Peer Evaluation (5 points)"
   ]
  },
  {
   "cell_type": "markdown",
   "metadata": {},
   "source": [
    "Student fills out [self/peer evaluation](https://forms.gle/8UiDc25RQBCzytnm9) on time (by May 21 at midnight) and in a thoughtful manner."
   ]
  },
  {
   "cell_type": "markdown",
   "metadata": {},
   "source": [
    "|Blog Post Criteria | Points|\n",
    "|----------|--------|\n",
    "| Student fills out self/peer evaluation on time (by May 21 at midnight) and in a thoughtful manner. | 5 points |\n",
    "| **Total** | **5 points** |"
   ]
  },
  {
   "cell_type": "markdown",
   "metadata": {},
   "source": [
    "### Creativity and Ambition (5 points)"
   ]
  },
  {
   "cell_type": "markdown",
   "metadata": {},
   "source": [
    "We value creativity and ambition!"
   ]
  },
  {
   "cell_type": "markdown",
   "metadata": {},
   "source": [
    "|Blog Post Criteria | Points|\n",
    "|----------|--------|\n",
    "| Student(s) demonstrates creativity and/or ambition in the final project. This might include but is not limited to: collecting a dataset of their choice, developing a unique or ambitious research question, or using a creative writing style in the final blog post | 5 points |\n",
    "| **Total** | **5 points** |"
   ]
  },
  {
   "cell_type": "markdown",
   "metadata": {},
   "source": [
    "## Previous Student Examples\n",
    "\n",
    "For the final project, students in previous semesters have:\n",
    "- analyzed the fluctuation of curse words in a band's album lyrics over time\n",
    "- examined the character network of the TV show *Avatar: The Last Airbender*\n",
    "- created an interactive map of hospitals in the U.S. in order to explore the lack of hospital access on Indian reservations\n",
    "- analyzed how Donald Trump's Inaugural address compared to other U.S. Presidents'"
   ]
  }
 ],
 "metadata": {
  "kernelspec": {
   "display_name": "Python 3",
   "language": "python",
   "name": "python3"
  },
  "language_info": {
   "codemirror_mode": {
    "name": "ipython",
    "version": 3
   },
   "file_extension": ".py",
   "mimetype": "text/x-python",
   "name": "python",
   "nbconvert_exporter": "python",
   "pygments_lexer": "ipython3",
   "version": "3.7.6"
  }
 },
 "nbformat": 4,
 "nbformat_minor": 4
}
