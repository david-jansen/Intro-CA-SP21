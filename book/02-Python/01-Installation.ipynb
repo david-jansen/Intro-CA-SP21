{
 "cells": [
  {
   "cell_type": "markdown",
   "metadata": {},
   "source": [
    "# Installation"
   ]
  },
  {
   "cell_type": "markdown",
   "metadata": {},
   "source": [
    "## Installing Anaconda"
   ]
  },
  {
   "cell_type": "markdown",
   "metadata": {},
   "source": [
    "We're going to install Python by installing something called Anaconda. Anaconda is a Python distribution that includes many other convenient packages, such as Jupyter Notebooks and JupyterLab. It also helps to keep your Python environment clean and well-managed."
   ]
  },
  {
   "cell_type": "markdown",
   "metadata": {},
   "source": [
    "### Step 1\n",
    "\n",
    "Go to the [Anaconda installation page](https://docs.anaconda.com/anaconda/install/), find your operating system, and follow the instructions.\n",
    "\n",
    "Anaconda will ask whether you want to add Anaconda to your PATH environment variable. Your PATH variable is like an invisible traveling directory. It contains a list of file paths that you can easily access from any place on your computer. By adding Anaconda to your PATH, you will be able to launch JupyterLab from the command line. For more information about the PATH, see [The Launch School's explanation](https://launchschool.com/books/command_line/read/environment#path).\n",
    "\n",
    "<img src=\"https://docs.anaconda.com/_images/win-install-options.png\">\n",
    "\n",
    "### Step 2\n",
    "\n",
    "Verify your installation: [https://docs.anaconda.com/anaconda/install/verify-install/](https://docs.anaconda.com/anaconda/install/verify-install/)\n",
    "\n",
    "### Step 3\n",
    "Open Anaconda Navigator. You can find it by searching through your applications."
   ]
  },
  {
   "cell_type": "markdown",
   "metadata": {},
   "source": [
    "<img src=\"../images/installation/navigator-search.png\"  >\n",
    "<img src=\"../images/installation/navigator-app.png\" >"
   ]
  },
  {
   "cell_type": "markdown",
   "metadata": {},
   "source": [
    "<img src=\"https://docs.anaconda.com/_images/nav-defaults.png\" widht=100%>"
   ]
  },
  {
   "cell_type": "markdown",
   "metadata": {},
   "source": [
    "### Step 4\n",
    "\n",
    "Launch Jupyter Lab.\n",
    "\n",
    "### Command Line Option\n",
    "\n",
    "If Anaconda is added to your PATH, you should be able to launch JupyterLab from the command line (without Anaconda Navigator)."
   ]
  },
  {
   "cell_type": "code",
   "execution_count": null,
   "metadata": {
    "tags": [
     "command_line"
    ]
   },
   "outputs": [],
   "source": [
    "%jupyter lab"
   ]
  },
  {
   "cell_type": "markdown",
   "metadata": {},
   "source": [
    "## Installing VSCode"
   ]
  },
  {
   "cell_type": "markdown",
   "metadata": {},
   "source": [
    "Though we're mostly going to be programming in Jupyter notebooks, we're also going to install a code editor called VSCode, where you can also write, edit, and test Python code."
   ]
  },
  {
   "cell_type": "markdown",
   "metadata": {},
   "source": [
    "### Step 1\n",
    "\n",
    "Go to [VSCode's home page](https://code.visualstudio.com/), click download (it should know which OS you're using), and follow the instructions.\n",
    "\n",
    "### Step 2\n",
    "\n",
    "Install Python extension (it may automatically prompt you to install the Python extension)"
   ]
  },
  {
   "cell_type": "code",
   "execution_count": 9,
   "metadata": {
    "tags": [
     "hide-input"
    ]
   },
   "outputs": [
    {
     "data": {
      "text/html": [
       "\n",
       "        <iframe\n",
       "            width=\"100%\"\n",
       "            height=\"400px\"\n",
       "            src=\"../videos/VSCode-Tutorial.mp4\"\n",
       "            frameborder=\"0\"\n",
       "            allowfullscreen\n",
       "        ></iframe>\n",
       "        "
      ],
      "text/plain": [
       "<IPython.lib.display.IFrame at 0x7fad52d82210>"
      ]
     },
     "execution_count": 9,
     "metadata": {},
     "output_type": "execute_result"
    }
   ],
   "source": [
    "from IPython.display import IFrame\n",
    "IFrame(\"../videos/VSCode-Tutorial.mp4\", width='100%', height='400px')"
   ]
  },
  {
   "cell_type": "markdown",
   "metadata": {},
   "source": [
    "## Installing [Variable Inspector](https://github.com/lckr/jupyterlab-variableInspector#install)"
   ]
  },
  {
   "cell_type": "markdown",
   "metadata": {},
   "source": [
    "We're going to install a special extension for Jupyter Lab, Variable Inspector, which will allow us to view the currently active Python variables in our Jupyter notebooks.\n",
    "\n",
    "To install Variable Inspector, please open your Terminal or Powershell and enter the following (remember that you don't need the exclamation point if you're not in a Jupyter notebook):"
   ]
  },
  {
   "cell_type": "code",
   "execution_count": null,
   "metadata": {
    "tags": [
     "command_line"
    ]
   },
   "outputs": [],
   "source": [
    "!pip install lckr-jupyterlab-variableinspector"
   ]
  },
  {
   "cell_type": "markdown",
   "metadata": {},
   "source": [
    "Then restart your Jupyter Lab application."
   ]
  },
  {
   "cell_type": "markdown",
   "metadata": {},
   "source": [
    "To use Variable Inspector, right-click in a Jupyter notebook and select \"Open Variable Inspector.\" You can drag and drop it to the bottom of your screen for convenience. "
   ]
  },
  {
   "cell_type": "code",
   "execution_count": 7,
   "metadata": {
    "tags": [
     "hide-input"
    ]
   },
   "outputs": [
    {
     "data": {
      "text/html": [
       "\n",
       "        <iframe\n",
       "            width=\"100%\"\n",
       "            height=\"400px\"\n",
       "            src=\"../videos/Variable-Inspector-Demo.mp4\"\n",
       "            frameborder=\"0\"\n",
       "            allowfullscreen\n",
       "        ></iframe>\n",
       "        "
      ],
      "text/plain": [
       "<IPython.lib.display.IFrame at 0x7fad515bb090>"
      ]
     },
     "execution_count": 7,
     "metadata": {},
     "output_type": "execute_result"
    }
   ],
   "source": [
    "from IPython.display import IFrame\n",
    "IFrame(\"../videos/Variable-Inspector-Demo.mp4\", width='100%', height='400px')"
   ]
  }
 ],
 "metadata": {
  "kernelspec": {
   "display_name": "Python 3",
   "language": "python",
   "name": "python3"
  },
  "language_info": {
   "codemirror_mode": {
    "name": "ipython",
    "version": 3
   },
   "file_extension": ".py",
   "mimetype": "text/x-python",
   "name": "python",
   "nbconvert_exporter": "python",
   "pygments_lexer": "ipython3",
   "version": "3.7.6"
  },
  "toc-autonumbering": false,
  "toc-showcode": true,
  "toc-showmarkdowntxt": false,
  "toc-showtags": true
 },
 "nbformat": 4,
 "nbformat_minor": 4
}
