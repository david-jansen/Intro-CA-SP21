{
 "cells": [
  {
   "cell_type": "markdown",
   "metadata": {},
   "source": [
    "# Twarc as Python Library"
   ]
  },
  {
   "cell_type": "markdown",
   "metadata": {},
   "source": [
    "Though I recommend collecting tweets from the command line, you can also use twarc as a Python library and run it in a Jupyter notebook. To import twarc, run `from twarc import Twarc` (as in the cell below). We're also going to import a library called JSON to help us output a JSON file."
   ]
  },
  {
   "cell_type": "code",
   "execution_count": 1,
   "metadata": {},
   "outputs": [],
   "source": [
    "from twarc import Twarc\n",
    "import json"
   ]
  },
  {
   "cell_type": "markdown",
   "metadata": {},
   "source": [
    "## Configure Twarc"
   ]
  },
  {
   "cell_type": "markdown",
   "metadata": {},
   "source": [
    "To use Twarc as a Python library, you'll once again need to configure twarc with your [API keys](https://developer.twitter.com/en/apps) (\\*sigh\\*). Copy and paste them into the quotation marks below."
   ]
  },
  {
   "cell_type": "code",
   "execution_count": 44,
   "metadata": {},
   "outputs": [],
   "source": [
    "consumer_key= \"\"\n",
    "consumer_secret = \"\"\n",
    "access_token = \"\"\n",
    "access_token_secret= \"\""
   ]
  },
  {
   "cell_type": "markdown",
   "metadata": {},
   "source": [
    "Quick tip! If you've already set up your Twitter API keys with `twarc configure`, you can find your API keys by running `open ~/.twarc` (Mac/Chrome OS) from the command line or using the code below (Mac/Chrome OS/Windows):"
   ]
  },
  {
   "cell_type": "markdown",
   "metadata": {},
   "source": [
    " Mac/Chrome OS"
   ]
  },
  {
   "cell_type": "code",
   "execution_count": 2,
   "metadata": {},
   "outputs": [],
   "source": [
    "!open ~/.twarc"
   ]
  },
  {
   "cell_type": "markdown",
   "metadata": {},
   "source": [
    " Mac/Chrome OS <img src=https://upload.wikimedia.org/wikipedia/commons/thumb/3/34/Windows_logo_-_2012_derivative.svg/1024px-Windows_logo_-_2012_derivative.svg.png width=20 align='center-left' > Windows "
   ]
  },
  {
   "cell_type": "code",
   "execution_count": null,
   "metadata": {},
   "outputs": [],
   "source": [
    "import os\n",
    "config_filename = os.path.join(os.path.expanduser(\"~\"), \".twarc\")\n",
    "print(open(config_filename).read())"
   ]
  },
  {
   "cell_type": "markdown",
   "metadata": {},
   "source": [
    "These commands will open/print the \".twarc\" document that hosts your API keys, and you can simply copy and paste the correct information into the variables in the cell above, then run the cell below."
   ]
  },
  {
   "cell_type": "code",
   "execution_count": 45,
   "metadata": {},
   "outputs": [],
   "source": [
    "twarc = Twarc(consumer_key, consumer_secret, access_token, access_token_secret)"
   ]
  },
  {
   "cell_type": "markdown",
   "metadata": {},
   "source": [
    "## Make Live Tweet Collection Function"
   ]
  },
  {
   "cell_type": "markdown",
   "metadata": {},
   "source": [
    "Below I've written a Python function called `collect_live_tweets()` that uses `twarc.filter()`. This function accepts a search query, the number of tweets that you want to collect, and a filename with a .jsonl extension. This function will output your Twitter data to a file with this filename."
   ]
  },
  {
   "cell_type": "code",
   "execution_count": 63,
   "metadata": {},
   "outputs": [],
   "source": [
    "def collect_live_tweets(search_query, number_of_desired_tweets, filename):    \n",
    "    \n",
    "    twarc = Twarc(consumer_key, consumer_secret, access_token, access_token_secret)\n",
    "\n",
    "    tweets = []\n",
    "    with open(filename, 'w', encoding='utf-8') as outfile:\n",
    "        for tweet in twarc.filter(search_query):\n",
    "            if len(tweets) < number_of_desired_tweets:\n",
    "                tweets.append(tweet)\n",
    "                json.dump(tweet, outfile)\n",
    "                outfile.write('\\n')\n",
    "            else:\n",
    "                break\n",
    "    return"
   ]
  },
  {
   "cell_type": "markdown",
   "metadata": {},
   "source": [
    "## Run Live Tweet Collection Function"
   ]
  },
  {
   "cell_type": "code",
   "execution_count": 52,
   "metadata": {},
   "outputs": [],
   "source": [
    "collect_live_tweets(\"coronavirus\", 100, \"coronavirus_filter.jsonl\")"
   ]
  },
  {
   "cell_type": "markdown",
   "metadata": {},
   "source": [
    "Below I've written a Python function called `collect_past_tweets()` that uses `twarc.search()`. This function accepts a search query, the maximum number of tweets that you want to collect, and a filename with a .jsonl extension. This function will output your Twitter data to a file with this filename. "
   ]
  },
  {
   "cell_type": "markdown",
   "metadata": {},
   "source": [
    "## Make Past Tweet Collection Function"
   ]
  },
  {
   "cell_type": "code",
   "execution_count": 57,
   "metadata": {},
   "outputs": [],
   "source": [
    "def collect_past_tweets(search_query, number_of_max_tweets, filename):    \n",
    "    \n",
    "    twarc = Twarc(consumer_key, consumer_secret, access_token, access_token_secret)\n",
    "\n",
    "    tweets = []\n",
    "    with open(filename, 'w', encoding='utf-8') as outfile:\n",
    "        for tweet in twarc.search(search_query):\n",
    "            if len(tweets) < number_of_max_tweets:\n",
    "                tweets.append(tweet)\n",
    "                json.dump(tweet, outfile)\n",
    "                outfile.write('\\n')\n",
    "            else:\n",
    "                break\n",
    "    return"
   ]
  },
  {
   "cell_type": "markdown",
   "metadata": {},
   "source": [
    "## Run Past Tweet Collection Function"
   ]
  },
  {
   "cell_type": "code",
   "execution_count": 60,
   "metadata": {},
   "outputs": [],
   "source": [
    "collect_past_tweets(\"coronavirus\", 1000, \"coronavirus_search.jsonl\")"
   ]
  },
  {
   "cell_type": "code",
   "execution_count": 69,
   "metadata": {},
   "outputs": [],
   "source": [
    "collect_past_tweets(\"\\\"not with a bang but with a\\\"\", 1000, \"bang.jsonl\")"
   ]
  },
  {
   "cell_type": "code",
   "execution_count": 71,
   "metadata": {},
   "outputs": [],
   "source": [
    "collect_past_tweets(\"touch my face min_retweets:10\", 2000, \"face.jsonl\")"
   ]
  },
  {
   "cell_type": "markdown",
   "metadata": {},
   "source": [
    "  "
   ]
  }
 ],
 "metadata": {
  "kernelspec": {
   "display_name": "Python 3",
   "language": "python",
   "name": "python3"
  },
  "language_info": {
   "codemirror_mode": {
    "name": "ipython",
    "version": 3
   },
   "file_extension": ".py",
   "mimetype": "text/x-python",
   "name": "python",
   "nbconvert_exporter": "python",
   "pygments_lexer": "ipython3",
   "version": "3.7.6"
  }
 },
 "nbformat": 4,
 "nbformat_minor": 4
}
