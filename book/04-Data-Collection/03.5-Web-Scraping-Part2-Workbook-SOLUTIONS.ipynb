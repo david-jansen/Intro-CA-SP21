{
 "cells": [
  {
   "cell_type": "markdown",
   "metadata": {},
   "source": [
    "# Web Scraping — Part 2 — Workbook Solutions"
   ]
  },
  {
   "cell_type": "markdown",
   "metadata": {},
   "source": [
    "*Don't forget to rename this notebook if you want to save changes!*"
   ]
  },
  {
   "cell_type": "markdown",
   "metadata": {},
   "source": [
    "In this lesson, we're going to introduce how to scrape multiple web pages from the internet with the Python libraries requests and BeautifulSoup."
   ]
  },
  {
   "cell_type": "markdown",
   "metadata": {},
   "source": [
    "---"
   ]
  },
  {
   "cell_type": "markdown",
   "metadata": {},
   "source": [
    "## Quick Demonstration of Image Scraping — NYT Front Page"
   ]
  },
  {
   "cell_type": "markdown",
   "metadata": {},
   "source": [
    "### Import Requests and BeautifulSoup"
   ]
  },
  {
   "cell_type": "markdown",
   "metadata": {},
   "source": [
    "Once again, we're going to use the `requests` library and the `BeautifulSoup` library to scrape data."
   ]
  },
  {
   "cell_type": "code",
   "execution_count": 1,
   "metadata": {},
   "outputs": [],
   "source": [
    "import requests\n",
    "from bs4 import BeautifulSoup"
   ]
  },
  {
   "cell_type": "markdown",
   "metadata": {},
   "source": [
    "### Get HTML Data and Extract Text"
   ]
  },
  {
   "cell_type": "markdown",
   "metadata": {},
   "source": [
    "*The New York Times* Front Page: https://nytimes.com"
   ]
  },
  {
   "cell_type": "markdown",
   "metadata": {},
   "source": [
    "Here we're going to request the url for *The New York Times* front page, extract the text of the web page, then transform it into BeautifulSoup document."
   ]
  },
  {
   "cell_type": "code",
   "execution_count": 2,
   "metadata": {},
   "outputs": [],
   "source": [
    "response = requests.get(\"https://nytimes.com\")\n",
    "html_string = response.text\n",
    "document = BeautifulSoup(html_string, \"html.parser\")"
   ]
  },
  {
   "cell_type": "markdown",
   "metadata": {},
   "source": [
    "Here we search through the HTML code to find all the `<img>` tags:"
   ]
  },
  {
   "cell_type": "code",
   "execution_count": 3,
   "metadata": {
    "scrolled": true
   },
   "outputs": [
    {
     "data": {
      "text/plain": [
       "[<img alt=\"\" decoding=\"async\" src=\"https://static01.nyt.com/images/2017/01/29/podcasts/the-daily-album-art/the-daily-album-art-square320-v4.png\"/>,\n",
       " <img alt=\"\" decoding=\"async\" src=\"https://static01.nyt.com/images/2021/02/11/podcasts/00argument-albumart/00argument-albumart-square320.png\"/>,\n",
       " <img alt=\"\" decoding=\"async\" src=\"https://static01.nyt.com/images/2021/03/31/insider/event-bar/event-bar-square640.png?quality=75&amp;auto=webp&amp;disable=upscale&amp;width=350\"/>,\n",
       " <img class=\"desktop\" src=\"https://static01.nyt.com/images/2020/07/21/us/cases_orphan_usa-1595349567192/cases_orphan_usa-1595349567192-master1050-v834.png\"/>,\n",
       " <img class=\"mobile\" src=\"https://static01.nyt.com/images/2020/07/21/us/cases_orphan_usa-1595349567192/cases_orphan_usa-1595349567192-square640-v1659.png\"/>,\n",
       " <img src=\"https://static01.nyt.com/images/2021/04/01/homepage/PM-virus-fader-update-slide-JCQZ/PM-virus-fader-update-slide-JCQZ-master1050.jpg\"/>,\n",
       " <img src=\"https://static01.nyt.com/images/2021/04/01/homepage/PM-virus-fader-update-slide-JCQZ/PM-virus-fader-update-slide-JCQZ-square640.jpg\"/>,\n",
       " <img src=\"https://static01.nyt.com/images/2021/04/01/homepage/PM-virus-fader-update-slide-QHJS/PM-virus-fader-update-slide-QHJS-master1050.jpg\"/>,\n",
       " <img src=\"https://static01.nyt.com/images/2021/04/01/homepage/PM-virus-fader-update-slide-QHJS/PM-virus-fader-update-slide-QHJS-square640.jpg\"/>,\n",
       " <img src=\"https://static01.nyt.com/images/2021/04/01/homepage/PM-virus-fader-update-slide-2NOK/PM-virus-fader-update-slide-2NOK-master1050.jpg\"/>,\n",
       " <img src=\"https://static01.nyt.com/images/2021/04/01/homepage/PM-virus-fader-update-slide-2NOK/PM-virus-fader-update-slide-2NOK-square640.jpg\"/>,\n",
       " <img src=\"https://static01.nyt.com/images/2021/04/01/homepage/PM-virus-fader-update-slide-UMJT/PM-virus-fader-update-slide-UMJT-master1050.jpg\"/>,\n",
       " <img src=\"https://static01.nyt.com/images/2021/04/01/homepage/PM-virus-fader-update-slide-UMJT/PM-virus-fader-update-slide-UMJT-square640.jpg\"/>,\n",
       " <img src=\"https://static01.nyt.com/images/2021/04/01/homepage/PM-virus-fader-update-slide-5GAV/PM-virus-fader-update-slide-5GAV-master1050.jpg\"/>,\n",
       " <img src=\"https://static01.nyt.com/images/2021/04/01/homepage/PM-virus-fader-update-slide-5GAV/PM-virus-fader-update-slide-5GAV-square640.jpg\"/>,\n",
       " <img src=\"https://static01.nyt.com/images/2021/04/01/homepage/PM-virus-fader-update-slide-48H1/PM-virus-fader-update-slide-48H1-master1050.jpg\"/>,\n",
       " <img src=\"https://static01.nyt.com/images/2021/04/01/homepage/PM-virus-fader-update-slide-48H1/PM-virus-fader-update-slide-48H1-square640.jpg\"/>,\n",
       " <img src=\"https://static01.nyt.com/images/2021/04/01/homepage/PM-virus-fader-update-slide-V603/PM-virus-fader-update-slide-V603-master1050.jpg\"/>,\n",
       " <img src=\"https://static01.nyt.com/images/2021/04/01/homepage/PM-virus-fader-update-slide-V603/PM-virus-fader-update-slide-V603-square640.jpg\"/>,\n",
       " <img src=\"https://static01.nyt.com/images/2021/04/01/homepage/PM-virus-fader-update-slide-VC94/PM-virus-fader-update-slide-VC94-master1050.jpg\"/>,\n",
       " <img src=\"https://static01.nyt.com/images/2021/04/01/homepage/PM-virus-fader-update-slide-VC94/PM-virus-fader-update-slide-VC94-square640.jpg\"/>,\n",
       " <img src=\"https://static01.nyt.com/images/2021/04/01/homepage/PM-virus-fader-update-slide-38H0/PM-virus-fader-update-slide-38H0-master1050.jpg\"/>,\n",
       " <img src=\"https://static01.nyt.com/images/2021/04/01/homepage/PM-virus-fader-update-slide-38H0/PM-virus-fader-update-slide-38H0-square640.jpg\"/>,\n",
       " <img alt=\"US coronavirus cases\" class=\"svelte-zl0f6y\" src=\"https://static01.nyt.com/newsgraphics/2020/03/16/coronavirus-maps/8c96f04c6de658a5d841582ab5d0dcbae9109438/images/orphan_usa-threeByTwoSmallAt2X.png\"/>,\n",
       " <img alt=\"Worldwide coronavirus cases\" class=\"svelte-zl0f6y\" src=\"https://static01.nyt.com/newsgraphics/2020/03/16/coronavirus-maps/8c96f04c6de658a5d841582ab5d0dcbae9109438/images/orphan_world-threeByTwoSmallAt2X.png\"/>,\n",
       " <img alt=\"Where states are reporting vaccines given\" class=\"svelte-zl0f6y\" src=\"https://static01.nytimes.com/newsgraphics/2020/12/09/vaccine-distribution-tracker/assets/scoop-vaccine-distribution-tracker-threeByTwoSmallAt2X.png\"/>,\n",
       " <img alt=\"US coronavirus cases\" class=\"svelte-zl0f6y\" src=\"https://static01.nyt.com/newsgraphics/2020/03/16/coronavirus-maps/8c96f04c6de658a5d841582ab5d0dcbae9109438/images/orphan_usa-threeByTwoSmallAt2X.png\"/>,\n",
       " <img alt=\"Worldwide coronavirus cases\" class=\"svelte-zl0f6y\" src=\"https://static01.nyt.com/newsgraphics/2020/03/16/coronavirus-maps/8c96f04c6de658a5d841582ab5d0dcbae9109438/images/orphan_world-threeByTwoSmallAt2X.png\"/>,\n",
       " <img alt=\"Vaccine tracker\" class=\"svelte-zl0f6y\" src=\"https://static01.nyt.com/newsgraphics/2020/03/16/coronavirus-maps/8c96f04c6de658a5d841582ab5d0dcbae9109438/images/footer-thumbs/vaccines.png\"/>,\n",
       " <img alt=\"US coronavirus cases\" class=\"svelte-zl0f6y\" src=\"https://static01.nyt.com/newsgraphics/2020/03/16/coronavirus-maps/8c96f04c6de658a5d841582ab5d0dcbae9109438/images/orphan_usa-threeByTwoSmallAt2X.png\"/>,\n",
       " <img alt=\"Worldwide coronavirus cases\" class=\"svelte-zl0f6y\" src=\"https://static01.nyt.com/newsgraphics/2020/03/16/coronavirus-maps/8c96f04c6de658a5d841582ab5d0dcbae9109438/images/orphan_world-threeByTwoSmallAt2X.png\"/>,\n",
       " <img alt=\"Vaccine tracker\" class=\"svelte-zl0f6y\" src=\"https://static01.nyt.com/newsgraphics/2020/03/16/coronavirus-maps/8c96f04c6de658a5d841582ab5d0dcbae9109438/images/footer-thumbs/vaccines.png\"/>,\n",
       " <img src=\"https://static01.nyt.com/images/2021/04/01/multimedia/01chauvin-hpfader1b/merlin_185848461_c216fa52-b810-4451-9abb-41ea4351227c-threeByTwoMediumAt2X.jpg\">\n",
       " </img>,\n",
       " <img src=\"https://static01.nyt.com/images/2021/04/01/multimedia/01chauvin-hpfader2/merlin_185847222_09a383e8-7ba2-45f3-8726-30aefdf04778-threeByTwoMediumAt2X.jpg\">\n",
       " </img>,\n",
       " <img src=\"https://static01.nyt.com/images/2021/04/01/multimedia/01chauvin-hpfader-slide1/merlin_185786850_d1d9fe71-4c62-4d4a-bc2a-4a1048ecec2b-threeByTwoMediumAt2X.jpg\">\n",
       " </img>,\n",
       " <img src=\"https://static01.nyt.com/images/2021/04/01/business/01nytchauvin-HPfader-slide-5UKS/01nytchauvin-HPfader-slide-5UKS-threeByTwoMediumAt2X.jpg\">\n",
       " </img>,\n",
       " <img src=\"https://static01.nyt.com/images/2021/04/01/business/01nytchauvin-HPfader-slide-OQ08/01nytchauvin-HPfader-slide-OQ08-threeByTwoMediumAt2X.jpg\">\n",
       " </img>,\n",
       " <img src=\"https://static01.nyt.com/images/2021/03/31/multimedia/31nytchauvin13/merlin_185807448_2721d030-0d49-4306-92b7-08eccad98588-threeByTwoMediumAt2X.jpg\">\n",
       " </img>,\n",
       " <img src=\"https://static01.nyt.com/images/2021/04/01/business/01nytchauvin-HPfader-slide-MK68/01nytchauvin-HPfader-slide-MK68-threeByTwoMediumAt2X.jpg\">\n",
       " </img>,\n",
       " <img class=\"css-hdqqnp\" loading=\"lazy\" role=\"presentation\" src=\"https://static01.nyt.com/images/2021/03/31/science/31cli-bidenclimate-1/merlin_180788583_3a9e790e-f13d-4d3d-8036-f5b90d213506-threeByTwoSmallAt2X.jpg?format=pjpg&amp;quality=75&amp;auto=webp&amp;disable=upscale\"/>,\n",
       " <img class=\"css-hdqqnp\" loading=\"lazy\" role=\"presentation\" src=\"https://static01.nyt.com/images/2021/03/25/world/00ethiopia-assaults-1/00ethiopia-assaults-1-threeByTwoMediumAt2X-v4.jpg?format=pjpg&amp;quality=75&amp;auto=webp&amp;disable=upscale\"/>,\n",
       " <img src=\"https://static01.nyt.com/images/2020/12/08/multimedia/home-fader-hp-2-slides-slide-LCPY/home-fader-hp-2-slides-slide-LCPY-master1050.jpg\"/>,\n",
       " <img src=\"https://static01.nyt.com/images/2020/12/08/multimedia/home-fader-hp-2-slides-slide-LCPY/home-fader-hp-2-slides-slide-LCPY-square640.jpg\"/>,\n",
       " <img src=\"https://static01.nyt.com/images/2020/12/08/multimedia/home-fader-hp-2-slides-slide-R65N/home-fader-hp-2-slides-slide-R65N-master1050.jpg\"/>,\n",
       " <img src=\"https://static01.nyt.com/images/2020/12/08/multimedia/home-fader-hp-2-slides-slide-R65N/home-fader-hp-2-slides-slide-R65N-square640.jpg\"/>,\n",
       " <img src=\"https://static01.nyt.com/images/2020/12/08/multimedia/home-fader-hp-2-slides-slide-9OFH/home-fader-hp-2-slides-slide-9OFH-master1050.jpg\"/>,\n",
       " <img src=\"https://static01.nyt.com/images/2020/12/08/multimedia/home-fader-hp-2-slides-slide-9OFH/home-fader-hp-2-slides-slide-9OFH-square640.jpg\"/>,\n",
       " <img src=\"https://static01.nyt.com/images/2020/12/08/multimedia/home-fader-hp-2-slides-slide-DSSY/home-fader-hp-2-slides-slide-DSSY-master1050.jpg\"/>,\n",
       " <img src=\"https://static01.nyt.com/images/2020/12/08/multimedia/home-fader-hp-2-slides-slide-DSSY/home-fader-hp-2-slides-slide-DSSY-square640.jpg\"/>,\n",
       " <img src=\"https://static01.nyt.com/images/2020/12/08/multimedia/home-fader-hp-2-slides-slide-G9KM/home-fader-hp-2-slides-slide-G9KM-master1050.jpg\"/>,\n",
       " <img src=\"https://static01.nyt.com/images/2020/12/08/multimedia/home-fader-hp-2-slides-slide-G9KM/home-fader-hp-2-slides-slide-G9KM-square640.jpg\"/>,\n",
       " <img src=\"https://static01.nyt.com/images/2020/12/08/multimedia/home-fader-hp-2-slides-slide-PS44/home-fader-hp-2-slides-slide-PS44-master1050.jpg\"/>,\n",
       " <img src=\"https://static01.nyt.com/images/2020/12/08/multimedia/home-fader-hp-2-slides-slide-PS44/home-fader-hp-2-slides-slide-PS44-square640.jpg\"/>,\n",
       " <img src=\"https://static01.nyt.com/images/2020/12/08/multimedia/home-fader-hp-2-slides-slide-CNRH/home-fader-hp-2-slides-slide-CNRH-master1050.jpg\"/>,\n",
       " <img src=\"https://static01.nyt.com/images/2020/12/08/multimedia/home-fader-hp-2-slides-slide-CNRH/home-fader-hp-2-slides-slide-CNRH-square640.jpg\"/>]"
      ]
     },
     "execution_count": 3,
     "metadata": {},
     "output_type": "execute_result"
    }
   ],
   "source": [
    "document.find_all('img')"
   ]
  },
  {
   "cell_type": "markdown",
   "metadata": {},
   "source": [
    "To display these images in our Jupyter notebook, we're going to import the Python modules `Markdown` and `display`, which allow us to transform code output into Markdown and thus display the images in this notebook"
   ]
  },
  {
   "cell_type": "code",
   "execution_count": 4,
   "metadata": {
    "scrolled": true
   },
   "outputs": [
    {
     "data": {
      "text/markdown": [
       "<img alt=\"\" decoding=\"async\" src=\"https://static01.nyt.com/images/2017/01/29/podcasts/the-daily-album-art/the-daily-album-art-square320-v4.png\"/>"
      ],
      "text/plain": [
       "<IPython.core.display.Markdown object>"
      ]
     },
     "metadata": {},
     "output_type": "display_data"
    },
    {
     "data": {
      "text/markdown": [
       "<img alt=\"\" decoding=\"async\" src=\"https://static01.nyt.com/images/2021/02/11/podcasts/00argument-albumart/00argument-albumart-square320.png\"/>"
      ],
      "text/plain": [
       "<IPython.core.display.Markdown object>"
      ]
     },
     "metadata": {},
     "output_type": "display_data"
    },
    {
     "data": {
      "text/markdown": [
       "<img alt=\"\" decoding=\"async\" src=\"https://static01.nyt.com/images/2021/03/31/insider/event-bar/event-bar-square640.png?quality=75&amp;auto=webp&amp;disable=upscale&amp;width=350\"/>"
      ],
      "text/plain": [
       "<IPython.core.display.Markdown object>"
      ]
     },
     "metadata": {},
     "output_type": "display_data"
    },
    {
     "data": {
      "text/markdown": [
       "<img class=\"desktop\" src=\"https://static01.nyt.com/images/2020/07/21/us/cases_orphan_usa-1595349567192/cases_orphan_usa-1595349567192-master1050-v834.png\"/>"
      ],
      "text/plain": [
       "<IPython.core.display.Markdown object>"
      ]
     },
     "metadata": {},
     "output_type": "display_data"
    },
    {
     "data": {
      "text/markdown": [
       "<img class=\"mobile\" src=\"https://static01.nyt.com/images/2020/07/21/us/cases_orphan_usa-1595349567192/cases_orphan_usa-1595349567192-square640-v1659.png\"/>"
      ],
      "text/plain": [
       "<IPython.core.display.Markdown object>"
      ]
     },
     "metadata": {},
     "output_type": "display_data"
    },
    {
     "data": {
      "text/markdown": [
       "<img src=\"https://static01.nyt.com/images/2021/04/01/homepage/PM-virus-fader-update-slide-JCQZ/PM-virus-fader-update-slide-JCQZ-master1050.jpg\"/>"
      ],
      "text/plain": [
       "<IPython.core.display.Markdown object>"
      ]
     },
     "metadata": {},
     "output_type": "display_data"
    },
    {
     "data": {
      "text/markdown": [
       "<img src=\"https://static01.nyt.com/images/2021/04/01/homepage/PM-virus-fader-update-slide-JCQZ/PM-virus-fader-update-slide-JCQZ-square640.jpg\"/>"
      ],
      "text/plain": [
       "<IPython.core.display.Markdown object>"
      ]
     },
     "metadata": {},
     "output_type": "display_data"
    },
    {
     "data": {
      "text/markdown": [
       "<img src=\"https://static01.nyt.com/images/2021/04/01/homepage/PM-virus-fader-update-slide-QHJS/PM-virus-fader-update-slide-QHJS-master1050.jpg\"/>"
      ],
      "text/plain": [
       "<IPython.core.display.Markdown object>"
      ]
     },
     "metadata": {},
     "output_type": "display_data"
    },
    {
     "data": {
      "text/markdown": [
       "<img src=\"https://static01.nyt.com/images/2021/04/01/homepage/PM-virus-fader-update-slide-QHJS/PM-virus-fader-update-slide-QHJS-square640.jpg\"/>"
      ],
      "text/plain": [
       "<IPython.core.display.Markdown object>"
      ]
     },
     "metadata": {},
     "output_type": "display_data"
    },
    {
     "data": {
      "text/markdown": [
       "<img src=\"https://static01.nyt.com/images/2021/04/01/homepage/PM-virus-fader-update-slide-2NOK/PM-virus-fader-update-slide-2NOK-master1050.jpg\"/>"
      ],
      "text/plain": [
       "<IPython.core.display.Markdown object>"
      ]
     },
     "metadata": {},
     "output_type": "display_data"
    },
    {
     "data": {
      "text/markdown": [
       "<img src=\"https://static01.nyt.com/images/2021/04/01/homepage/PM-virus-fader-update-slide-2NOK/PM-virus-fader-update-slide-2NOK-square640.jpg\"/>"
      ],
      "text/plain": [
       "<IPython.core.display.Markdown object>"
      ]
     },
     "metadata": {},
     "output_type": "display_data"
    },
    {
     "data": {
      "text/markdown": [
       "<img src=\"https://static01.nyt.com/images/2021/04/01/homepage/PM-virus-fader-update-slide-UMJT/PM-virus-fader-update-slide-UMJT-master1050.jpg\"/>"
      ],
      "text/plain": [
       "<IPython.core.display.Markdown object>"
      ]
     },
     "metadata": {},
     "output_type": "display_data"
    },
    {
     "data": {
      "text/markdown": [
       "<img src=\"https://static01.nyt.com/images/2021/04/01/homepage/PM-virus-fader-update-slide-UMJT/PM-virus-fader-update-slide-UMJT-square640.jpg\"/>"
      ],
      "text/plain": [
       "<IPython.core.display.Markdown object>"
      ]
     },
     "metadata": {},
     "output_type": "display_data"
    },
    {
     "data": {
      "text/markdown": [
       "<img src=\"https://static01.nyt.com/images/2021/04/01/homepage/PM-virus-fader-update-slide-5GAV/PM-virus-fader-update-slide-5GAV-master1050.jpg\"/>"
      ],
      "text/plain": [
       "<IPython.core.display.Markdown object>"
      ]
     },
     "metadata": {},
     "output_type": "display_data"
    },
    {
     "data": {
      "text/markdown": [
       "<img src=\"https://static01.nyt.com/images/2021/04/01/homepage/PM-virus-fader-update-slide-5GAV/PM-virus-fader-update-slide-5GAV-square640.jpg\"/>"
      ],
      "text/plain": [
       "<IPython.core.display.Markdown object>"
      ]
     },
     "metadata": {},
     "output_type": "display_data"
    },
    {
     "data": {
      "text/markdown": [
       "<img src=\"https://static01.nyt.com/images/2021/04/01/homepage/PM-virus-fader-update-slide-48H1/PM-virus-fader-update-slide-48H1-master1050.jpg\"/>"
      ],
      "text/plain": [
       "<IPython.core.display.Markdown object>"
      ]
     },
     "metadata": {},
     "output_type": "display_data"
    },
    {
     "data": {
      "text/markdown": [
       "<img src=\"https://static01.nyt.com/images/2021/04/01/homepage/PM-virus-fader-update-slide-48H1/PM-virus-fader-update-slide-48H1-square640.jpg\"/>"
      ],
      "text/plain": [
       "<IPython.core.display.Markdown object>"
      ]
     },
     "metadata": {},
     "output_type": "display_data"
    },
    {
     "data": {
      "text/markdown": [
       "<img src=\"https://static01.nyt.com/images/2021/04/01/homepage/PM-virus-fader-update-slide-V603/PM-virus-fader-update-slide-V603-master1050.jpg\"/>"
      ],
      "text/plain": [
       "<IPython.core.display.Markdown object>"
      ]
     },
     "metadata": {},
     "output_type": "display_data"
    },
    {
     "data": {
      "text/markdown": [
       "<img src=\"https://static01.nyt.com/images/2021/04/01/homepage/PM-virus-fader-update-slide-V603/PM-virus-fader-update-slide-V603-square640.jpg\"/>"
      ],
      "text/plain": [
       "<IPython.core.display.Markdown object>"
      ]
     },
     "metadata": {},
     "output_type": "display_data"
    },
    {
     "data": {
      "text/markdown": [
       "<img src=\"https://static01.nyt.com/images/2021/04/01/homepage/PM-virus-fader-update-slide-VC94/PM-virus-fader-update-slide-VC94-master1050.jpg\"/>"
      ],
      "text/plain": [
       "<IPython.core.display.Markdown object>"
      ]
     },
     "metadata": {},
     "output_type": "display_data"
    },
    {
     "data": {
      "text/markdown": [
       "<img src=\"https://static01.nyt.com/images/2021/04/01/homepage/PM-virus-fader-update-slide-VC94/PM-virus-fader-update-slide-VC94-square640.jpg\"/>"
      ],
      "text/plain": [
       "<IPython.core.display.Markdown object>"
      ]
     },
     "metadata": {},
     "output_type": "display_data"
    },
    {
     "data": {
      "text/markdown": [
       "<img src=\"https://static01.nyt.com/images/2021/04/01/homepage/PM-virus-fader-update-slide-38H0/PM-virus-fader-update-slide-38H0-master1050.jpg\"/>"
      ],
      "text/plain": [
       "<IPython.core.display.Markdown object>"
      ]
     },
     "metadata": {},
     "output_type": "display_data"
    },
    {
     "data": {
      "text/markdown": [
       "<img src=\"https://static01.nyt.com/images/2021/04/01/homepage/PM-virus-fader-update-slide-38H0/PM-virus-fader-update-slide-38H0-square640.jpg\"/>"
      ],
      "text/plain": [
       "<IPython.core.display.Markdown object>"
      ]
     },
     "metadata": {},
     "output_type": "display_data"
    },
    {
     "data": {
      "text/markdown": [
       "<img alt=\"US coronavirus cases\" class=\"svelte-zl0f6y\" src=\"https://static01.nyt.com/newsgraphics/2020/03/16/coronavirus-maps/8c96f04c6de658a5d841582ab5d0dcbae9109438/images/orphan_usa-threeByTwoSmallAt2X.png\"/>"
      ],
      "text/plain": [
       "<IPython.core.display.Markdown object>"
      ]
     },
     "metadata": {},
     "output_type": "display_data"
    },
    {
     "data": {
      "text/markdown": [
       "<img alt=\"Worldwide coronavirus cases\" class=\"svelte-zl0f6y\" src=\"https://static01.nyt.com/newsgraphics/2020/03/16/coronavirus-maps/8c96f04c6de658a5d841582ab5d0dcbae9109438/images/orphan_world-threeByTwoSmallAt2X.png\"/>"
      ],
      "text/plain": [
       "<IPython.core.display.Markdown object>"
      ]
     },
     "metadata": {},
     "output_type": "display_data"
    },
    {
     "data": {
      "text/markdown": [
       "<img alt=\"Where states are reporting vaccines given\" class=\"svelte-zl0f6y\" src=\"https://static01.nytimes.com/newsgraphics/2020/12/09/vaccine-distribution-tracker/assets/scoop-vaccine-distribution-tracker-threeByTwoSmallAt2X.png\"/>"
      ],
      "text/plain": [
       "<IPython.core.display.Markdown object>"
      ]
     },
     "metadata": {},
     "output_type": "display_data"
    },
    {
     "data": {
      "text/markdown": [
       "<img alt=\"US coronavirus cases\" class=\"svelte-zl0f6y\" src=\"https://static01.nyt.com/newsgraphics/2020/03/16/coronavirus-maps/8c96f04c6de658a5d841582ab5d0dcbae9109438/images/orphan_usa-threeByTwoSmallAt2X.png\"/>"
      ],
      "text/plain": [
       "<IPython.core.display.Markdown object>"
      ]
     },
     "metadata": {},
     "output_type": "display_data"
    },
    {
     "data": {
      "text/markdown": [
       "<img alt=\"Worldwide coronavirus cases\" class=\"svelte-zl0f6y\" src=\"https://static01.nyt.com/newsgraphics/2020/03/16/coronavirus-maps/8c96f04c6de658a5d841582ab5d0dcbae9109438/images/orphan_world-threeByTwoSmallAt2X.png\"/>"
      ],
      "text/plain": [
       "<IPython.core.display.Markdown object>"
      ]
     },
     "metadata": {},
     "output_type": "display_data"
    },
    {
     "data": {
      "text/markdown": [
       "<img alt=\"Vaccine tracker\" class=\"svelte-zl0f6y\" src=\"https://static01.nyt.com/newsgraphics/2020/03/16/coronavirus-maps/8c96f04c6de658a5d841582ab5d0dcbae9109438/images/footer-thumbs/vaccines.png\"/>"
      ],
      "text/plain": [
       "<IPython.core.display.Markdown object>"
      ]
     },
     "metadata": {},
     "output_type": "display_data"
    },
    {
     "data": {
      "text/markdown": [
       "<img alt=\"US coronavirus cases\" class=\"svelte-zl0f6y\" src=\"https://static01.nyt.com/newsgraphics/2020/03/16/coronavirus-maps/8c96f04c6de658a5d841582ab5d0dcbae9109438/images/orphan_usa-threeByTwoSmallAt2X.png\"/>"
      ],
      "text/plain": [
       "<IPython.core.display.Markdown object>"
      ]
     },
     "metadata": {},
     "output_type": "display_data"
    },
    {
     "data": {
      "text/markdown": [
       "<img alt=\"Worldwide coronavirus cases\" class=\"svelte-zl0f6y\" src=\"https://static01.nyt.com/newsgraphics/2020/03/16/coronavirus-maps/8c96f04c6de658a5d841582ab5d0dcbae9109438/images/orphan_world-threeByTwoSmallAt2X.png\"/>"
      ],
      "text/plain": [
       "<IPython.core.display.Markdown object>"
      ]
     },
     "metadata": {},
     "output_type": "display_data"
    },
    {
     "data": {
      "text/markdown": [
       "<img alt=\"Vaccine tracker\" class=\"svelte-zl0f6y\" src=\"https://static01.nyt.com/newsgraphics/2020/03/16/coronavirus-maps/8c96f04c6de658a5d841582ab5d0dcbae9109438/images/footer-thumbs/vaccines.png\"/>"
      ],
      "text/plain": [
       "<IPython.core.display.Markdown object>"
      ]
     },
     "metadata": {},
     "output_type": "display_data"
    },
    {
     "data": {
      "text/markdown": [
       "<img src=\"https://static01.nyt.com/images/2021/04/01/multimedia/01chauvin-hpfader1b/merlin_185848461_c216fa52-b810-4451-9abb-41ea4351227c-threeByTwoMediumAt2X.jpg\">\n",
       "</img>"
      ],
      "text/plain": [
       "<IPython.core.display.Markdown object>"
      ]
     },
     "metadata": {},
     "output_type": "display_data"
    },
    {
     "data": {
      "text/markdown": [
       "<img src=\"https://static01.nyt.com/images/2021/04/01/multimedia/01chauvin-hpfader2/merlin_185847222_09a383e8-7ba2-45f3-8726-30aefdf04778-threeByTwoMediumAt2X.jpg\">\n",
       "</img>"
      ],
      "text/plain": [
       "<IPython.core.display.Markdown object>"
      ]
     },
     "metadata": {},
     "output_type": "display_data"
    },
    {
     "data": {
      "text/markdown": [
       "<img src=\"https://static01.nyt.com/images/2021/04/01/multimedia/01chauvin-hpfader-slide1/merlin_185786850_d1d9fe71-4c62-4d4a-bc2a-4a1048ecec2b-threeByTwoMediumAt2X.jpg\">\n",
       "</img>"
      ],
      "text/plain": [
       "<IPython.core.display.Markdown object>"
      ]
     },
     "metadata": {},
     "output_type": "display_data"
    },
    {
     "data": {
      "text/markdown": [
       "<img src=\"https://static01.nyt.com/images/2021/04/01/business/01nytchauvin-HPfader-slide-5UKS/01nytchauvin-HPfader-slide-5UKS-threeByTwoMediumAt2X.jpg\">\n",
       "</img>"
      ],
      "text/plain": [
       "<IPython.core.display.Markdown object>"
      ]
     },
     "metadata": {},
     "output_type": "display_data"
    },
    {
     "data": {
      "text/markdown": [
       "<img src=\"https://static01.nyt.com/images/2021/04/01/business/01nytchauvin-HPfader-slide-OQ08/01nytchauvin-HPfader-slide-OQ08-threeByTwoMediumAt2X.jpg\">\n",
       "</img>"
      ],
      "text/plain": [
       "<IPython.core.display.Markdown object>"
      ]
     },
     "metadata": {},
     "output_type": "display_data"
    },
    {
     "data": {
      "text/markdown": [
       "<img src=\"https://static01.nyt.com/images/2021/03/31/multimedia/31nytchauvin13/merlin_185807448_2721d030-0d49-4306-92b7-08eccad98588-threeByTwoMediumAt2X.jpg\">\n",
       "</img>"
      ],
      "text/plain": [
       "<IPython.core.display.Markdown object>"
      ]
     },
     "metadata": {},
     "output_type": "display_data"
    },
    {
     "data": {
      "text/markdown": [
       "<img src=\"https://static01.nyt.com/images/2021/04/01/business/01nytchauvin-HPfader-slide-MK68/01nytchauvin-HPfader-slide-MK68-threeByTwoMediumAt2X.jpg\">\n",
       "</img>"
      ],
      "text/plain": [
       "<IPython.core.display.Markdown object>"
      ]
     },
     "metadata": {},
     "output_type": "display_data"
    },
    {
     "data": {
      "text/markdown": [
       "<img class=\"css-hdqqnp\" loading=\"lazy\" role=\"presentation\" src=\"https://static01.nyt.com/images/2021/03/31/science/31cli-bidenclimate-1/merlin_180788583_3a9e790e-f13d-4d3d-8036-f5b90d213506-threeByTwoSmallAt2X.jpg?format=pjpg&amp;quality=75&amp;auto=webp&amp;disable=upscale\"/>"
      ],
      "text/plain": [
       "<IPython.core.display.Markdown object>"
      ]
     },
     "metadata": {},
     "output_type": "display_data"
    },
    {
     "data": {
      "text/markdown": [
       "<img class=\"css-hdqqnp\" loading=\"lazy\" role=\"presentation\" src=\"https://static01.nyt.com/images/2021/03/25/world/00ethiopia-assaults-1/00ethiopia-assaults-1-threeByTwoMediumAt2X-v4.jpg?format=pjpg&amp;quality=75&amp;auto=webp&amp;disable=upscale\"/>"
      ],
      "text/plain": [
       "<IPython.core.display.Markdown object>"
      ]
     },
     "metadata": {},
     "output_type": "display_data"
    },
    {
     "data": {
      "text/markdown": [
       "<img src=\"https://static01.nyt.com/images/2020/12/08/multimedia/home-fader-hp-2-slides-slide-LCPY/home-fader-hp-2-slides-slide-LCPY-master1050.jpg\"/>"
      ],
      "text/plain": [
       "<IPython.core.display.Markdown object>"
      ]
     },
     "metadata": {},
     "output_type": "display_data"
    },
    {
     "data": {
      "text/markdown": [
       "<img src=\"https://static01.nyt.com/images/2020/12/08/multimedia/home-fader-hp-2-slides-slide-LCPY/home-fader-hp-2-slides-slide-LCPY-square640.jpg\"/>"
      ],
      "text/plain": [
       "<IPython.core.display.Markdown object>"
      ]
     },
     "metadata": {},
     "output_type": "display_data"
    },
    {
     "data": {
      "text/markdown": [
       "<img src=\"https://static01.nyt.com/images/2020/12/08/multimedia/home-fader-hp-2-slides-slide-R65N/home-fader-hp-2-slides-slide-R65N-master1050.jpg\"/>"
      ],
      "text/plain": [
       "<IPython.core.display.Markdown object>"
      ]
     },
     "metadata": {},
     "output_type": "display_data"
    },
    {
     "data": {
      "text/markdown": [
       "<img src=\"https://static01.nyt.com/images/2020/12/08/multimedia/home-fader-hp-2-slides-slide-R65N/home-fader-hp-2-slides-slide-R65N-square640.jpg\"/>"
      ],
      "text/plain": [
       "<IPython.core.display.Markdown object>"
      ]
     },
     "metadata": {},
     "output_type": "display_data"
    },
    {
     "data": {
      "text/markdown": [
       "<img src=\"https://static01.nyt.com/images/2020/12/08/multimedia/home-fader-hp-2-slides-slide-9OFH/home-fader-hp-2-slides-slide-9OFH-master1050.jpg\"/>"
      ],
      "text/plain": [
       "<IPython.core.display.Markdown object>"
      ]
     },
     "metadata": {},
     "output_type": "display_data"
    },
    {
     "data": {
      "text/markdown": [
       "<img src=\"https://static01.nyt.com/images/2020/12/08/multimedia/home-fader-hp-2-slides-slide-9OFH/home-fader-hp-2-slides-slide-9OFH-square640.jpg\"/>"
      ],
      "text/plain": [
       "<IPython.core.display.Markdown object>"
      ]
     },
     "metadata": {},
     "output_type": "display_data"
    },
    {
     "data": {
      "text/markdown": [
       "<img src=\"https://static01.nyt.com/images/2020/12/08/multimedia/home-fader-hp-2-slides-slide-DSSY/home-fader-hp-2-slides-slide-DSSY-master1050.jpg\"/>"
      ],
      "text/plain": [
       "<IPython.core.display.Markdown object>"
      ]
     },
     "metadata": {},
     "output_type": "display_data"
    },
    {
     "data": {
      "text/markdown": [
       "<img src=\"https://static01.nyt.com/images/2020/12/08/multimedia/home-fader-hp-2-slides-slide-DSSY/home-fader-hp-2-slides-slide-DSSY-square640.jpg\"/>"
      ],
      "text/plain": [
       "<IPython.core.display.Markdown object>"
      ]
     },
     "metadata": {},
     "output_type": "display_data"
    },
    {
     "data": {
      "text/markdown": [
       "<img src=\"https://static01.nyt.com/images/2020/12/08/multimedia/home-fader-hp-2-slides-slide-G9KM/home-fader-hp-2-slides-slide-G9KM-master1050.jpg\"/>"
      ],
      "text/plain": [
       "<IPython.core.display.Markdown object>"
      ]
     },
     "metadata": {},
     "output_type": "display_data"
    },
    {
     "data": {
      "text/markdown": [
       "<img src=\"https://static01.nyt.com/images/2020/12/08/multimedia/home-fader-hp-2-slides-slide-G9KM/home-fader-hp-2-slides-slide-G9KM-square640.jpg\"/>"
      ],
      "text/plain": [
       "<IPython.core.display.Markdown object>"
      ]
     },
     "metadata": {},
     "output_type": "display_data"
    },
    {
     "data": {
      "text/markdown": [
       "<img src=\"https://static01.nyt.com/images/2020/12/08/multimedia/home-fader-hp-2-slides-slide-PS44/home-fader-hp-2-slides-slide-PS44-master1050.jpg\"/>"
      ],
      "text/plain": [
       "<IPython.core.display.Markdown object>"
      ]
     },
     "metadata": {},
     "output_type": "display_data"
    },
    {
     "data": {
      "text/markdown": [
       "<img src=\"https://static01.nyt.com/images/2020/12/08/multimedia/home-fader-hp-2-slides-slide-PS44/home-fader-hp-2-slides-slide-PS44-square640.jpg\"/>"
      ],
      "text/plain": [
       "<IPython.core.display.Markdown object>"
      ]
     },
     "metadata": {},
     "output_type": "display_data"
    },
    {
     "data": {
      "text/markdown": [
       "<img src=\"https://static01.nyt.com/images/2020/12/08/multimedia/home-fader-hp-2-slides-slide-CNRH/home-fader-hp-2-slides-slide-CNRH-master1050.jpg\"/>"
      ],
      "text/plain": [
       "<IPython.core.display.Markdown object>"
      ]
     },
     "metadata": {},
     "output_type": "display_data"
    },
    {
     "data": {
      "text/markdown": [
       "<img src=\"https://static01.nyt.com/images/2020/12/08/multimedia/home-fader-hp-2-slides-slide-CNRH/home-fader-hp-2-slides-slide-CNRH-square640.jpg\"/>"
      ],
      "text/plain": [
       "<IPython.core.display.Markdown object>"
      ]
     },
     "metadata": {},
     "output_type": "display_data"
    }
   ],
   "source": [
    "from IPython.display import Markdown, display\n",
    "\n",
    "# Loop through all the images on the NYT front page\n",
    "for image in document.find_all('img'):\n",
    "    \n",
    "    # Convert the image tag to a string\n",
    "    image_string = str(image)\n",
    "    \n",
    "    # Transform the tag to Markdown and then display it as Markdown\n",
    "    display(Markdown(image_string))"
   ]
  },
  {
   "cell_type": "markdown",
   "metadata": {},
   "source": [
    "## Quick Demonstration of Image Scraping — Bill Gates's LinkedIn Page"
   ]
  },
  {
   "cell_type": "markdown",
   "metadata": {},
   "source": [
    "https://www.linkedin.com/in/williamhgates/"
   ]
  },
  {
   "cell_type": "code",
   "execution_count": 5,
   "metadata": {},
   "outputs": [],
   "source": [
    "response = requests.get(\"https://www.linkedin.com/in/williamhgates/\")\n",
    "html_string = response.text\n",
    "document = BeautifulSoup(html_string, \"html.parser\")"
   ]
  },
  {
   "cell_type": "code",
   "execution_count": 6,
   "metadata": {},
   "outputs": [],
   "source": [
    "from IPython.display import Markdown, display\n",
    "\n",
    "# Loop through all the images on the NYT front page\n",
    "for image in document.find_all('img'):\n",
    "    # Convert the image tag to a string\n",
    "    image_string = str(image)\n",
    "    # Transform the tag to Markdown and then display it as Markdown\n",
    "    display(Markdown(image_string))"
   ]
  },
  {
   "cell_type": "markdown",
   "metadata": {},
   "source": [
    "What's going wrong here?"
   ]
  },
  {
   "cell_type": "code",
   "execution_count": 7,
   "metadata": {},
   "outputs": [
    {
     "data": {
      "text/plain": [
       "<Response [999]>"
      ]
     },
     "execution_count": 7,
     "metadata": {},
     "output_type": "execute_result"
    }
   ],
   "source": [
    "response"
   ]
  },
  {
   "cell_type": "markdown",
   "metadata": {},
   "source": [
    "## Scraping Multiple Web Pages At a Time"
   ]
  },
  {
   "cell_type": "markdown",
   "metadata": {},
   "source": [
    "In the last lesson, we figured out how to scrape the lyrics for a single Missy Elliott song."
   ]
  },
  {
   "cell_type": "code",
   "execution_count": 8,
   "metadata": {},
   "outputs": [],
   "source": [
    "response = requests.get(\"https://genius.com/Missy-elliott-work-it-lyrics\")\n",
    "html_string = response.text\n",
    "document = BeautifulSoup(html_string, \"html.parser\")"
   ]
  },
  {
   "cell_type": "code",
   "execution_count": 9,
   "metadata": {
    "scrolled": true
   },
   "outputs": [
    {
     "data": {
      "text/plain": [
       "\"[Intro]\\nDJ, please pick up your phone, I'm on the request line\\nThis is a Missy Elliott one-time exclusive, come on\\n\\n[Chorus]\\nIs it worth it? Let me work it\\nI put my thing down, flip it and reverse it\\nTi esrever dna ti pilf, nwod gniht ym tup\\nTi esrever dna ti pilf, nwod gniht ym tup\\nIf you got a big *elephant trumpet*, let me search ya\\nAnd find out how hard I gotta work ya\\nTi esrever dna ti pilf, nwod gniht ym tup\\nTi esrever dna ti pilf, nwod gniht ym tup\\nC'mon\\n\\n[Verse 1]\\nI'd like to get to know ya so I could show ya\\nPut the pussy on ya like I told ya\\nGive me all your numbers so I can phone ya\\nYour girl acting stank, then call me over\\nNot on the bed, lay me on your sofa\\nCall before you come, I need to shave my chocha\\nYou do or you don't or you will or won't ya?\\nGo downtown and eat it like a vulture\\nSee my hips and my tips, don't ya?\\nSee my ass and my lips, don't ya?\\nLost a few pounds and my waist for ya\\nThis the kinda beat that go ra-ta-ta\\nRa-ta-ta-ta-ta-ta-ta-ta-ta-ta\\nSex me so good I say blah-blah-blah\\nWork it, I need a glass of water\\nBoy, oh boy, it's good to know ya\\nC'mon\\n\\n[Chorus]\\nIs it worth it? Let me work it\\nI put my thing down, flip it and reverse it\\nTi esrever dna ti pilf, nwod gniht ym tup\\nTi esrever dna ti pilf, nwod gniht ym tup\\nIf you got a big *elephant trumpet*, let me search ya\\nAnd find out how hard I gotta work ya\\nTi esrever dna ti pilf, nwod gniht ym tup\\nTi esrever dna ti pilf, nwod gniht ym tup\\nC'mon\\n\\n[Bridge]\\nIf you a fly gal, get your nails done\\nGet a pedicure, get your hair did\\nBoy, lift it up, let's make a toast-a\\nLet's get drunk, that's gonna bring us closer (Okay)\\nDon't I look like a Halle Berry poster?\\nSee the Belvedere playing tricks on ya (Ah)\\nGirlfriend wanna be like me, never\\nYou won't find a bitch that's even better (Ah)\\nI make you hot as Las Vegas weather\\nListen up close while I take it backwards\\n\\u200bsdrawkcab ti ekat ot ekil yssiM yaw eht hctaW\\nI'm not a prostitute, but I could give you what you want\\nI love your braids and your mouth full of fronts\\nLove the way my ass go bum-bum-bum-bum (Huh)\\nKeep your eyes on my bum-bum-bum-bum-bum (Okay)\\nYou think you can handle this badonka-donk-donk (Woo)\\nTake my thong off and my ass go boom (Ugh)\\nCut the lights on so you see what I could do (C'mon)\\n\\n[Chorus]\\nIs it worth it? Let me work it\\nI put my thing down, flip it and reverse it\\nTi esrever dna ti pilf, nwod gniht ym tup\\nTi esrever dna ti pilf, nwod gniht ym tup (Ooh)\\nIf you got a big *elephant trumpet*, let me search ya\\nAnd find out how hard I gotta work ya\\nTi esrever dna ti pilf, nwod gniht ym tup (Huh)\\nTi esrever dna ti pilf, nwod gniht ym tup (C'mon)\\nC'mon\\n\\n[Bridge]\\nBoys, boys, all type of boys\\nBlack, White, Puerto Rican, Chinese boys (C'mon)\\nWhy-thai, thai-o-toy-o-thai-thai\\nRock-thai, thai-o-toy-o-thai-thai (C'mon)\\nGirls, girls, get that cash\\nIf it's 9 to 5 or shaking your ass (Aha)\\nAin't no shame, ladies do your thing (C'mon)\\nJust make sure you ahead of the game\\n\\n[Verse 3]\\nJust 'cause I got a lot of fame super\\nPrince couldn't get me change my name, papa\\nKunta Kinte a slave again, no sir\\nPicture Blacks saying, “Oh yes'a, massa”\\nPicture Lil' Kim dating a pastor\\nMinute Man, Big Red could outlast ya\\nWho is the best? I don't have to ask ya\\nWhen I come out, you won't even matter (Ugh)\\nWhy you act dumb like, uhhhh, duh?\\nSo you act dumb like, uhhhhh, duh\\nAs the drummer boy go ba-rom-pop-pom-pom (Ooh)\\nGive you some-some-some of this Cinnabun (C'mon)\\n\\n[Chorus]\\nIs it worth it? Let me work it\\nI put my thing down, flip it and reverse it\\nTi esrever dna ti pilf, nwod gniht ym tup\\nTi esrever dna ti pilf, nwod gniht ym tup (Ooh)\\nIf you got a big *elephant trumpet*, let me search ya\\nAnd find out how hard I gotta work ya\\nTi esrever dna ti pilf, nwod gniht ym tup\\nTi esrever dna ti pilf, nwod gniht ym tup\\nC'mon\\n\\n[Break]\\nTo my fellas (Ooh, good god!)\\nI like the way you work that (Uh-huh, la-la-la-la)\\nTo my ladies (Whoo! Good god!)\\nYou sure know how to work that\\n\\n[Outro]\\nYeah, it's Missy Elliott!\\nI hope y'all enjoying what y'all heard so far\\nI was sittin' here thinkin' like\\nBig Daddy Kane and Public Enemy\\nSalt n Pepa, Lyte, EPMD, LL, Run-DMC\\nKRS-One, Rakim\\nMost of them artists used to dance\\nAnd still get respected in the street\\nDon't be scared to Bankhead or Bogo\\nOr move as far as sold Michael Jackson 43 million\\nShoot, errbody have the zipper jacket\\nAnd half of these thugs have the glove to match, ya feel me?\\nYo, it's ok though, if you wanna be hard and ice grill\\nAnd Harlem Shake at the same time, whatever\\nLet's just have fun, it's hip-hop man, this is hip-hop!\""
      ]
     },
     "execution_count": 9,
     "metadata": {},
     "output_type": "execute_result"
    }
   ],
   "source": [
    "document.find('p').text"
   ]
  },
  {
   "cell_type": "markdown",
   "metadata": {},
   "source": [
    "But how can we scrape lyrics for multiple Missy Elliott songs at a time?"
   ]
  },
  {
   "cell_type": "markdown",
   "metadata": {},
   "source": [
    "### Figure Out the Pattern"
   ]
  },
  {
   "cell_type": "markdown",
   "metadata": {},
   "source": [
    "What we need to do is figure out how to progammatically generate the correct Genius web page URL for each song we're interested in:"
   ]
  },
  {
   "cell_type": "markdown",
   "metadata": {},
   "source": [
    "`f\"https://genius.com/Missy-elliott-{formatted_song}-lyrics\"`"
   ]
  },
  {
   "cell_type": "code",
   "execution_count": 152,
   "metadata": {},
   "outputs": [],
   "source": [
    "song_titles = ['Work It', 'WTF (Where They From)', 'The Rain (Supa Dupa Fly)']"
   ]
  },
  {
   "cell_type": "markdown",
   "metadata": {},
   "source": [
    "```\n",
    "for song in song_titles:\n",
    "    formatted_song = ?????\n",
    "    response = requests.get(f\"https://genius.com/Missy-elliott-{formatted_song}-lyrics\")\n",
    "    html_string = response.text\n",
    "    document = BeautifulSoup(html_string, \"html.parser\")\n",
    "    document.find('p').text\n",
    "```"
   ]
  },
  {
   "cell_type": "markdown",
   "metadata": {},
   "source": [
    "Let's inspect the Genius web pages for each of these songs:"
   ]
  },
  {
   "cell_type": "markdown",
   "metadata": {},
   "source": [
    "https://genius.com/Missy-elliott-work-it-lyrics"
   ]
  },
  {
   "cell_type": "markdown",
   "metadata": {},
   "source": [
    "https://genius.com/Missy-elliott-the-rain-supa-dupa-fly-lyrics"
   ]
  },
  {
   "cell_type": "markdown",
   "metadata": {},
   "source": [
    "https://genius.com/Missy-elliott-wtf-where-they-from-lyrics"
   ]
  },
  {
   "cell_type": "markdown",
   "metadata": {},
   "source": [
    "### Make Song Titles Fit Pattern — Your Turn!"
   ]
  },
  {
   "cell_type": "markdown",
   "metadata": {},
   "source": [
    "Create a function called `format_song()` that will take in a song title and then return the song title correctly formatted for its Genius web page.\n",
    "\n",
    "For example, the song `WTF (Where They From)` needs to be converted to `wtf-where-they-from`."
   ]
  },
  {
   "cell_type": "markdown",
   "metadata": {},
   "source": [
    "Hint: You will need to use [string methods](https://info1350.github.io/Intro-CA-SP21/02-Python/06-String-Methods.html#id1)!"
   ]
  },
  {
   "cell_type": "code",
   "execution_count": 18,
   "metadata": {},
   "outputs": [],
   "source": [
    "def format_song(song):\n",
    "    formatted_song = song.lower()\n",
    "    formatted_song = formatted_song.replace(' ', '-')\n",
    "    formatted_song = formatted_song.replace('(', '')\n",
    "    formatted_song = formatted_song.replace(')', '')\n",
    "    \n",
    "    return formatted_song"
   ]
  },
  {
   "cell_type": "markdown",
   "metadata": {},
   "source": [
    "Test of your function on these two song titles to make sure it's working correctly."
   ]
  },
  {
   "cell_type": "code",
   "execution_count": 19,
   "metadata": {},
   "outputs": [
    {
     "data": {
      "text/plain": [
       "'wtf-where-they-from'"
      ]
     },
     "execution_count": 19,
     "metadata": {},
     "output_type": "execute_result"
    }
   ],
   "source": [
    "format_song('WTF (Where They From)')"
   ]
  },
  {
   "cell_type": "code",
   "execution_count": 20,
   "metadata": {},
   "outputs": [
    {
     "data": {
      "text/plain": [
       "'work-it'"
      ]
     },
     "execution_count": 20,
     "metadata": {},
     "output_type": "execute_result"
    }
   ],
   "source": [
    "format_song('Work It')"
   ]
  },
  {
   "cell_type": "markdown",
   "metadata": {},
   "source": [
    "### Put It All Together"
   ]
  },
  {
   "cell_type": "code",
   "execution_count": 22,
   "metadata": {},
   "outputs": [],
   "source": [
    "song_titles = ['Work It', 'WTF (Where They From)', 'The Rain (Supa Dupa Fly)']"
   ]
  },
  {
   "cell_type": "markdown",
   "metadata": {},
   "source": [
    "Now use your `format_song()` function to create the variable `formatted_song`, which will allow the code below to work."
   ]
  },
  {
   "cell_type": "code",
   "execution_count": 23,
   "metadata": {
    "scrolled": true
   },
   "outputs": [
    {
     "name": "stdout",
     "output_type": "stream",
     "text": [
      "[Intro]\n",
      "DJ, please pick up your phone, I'm on the request line\n",
      "This is a Missy Elliott one-time exclusive, come on\n",
      "\n",
      "[Chorus]\n",
      "Is it worth it? Let me work it\n",
      "I put my thing down, flip it and reverse it\n",
      "Ti esrever dna ti pilf, nwod gniht ym tup\n",
      "Ti esrever dna ti pilf, nwod gniht ym tup\n",
      "If you got a big *elephant trumpet*, let me search ya\n",
      "And find out how hard I gotta work ya\n",
      "Ti esrever dna ti pilf, nwod gniht ym tup\n",
      "Ti esrever dna ti pilf, nwod gniht ym tup\n",
      "C'mon\n",
      "\n",
      "[Verse 1]\n",
      "I'd like to get to know ya so I could show ya\n",
      "Put the pussy on ya like I told ya\n",
      "Give me all your numbers so I can phone ya\n",
      "Your girl acting stank, then call me over\n",
      "Not on the bed, lay me on your sofa\n",
      "Call before you come, I need to shave my chocha\n",
      "You do or you don't or you will or won't ya?\n",
      "Go downtown and eat it like a vulture\n",
      "See my hips and my tips, don't ya?\n",
      "See my ass and my lips, don't ya?\n",
      "Lost a few pounds and my waist for ya\n",
      "This the kinda beat that go ra-ta-ta\n",
      "Ra-ta-ta-ta-ta-ta-ta-ta-ta-ta\n",
      "Sex me so good I say blah-blah-blah\n",
      "Work it, I need a glass of water\n",
      "Boy, oh boy, it's good to know ya\n",
      "C'mon\n",
      "\n",
      "[Chorus]\n",
      "Is it worth it? Let me work it\n",
      "I put my thing down, flip it and reverse it\n",
      "Ti esrever dna ti pilf, nwod gniht ym tup\n",
      "Ti esrever dna ti pilf, nwod gniht ym tup\n",
      "If you got a big *elephant trumpet*, let me search ya\n",
      "And find out how hard I gotta work ya\n",
      "Ti esrever dna ti pilf, nwod gniht ym tup\n",
      "Ti esrever dna ti pilf, nwod gniht ym tup\n",
      "C'mon\n",
      "\n",
      "[Bridge]\n",
      "If you a fly gal, get your nails done\n",
      "Get a pedicure, get your hair did\n",
      "Boy, lift it up, let's make a toast-a\n",
      "Let's get drunk, that's gonna bring us closer (Okay)\n",
      "Don't I look like a Halle Berry poster?\n",
      "See the Belvedere playing tricks on ya (Ah)\n",
      "Girlfriend wanna be like me, never\n",
      "You won't find a bitch that's even better (Ah)\n",
      "I make you hot as Las Vegas weather\n",
      "Listen up close while I take it backwards\n",
      "​sdrawkcab ti ekat ot ekil yssiM yaw eht hctaW\n",
      "I'm not a prostitute, but I could give you what you want\n",
      "I love your braids and your mouth full of fronts\n",
      "Love the way my ass go bum-bum-bum-bum (Huh)\n",
      "Keep your eyes on my bum-bum-bum-bum-bum (Okay)\n",
      "You think you can handle this badonka-donk-donk (Woo)\n",
      "Take my thong off and my ass go boom (Ugh)\n",
      "Cut the lights on so you see what I could do (C'mon)\n",
      "\n",
      "[Chorus]\n",
      "Is it worth it? Let me work it\n",
      "I put my thing down, flip it and reverse it\n",
      "Ti esrever dna ti pilf, nwod gniht ym tup\n",
      "Ti esrever dna ti pilf, nwod gniht ym tup (Ooh)\n",
      "If you got a big *elephant trumpet*, let me search ya\n",
      "And find out how hard I gotta work ya\n",
      "Ti esrever dna ti pilf, nwod gniht ym tup (Huh)\n",
      "Ti esrever dna ti pilf, nwod gniht ym tup (C'mon)\n",
      "C'mon\n",
      "\n",
      "[Bridge]\n",
      "Boys, boys, all type of boys\n",
      "Black, White, Puerto Rican, Chinese boys (C'mon)\n",
      "Why-thai, thai-o-toy-o-thai-thai\n",
      "Rock-thai, thai-o-toy-o-thai-thai (C'mon)\n",
      "Girls, girls, get that cash\n",
      "If it's 9 to 5 or shaking your ass (Aha)\n",
      "Ain't no shame, ladies do your thing (C'mon)\n",
      "Just make sure you ahead of the game\n",
      "\n",
      "[Verse 3]\n",
      "Just 'cause I got a lot of fame super\n",
      "Prince couldn't get me change my name, papa\n",
      "Kunta Kinte a slave again, no sir\n",
      "Picture Blacks saying, “Oh yes'a, massa”\n",
      "Picture Lil' Kim dating a pastor\n",
      "Minute Man, Big Red could outlast ya\n",
      "Who is the best? I don't have to ask ya\n",
      "When I come out, you won't even matter (Ugh)\n",
      "Why you act dumb like, uhhhh, duh?\n",
      "So you act dumb like, uhhhhh, duh\n",
      "As the drummer boy go ba-rom-pop-pom-pom (Ooh)\n",
      "Give you some-some-some of this Cinnabun (C'mon)\n",
      "\n",
      "[Chorus]\n",
      "Is it worth it? Let me work it\n",
      "I put my thing down, flip it and reverse it\n",
      "Ti esrever dna ti pilf, nwod gniht ym tup\n",
      "Ti esrever dna ti pilf, nwod gniht ym tup (Ooh)\n",
      "If you got a big *elephant trumpet*, let me search ya\n",
      "And find out how hard I gotta work ya\n",
      "Ti esrever dna ti pilf, nwod gniht ym tup\n",
      "Ti esrever dna ti pilf, nwod gniht ym tup\n",
      "C'mon\n",
      "\n",
      "[Break]\n",
      "To my fellas (Ooh, good god!)\n",
      "I like the way you work that (Uh-huh, la-la-la-la)\n",
      "To my ladies (Whoo! Good god!)\n",
      "You sure know how to work that\n",
      "\n",
      "[Outro]\n",
      "Yeah, it's Missy Elliott!\n",
      "I hope y'all enjoying what y'all heard so far\n",
      "I was sittin' here thinkin' like\n",
      "Big Daddy Kane and Public Enemy\n",
      "Salt n Pepa, Lyte, EPMD, LL, Run-DMC\n",
      "KRS-One, Rakim\n",
      "Most of them artists used to dance\n",
      "And still get respected in the street\n",
      "Don't be scared to Bankhead or Bogo\n",
      "Or move as far as sold Michael Jackson 43 million\n",
      "Shoot, errbody have the zipper jacket\n",
      "And half of these thugs have the glove to match, ya feel me?\n",
      "Yo, it's ok though, if you wanna be hard and ice grill\n",
      "And Harlem Shake at the same time, whatever\n",
      "Let's just have fun, it's hip-hop man, this is hip-hop!\n",
      "[Produced by Pharrell]\n",
      "\n",
      "[Intro]\n",
      "\n",
      "[Hook: Missy Elliott (Pharrell)]\n",
      "(Shorty what?)\n",
      "The dance that you doing is dumb\n",
      "How they do it where you from? (Ayy!, Triflin'!)\n",
      "Stickin' out your tongue\n",
      "Girl, but you know you're too young\n",
      "A bunch of girls do it and the shit look fun\n",
      "That's how they do it where we from (Ayy!)\n",
      "You know it don't start till one\n",
      "That's how they do it where they from\n",
      "\n",
      "[Verse 1: Missy Elliott]\n",
      "I'm so faded, no exaggeration (What?)\n",
      "Backs breakin' like a percolation (What?)\n",
      "Boys to the yard for some hip spankin'\n",
      "Where you make it drop down like you in the matrix (Yeah!)\n",
      "Can't take it, them chicks been fakin' (What?)\n",
      "Y'all still sleep, better stay awakened (What?)\n",
      "Hot new dance for the hood to make it\n",
      "Make the donk move fast, make them think you drinkin' (Yeah!)\n",
      "Head to the floor don't collect that though (What?)\n",
      "You better huddle up cause the beat's so cold (Huh?)\n",
      "Pop that, pop that, cock and reload (Huh?)\n",
      "This another hit, I got an ace in the hole (What?)\n",
      "Boys on my back, playa, did you peep that?\n",
      "You got a small stack, playa, you can keep that (Huh?)\n",
      "I'm a Big Mac make you wanna eat that\n",
      "Like m-m-m-m-m, yak it to the yak (Yeah?)\n",
      "Junk in the trunk make you pumps in the bump\n",
      "Girls wanna have fun make you stickin' out your tongue (What?)\n",
      "\n",
      "[Hook: Missy Elliott]\n",
      "Shorty what?\n",
      "The dance that you doing is dumb\n",
      "How they do it where you from?\n",
      "Stickin' out your tongue girl\n",
      "But you know you're too young\n",
      "A bunch of girls do it and the shit look fun\n",
      "That's how they do it where we from\n",
      "You know it don't start till one\n",
      "That's how they do it where they from\n",
      "\n",
      "[Verse 2: Pharrell]\n",
      "I come into this bitch like liquid\n",
      "Drip, drip, then the business\n",
      "Click, click, get your picture\n",
      "Hermés Trismegistus\n",
      "Witness and get lifted\n",
      "Basic, nigga I was born in the basement\n",
      "Shape shift, nigga, I think like a spaceship\n",
      "False, oh-nah-nah-nah\n",
      "I am so different than y'all, so far apart\n",
      "The way that I balance the bars\n",
      "I never fall, and if I do I just call\n",
      "The almighty yellow star, God\n",
      "Lyrically I'm Optimus Prime\n",
      "The car I drive; La FER-RAR-I\n",
      "When I go by, smoke in your eyes\n",
      "So open your eyes, the joke's on you guys\n",
      "And you ain't gotta be a mason to see through\n",
      "Some of this shit on occasion\n",
      "\n",
      "[Hook: Missy Elliott]\n",
      "Shorty what?\n",
      "The dance that you doing is dumb\n",
      "How they do it where you from?\n",
      "Stickin' out your tongue, girl\n",
      "But you know you're too young\n",
      "A bunch of girls do it and the shit look fun\n",
      "That's how they do it where we from\n",
      "You know it don't start till one\n",
      "That's how they do it where they from\n",
      "\n",
      "[Verse 3: Missy Elliott]\n",
      "I'm like kak-a-rak-a-rak-rak-a-rak-a-rak\n",
      "Make a new track, make 'em fall on they crack\n",
      "Give 'em a slap, appetizer and smack\n",
      "I'm so fat in the back, make the boys all collapse\n",
      "Yeah, when I rap they be all on my jack\n",
      "Boys wanna jump on this pussy cat (Prrrr)\n",
      "Got a new idea, let me switch it\n",
      "Man, I'm so futuristic\n",
      "Big lips and big, big, big hips\n",
      "Body be thick like a biscuit\n",
      "Different, rippin' shit, microphone grippin' it\n",
      "Gettin' these Benjamins, new car, whippin' it\n",
      "Uh, I'm so far ahead of ya'll, man I'm on top of the stars\n",
      "I don't care none of you are, blah-blah-blah-blah\n",
      "You best to go rewrite your bars\n",
      "\n",
      "[Outro Missy Elliott & (Pharrell)]\n",
      "Shawty what?\n",
      "How they do it where you from? (Triflin'!)\n",
      "How they do it where you from?\n",
      "That's how they do it where we from\n",
      "That's how they do it where they from\n",
      "Shawty what?\n",
      "How they do it where you from? (Hey!)\n",
      "How they do it where you from?\n",
      "That's how they do it where we from\n",
      "That's how they do it where they from\n",
      "[Intro: Missy Elliott & Timbaland]\n",
      "[*Yawning*]\n",
      "Run the track\n",
      "\n",
      "[Chorus: Missy Elliott & Ann Peebles]\n",
      "Me I'm super fly, super dupa fly\n",
      "(I can't stand the rain) Supa dupa fly\n",
      "Me I'm super fly, (against my window) super dupa fly\n",
      "(I can't stand the rain) supa dupa fly\n",
      "Me I'm super fly, (against my window) super dupa fly\n",
      "(I can't stand the rain) supa dupa fly\n",
      "Me I'm super fly, (against my window)\n",
      "\n",
      "[Verse 1: Missy Elliott]\n",
      "When the rain hits my window\n",
      "I take and *cough* me some indo\n",
      "Me and Timbaland, ooh, we sang a jangle\n",
      "We so tight that you get our styles tangled\n",
      "Sway on dosie-do like you loco\n",
      "Can we get kinky tonight?\n",
      "Like Coko, so-so\n",
      "You don't wanna play with my Yo-Yo\n",
      "I smoke my hydro on the D-low (D-D-D-D-D-low)\n",
      "\n",
      "[Hook: Ann Peebles]\n",
      "I can't stand the rain against my window\n",
      "I can't stand the rain against my window\n",
      "I can't stand the rain against my window\n",
      "I can't stand the rain against my window\n",
      "I can't stand the rain\n",
      "\n",
      "[Verse 2: Missy Elliott]\n",
      "Beep, beep, who got the keys to the Jeep, vroom\n",
      "I'm driving to the beach\n",
      "Top down, loud sounds, see my peeps\n",
      "Give them pounds, now look who it be\n",
      "It be me, me, me and Timothy\n",
      "Look like it's 'bout to rain, what a shame\n",
      "I got the Armor-All to shine up the stain\n",
      "Oh, Missy, try to maintain\n",
      "Icky-icky-icky-icky-icky-icky-icky\n",
      "\n",
      "[Hook: Ann Peebles]\n",
      "I can't stand the rain against my window\n",
      "I can't stand the rain against my window\n",
      "I can't stand the rain against my window\n",
      "I can't stand the rain against my window\n",
      "I can't stand the rain\n",
      "\n",
      "[Verse 3: Missy Elliott & Ann Peebles]\n",
      "I feel the wind\n",
      "5, 6, 7, 8, 9, 10\n",
      "9, 10\n",
      "Begin, I sit on Hills like Lauryn\n",
      "Until the rain starts coming down, pouring\n",
      "Chill, I got my umbrella\n",
      "My finger waves these days, they fall like Humpty\n",
      "Chumpy, I break up with him before he dump me\n",
      "To have me, (I can't stand the rain), yes, you lucky (against my window)\n",
      "\n",
      "[Outro: Ann Peebles]\n",
      "I can't stand the rain against my window\n",
      "I can't stand the rain against my window\n",
      "I can't stand the rain against my window\n",
      "I can't stand the rain\n",
      "I can't stand the rain\n",
      "I can't stand the rain\n",
      "I can't stand the rain\n",
      "I can't stand the rain against my window\n",
      "I can't stand the rain against my window\n",
      "I I can't stand the rain against my window\n",
      "I can't stand the rain against my window\n",
      "I can't stand the rain\n",
      "I can't stand the rain\n",
      "I can't stand the rain\n",
      "I can't stand the rain\n"
     ]
    }
   ],
   "source": [
    "for song in song_titles:\n",
    "    formatted_song = format_song(song)\n",
    "    response = requests.get(f\"https://genius.com/Missy-elliott-{formatted_song}-lyrics\")\n",
    "    html_string = response.text\n",
    "    document = BeautifulSoup(html_string, \"html.parser\")\n",
    "    lyrics = document.find('p').text\n",
    "    print(lyrics)"
   ]
  },
  {
   "cell_type": "markdown",
   "metadata": {},
   "source": [
    "## Write Lyrics to a Text File"
   ]
  },
  {
   "cell_type": "code",
   "execution_count": 152,
   "metadata": {},
   "outputs": [],
   "source": [
    "song_titles = ['Work It', 'WTF (Where They From)', 'The Rain (Supa Dupa Fly)']"
   ]
  },
  {
   "cell_type": "markdown",
   "metadata": {},
   "source": [
    "Here we are writing the lyrics to a text file rather than printing them out.\n",
    "\n",
    "Again, use your `format_song()` function to create the variable `formatted_song`, which will allow the code below to work."
   ]
  },
  {
   "cell_type": "code",
   "execution_count": 160,
   "metadata": {},
   "outputs": [],
   "source": [
    "with open('Missy-Elliott-Lyrics.txt', mode='w') as file_object:\n",
    "    \n",
    "    for song in song_titles:\n",
    "        formatted_song = format_song(song)  #Use your format_song() function here\n",
    "        response = requests.get(f\"https://genius.com/Missy-elliott-{formatted_song}-lyrics\")\n",
    "        html_string = response.text\n",
    "        document = BeautifulSoup(html_string, \"html.parser\")\n",
    "        lyrics = document.find('p').text\n",
    "        \n",
    "        file_object.write(lyrics)"
   ]
  },
  {
   "cell_type": "markdown",
   "metadata": {},
   "source": [
    "## Count Top Words From File"
   ]
  },
  {
   "cell_type": "markdown",
   "metadata": {},
   "source": [
    "If we wanted to find out the most frequent words in Missy Elliott's lyrics, we could use the word counter code that we've used in previous lessons."
   ]
  },
  {
   "cell_type": "code",
   "execution_count": 24,
   "metadata": {},
   "outputs": [],
   "source": [
    "import re\n",
    "from collections import Counter\n",
    "\n",
    "stopwords = ['i', 'me', 'my', 'myself', 'we', 'our', 'ours', 'ourselves', 'you', 'your', 'yours',\n",
    " 'yourself', 'yourselves', 'he', 'him', 'his', 'himself', 'she', 'her', 'hers',\n",
    " 'herself', 'it', 'its', 'itself', 'they', 'them', 'their', 'theirs', 'themselves',\n",
    " 'what', 'which', 'who', 'whom', 'this', 'that', 'these', 'those', 'am', 'is', 'are',\n",
    " 'was', 'were', 'be', 'been', 'being', 'have', 'has', 'had', 'having', 'do', 'does',\n",
    " 'did', 'doing', 'a', 'an', 'the', 'and', 'but', 'if', 'or', 'because', 'as', 'until',\n",
    " 'while', 'of', 'at', 'by', 'for', 'with', 'about', 'against', 'between', 'into',\n",
    " 'through', 'during', 'before', 'after', 'above', 'below', 'to', 'from', 'up', 'down',\n",
    " 'in', 'out', 'on', 'off', 'over', 'under', 'again', 'further', 'then', 'once', 'here',\n",
    " 'there', 'when', 'where', 'why', 'how', 'all', 'any', 'both', 'each', 'few', 'more',\n",
    " 'most', 'other', 'some', 'such', 'no', 'nor', 'not', 'only', 'own', 'same', 'so',\n",
    " 'than', 'too', 'very', 's', 't', 'can', 'will', 'just', 'don', 'should', 'now', 've', 'll', 'amp']\n",
    "\n",
    "\n",
    "def split_into_words(any_chunk_of_text):\n",
    "    lowercase_text = any_chunk_of_text.lower()\n",
    "    split_words = re.split(\"\\W+\", lowercase_text)\n",
    "    return split_words\n",
    "\n",
    "def get_top_words(full_text, number_of_words=20):\n",
    "    all_the_words = split_into_words(full_text)\n",
    "    meaningful_words = [word for word in all_the_words if word not in stopwords]\n",
    "    meaningful_words_tally = Counter(meaningful_words)\n",
    "    most_frequent_meaningful_words = meaningful_words_tally.most_common(number_of_words)\n",
    "    return most_frequent_meaningful_words"
   ]
  },
  {
   "cell_type": "markdown",
   "metadata": {},
   "source": [
    "Let's read in the file that we created and get the top words."
   ]
  },
  {
   "cell_type": "code",
   "execution_count": 25,
   "metadata": {},
   "outputs": [
    {
     "data": {
      "text/plain": [
       "[('ti', 33),\n",
       " ('rain', 32),\n",
       " ('stand', 29),\n",
       " ('ya', 23),\n",
       " ('like', 21),\n",
       " ('m', 20),\n",
       " ('window', 20),\n",
       " ('esrever', 16),\n",
       " ('dna', 16),\n",
       " ('pilf', 16),\n",
       " ('nwod', 16),\n",
       " ('gniht', 16),\n",
       " ('ym', 16),\n",
       " ('tup', 16),\n",
       " ('missy', 14),\n",
       " ('elliott', 13),\n",
       " ('make', 13),\n",
       " ('let', 12),\n",
       " ('get', 12),\n",
       " ('work', 11)]"
      ]
     },
     "execution_count": 25,
     "metadata": {},
     "output_type": "execute_result"
    }
   ],
   "source": [
    "missy_lyrics = open('Missy-Elliott-Lyrics.txt').read()\n",
    "get_top_words(missy_lyrics)"
   ]
  },
  {
   "cell_type": "markdown",
   "metadata": {},
   "source": [
    "## What patterns do you notice about the top 20 words from these Missy Elliott songs?\n",
    "Feel free to open the text file in the file browser at the left and inspect the lyrics manually"
   ]
  },
  {
   "cell_type": "markdown",
   "metadata": {},
   "source": [
    "## Bonus: If You Wanted to Change the Artist..."
   ]
  },
  {
   "cell_type": "code",
   "execution_count": 26,
   "metadata": {
    "scrolled": true
   },
   "outputs": [
    {
     "name": "stdout",
     "output_type": "stream",
     "text": [
      "[Intro: Jungkook]\n",
      "'Cause I, I, I'm in the stars tonight\n",
      "So watch me bring the fire and set the night alight\n",
      "\n",
      "[Verse 1: Jungkook]\n",
      "Shoes on, get up in the morn'\n",
      "Cup of milk, let's rock and roll\n",
      "King Kong, kick the drum\n",
      "Rolling on like a Rolling Stone\n",
      "Sing song when I'm walkin' home\n",
      "Jump up to the top, LeBron\n",
      "Ding-dong, call me on my phone\n",
      "Ice tea and a game of ping pong\n",
      "\n",
      "[Pre-Chorus: RM, j-hope]\n",
      "This is gettin' heavy, can you hear the bass boom? I'm ready (Woo-hoo)\n",
      "Life is sweet as honey, yeah, this beat cha-ching like money, huh\n",
      "Disco overload, I'm into that, I'm good to go\n",
      "I'm diamond, you know I glow up\n",
      "Hey, so let's go\n",
      "\n",
      "[Chorus: Jungkook, Jimin]\n",
      "'Cause I, I, I'm in the stars tonight\n",
      "So watch me bring the fire and set the night alight (Hey)\n",
      "Shinin' through the city with a little funk and soul\n",
      "So I'ma light it up like dynamite, woah-oh-oh\n",
      "\n",
      "[Verse 2: V, RM]\n",
      "Bring a friend, join the crowd, whoever wanna come along\n",
      "Word up, talk the talk, just move like we off the wall\n",
      "Day or night, the sky's alight, so we dance to the break of dawn (Hey)\n",
      "Ladies and gentlemen, I got the medicine so you should keep ya eyes on the ball\n",
      "\n",
      "[Pre-Chorus: Suga, Jimin, RM]\n",
      "Huh, this is gettin' heavy, can you hear the bass boom? I'm ready (Woo-hoo)\n",
      "Life is sweet as honey, yeah, this beat cha-ching like money, huh\n",
      "Disco overload, I'm into that, I'm good to go\n",
      "I'm diamond, you know I glow up\n",
      "Let's go\n",
      "\n",
      "[Chorus: Jungkook, V]\n",
      "'Cause I, I, I'm in the stars tonight\n",
      "So watch me bring the fire and set the night alight (Hey)\n",
      "Shinin' through the city with a little funk and soul\n",
      "So I'ma light it up like dynamite, woah-oh-oh\n",
      "\n",
      "[Post-Chorus: Jungkook, Jimin, Jin]\n",
      "Dyn-na-na-na, na-na-na-na-na, na-na-na, life is dynamite\n",
      "Dyn-na-na-na, na-na-na-na-na, na-na-na, life is dynamite\n",
      "Shinin' through the city with a little funk and soul\n",
      "So I'ma light it up like dynamite, woah-oh-oh\n",
      "\n",
      "[Bridge: Jungkook, j-hope, Jimin, V]\n",
      "Dyn-na-na-na, na-na, na-na, ayy\n",
      "Dyn-na-na-na, na-na, na-na, ayy\n",
      "Dyn-na-na-na, na-na, na-na, ayy\n",
      "Light it up like dynamite\n",
      "Dyn-na-na-na, na-na, na-na, ayy\n",
      "Dyn-na-na-na, na-na, na-na, ayy\n",
      "Dyn-na-na-na, na-na, na-na, ayy\n",
      "Light it up like dynamite\n",
      "\n",
      "[Chorus: Jimin, Jungkook, Jin]\n",
      "'Cause I, I, I'm in the stars tonight\n",
      "So watch me bring the fire and set the night alight\n",
      "Shinin' through the city with a little funk and soul\n",
      "So I'ma light it up like dynamite\n",
      "(This is ah) 'Cause I, I, I'm in the stars tonight\n",
      "So watch me bring the fire and set the night alight (Alight, oh)\n",
      "Shinin' through the city with a little funk and soul\n",
      "So I'ma light (Light) it (It) up (Up) like (Like) dynamite (Dynamite), woah-oh-oh\n",
      "\n",
      "[Post-Chorus: Jungkook, Jimin, V]\n",
      "Dyn-na-na-na, na-na-na-na-na, na-na-na, life is dynamite (Life is dynamite)\n",
      "Dyn-na-na-na, na-na-na-na-na, na-na-na, life is dynamite (Oh)\n",
      "Shinin' through the city with a little funk and soul\n",
      "So I'ma light it up like dynamite, woah-oh-oh\n",
      "[방탄소년단의 Euphoria 가사]\n",
      "\n",
      "[Verse 1: Jungkook]\n",
      "너는 내 삶에 다시 뜬 햇빛\n",
      "어린 시절 내 꿈들의 재림\n",
      "모르겠어 이 감정이 뭔지\n",
      "혹시 여기도 꿈속인 건지\n",
      "꿈은 사막의 푸른 신기루\n",
      "내 안 깊은 곳의 a priori\n",
      "숨이 막힐 듯이 행복해져\n",
      "주변이 점점 더 투명해져\n",
      "\n",
      "[Pre-Chorus: Jungkook]\n",
      "저기 멀리서 바다가 들려\n",
      "꿈을 건너서 수풀 너머로\n",
      "선명해지는 그 곳으로 가\n",
      "Take my hands now\n",
      "You are the cause of my euphoria\n",
      "\n",
      "[Chorus: Jungkook]\n",
      "Euphoria\n",
      "Take my hands now\n",
      "You are the cause of my euphoria\n",
      "Oh yeah, yeah, yeah, yeah, yeah, yeah (Oh)\n",
      "Oh yeah, yeah, yeah, yeah, yeah, yeah (Euphoria)\n",
      "Oh yeah, yeah, yeah, yeah, yeah, yeah\n",
      "Close the door now\n",
      "When I'm with you, I'm in utopia\n",
      "\n",
      "[Verse 2: Jungkook]\n",
      "무지개처럼\n",
      "지워진 꿈을 찾아 헤맸을까\n",
      "운명 같은 흔한 말관 달라\n",
      "아픈 너의 눈빛이 나와 같은 곳을 보는 걸\n",
      "Won't you please stay in dreams, yeah?\n",
      "\n",
      "[Pre-Chorus: Jungkook]\n",
      "저기 멀리서 바다가 들려\n",
      "꿈을 건너서 수풀 너머로\n",
      "선명해지는 그곳으로 가\n",
      "Take my hands now\n",
      "You are the cause of my euphoria\n",
      "\n",
      "[Chorus: Jungkook]\n",
      "Oh, yeah, yeah, yeah, yeah, yeah, yeah\n",
      "Euphoria\n",
      "Take my hands now\n",
      "You are the cause of my euphoria\n",
      "\n",
      "[Bridge: Jungkook]\n",
      "모래 바닥이 갈라진대도\n",
      "그 누가 이 세겔 흔들어도\n",
      "잡은 손 절대 놓지 말아 줘\n",
      "제발 꿈에서 깨어나지 마\n",
      "\n",
      "[Pre-Chorus: Jungkook]\n",
      "저기 멀리서 바다가 들려\n",
      "꿈을 건너서 수풀 너머로\n",
      "(제발 꿈에서 깨어나지 마)\n",
      "선명해지는 그곳으로 가\n",
      "Take my hands now\n",
      "You are the cause of my euphoria\n",
      "\n",
      "[Chorus: Jungkook]\n",
      "Yeah, yeah, yeah, yeah\n",
      "Euphoria (Euphoria, oh)\n",
      "Take my hands now\n",
      "You are the cause of my euphoria\n",
      "Oh yeah, yeah, yeah, yeah, yeah, yeah (Yeah, yeah, yeah, yeah)\n",
      "Oh yeah, yeah, yeah, yeah, yeah, yeah (Oh, euphoria)\n",
      "Oh yeah, yeah, yeah, yeah, yeah, yeah\n",
      "Close the door now\n",
      "When I'm with you, I'm in utopia\n",
      "[방탄소년단의 FAKE LOVE 가사]\n",
      "\n",
      "[Intro: V, Jungkook]\n",
      "널 위해서라면 난\n",
      "슬퍼도 기쁜 척 할 수가 있었어\n",
      "널 위해서라면 난\n",
      "아파도 강한 척 할 수가 있었어\n",
      "사랑이 사랑만으로 완벽하길\n",
      "내 모든 약점들은 다 숨겨지길\n",
      "이뤄지지 않는 꿈속에서\n",
      "피울 수 없는 꽃을 키웠어\n",
      "\n",
      "[Hook: Jimin, Jin]\n",
      "I'm so sick of this fake love, fake love, fake love\n",
      "I'm so sorry but it's fake love, fake love, fake love\n",
      "\n",
      "[Verse 1: RM, RM & Jungkook, J-Hope]\n",
      "I wanna be a good man just for you\n",
      "세상을 줬네 just for you\n",
      "전부 바꿨어 just for you\n",
      "Now I don't know me, who are you?\n",
      "우리만의 숲 너는 없었어\n",
      "내가 왔던 route 잊어버렸어\n",
      "나도 내가 누구였는지도 잘 모르게 됐어\n",
      "거울에다 지껄여봐 너는 대체 누구니\n",
      "\n",
      "[Pre-Chorus: Jimin, Jin]\n",
      "널 위해서라면 난\n",
      "슬퍼도 기쁜 척 할 수가 있었어\n",
      "널 위해서라면 난\n",
      "아파도 강한 척 할 수가 있었어\n",
      "사랑이 사랑만으로 완벽하길\n",
      "내 모든 약점들은 다 숨겨지길\n",
      "이뤄지지 않는 꿈속에서\n",
      "피울 수 없는 꽃을 키웠어\n",
      "\n",
      "[Chorus: Jungkook, V]\n",
      "Love you so bad, love you so bad\n",
      "널 위해 예쁜 거짓을 빚어내\n",
      "Love it's so mad, love it's so mad\n",
      "날 지워 너의 인형이 되려 해\n",
      "Love you so bad, love you so bad\n",
      "널 위해 예쁜 거짓을 빚어내\n",
      "Love it's so mad, love it's so mad\n",
      "날 지워 너의 인형이 되려 해\n",
      "\n",
      "[Hook: Jimin, Jin]\n",
      "I'm so sick of this fake love, fake love, fake love\n",
      "I'm so sorry but it's fake love, fake love, fake love\n",
      "\n",
      "[Verse 2: RM, Suga]\n",
      "Why you sad? I don't know 난 몰라\n",
      "웃어봐 사랑해 말해봐\n",
      "나를 봐 나조차도 버린 나\n",
      "너조차 이해할 수 없는 나\n",
      "낯설다 하네\n",
      "니가 좋아하던 나로 변한 내가\n",
      "아니라 하네\n",
      "예전에 니가 잘 알고 있던 내가\n",
      "아니긴 뭐가 아냐 난 눈 멀었어\n",
      "사랑은 뭐가 사랑 it's all fake love\n",
      "\n",
      "[Bridge: Jimin, Jin]\n",
      "(Woo) I don't know, I don't know, I don't know why\n",
      "(Woo) 나도 날 나도 날 모르겠어\n",
      "(Woo) I just know, I just know, I just know why\n",
      "'Cause it's all fake love, fake love, fake love\n",
      "\n",
      "[Chorus: Jungkook, Jimin]\n",
      "Love you so bad, love you so bad\n",
      "널 위해 예쁜 거짓을 빚어내\n",
      "Love it's so mad, love it's so mad\n",
      "날 지워 너의 인형이 되려 해\n",
      "Love you so bad, love you so bad\n",
      "널 위해 예쁜 거짓을 빚어내\n",
      "Love it's so mad, love it's so mad\n",
      "날 지워 너의 인형이 되려 해\n",
      "\n",
      "[Hook: Jimin, Jin]\n",
      "I'm so sick of this fake love, fake love, fake love\n",
      "I'm so sorry but it's fake love, fake love, fake love\n",
      "\n",
      "[Outro: Jimin/V, Jungkook/Jin]\n",
      "널 위해서라면 난\n",
      "슬퍼도 기쁜 척 할 수가 있었어\n",
      "널 위해서라면 난\n",
      "아파도 강한 척 할 수가 있었어\n",
      "사랑이 사랑만으로 완벽하길\n",
      "내 모든 약점들은 다 숨겨지길\n",
      "이뤄지지 않는 꿈속에서\n",
      "피울 수 없는 꽃을 키웠어\n"
     ]
    }
   ],
   "source": [
    "artist = 'Bts'\n",
    "song_titles = ['Dynamite', 'Euphoria', 'Fake Love']\n",
    "\n",
    "for song in song_titles:\n",
    "    formatted_song = format_song(song)\n",
    "    response = requests.get(f\"https://genius.com/{artist}-{formatted_song}-lyrics\")\n",
    "    html_string = response.text\n",
    "    document = BeautifulSoup(html_string, \"html.parser\")\n",
    "    lyrics = document.find('p').text\n",
    "    print(lyrics)"
   ]
  },
  {
   "cell_type": "markdown",
   "metadata": {},
   "source": [
    "## Group Discussion"
   ]
  },
  {
   "cell_type": "markdown",
   "metadata": {},
   "source": [
    "* Do you think scholars should use web scraping in their research? Why or why not?\n",
    "* How would you feel if you found out that one of your social media posts had been included in an academic article without your knowledge?\n",
    "* What are some strategies that you think scholars might use to do web scraping in an ethical way?"
   ]
  }
 ],
 "metadata": {
  "kernelspec": {
   "display_name": "Python 3",
   "language": "python",
   "name": "python3"
  },
  "language_info": {
   "codemirror_mode": {
    "name": "ipython",
    "version": 3
   },
   "file_extension": ".py",
   "mimetype": "text/x-python",
   "name": "python",
   "nbconvert_exporter": "python",
   "pygments_lexer": "ipython3",
   "version": "3.7.6"
  }
 },
 "nbformat": 4,
 "nbformat_minor": 4
}
