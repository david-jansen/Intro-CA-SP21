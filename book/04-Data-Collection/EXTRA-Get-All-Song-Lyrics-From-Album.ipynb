{
 "cells": [
  {
   "cell_type": "markdown",
   "metadata": {},
   "source": [
    "# Get All Song Lyrics From Album"
   ]
  },
  {
   "cell_type": "code",
   "execution_count": 29,
   "metadata": {
    "scrolled": true
   },
   "outputs": [
    {
     "name": "stdout",
     "output_type": "stream",
     "text": [
      "Collecting git+https://github.com/johnwmillr/LyricsGenius.git\n",
      "  Cloning https://github.com/johnwmillr/LyricsGenius.git to /private/var/folders/4l/bx7dg7fd1110c38m8hdxjbz00000gn/T/pip-req-build-3r_2ce2b\n",
      "  Running command git clone -q https://github.com/johnwmillr/LyricsGenius.git /private/var/folders/4l/bx7dg7fd1110c38m8hdxjbz00000gn/T/pip-req-build-3r_2ce2b\n",
      "Requirement already satisfied (use --upgrade to upgrade): lyricsgenius==1.8.5 from git+https://github.com/johnwmillr/LyricsGenius.git in /Users/melaniewalsh/opt/anaconda3/lib/python3.7/site-packages\n",
      "Requirement already satisfied: beautifulsoup4==4.6.0 in /Users/melaniewalsh/opt/anaconda3/lib/python3.7/site-packages (from lyricsgenius==1.8.5) (4.6.0)\n",
      "Requirement already satisfied: requests>=2.20.0 in /Users/melaniewalsh/opt/anaconda3/lib/python3.7/site-packages (from lyricsgenius==1.8.5) (2.23.0)\n",
      "Requirement already satisfied: chardet<4,>=3.0.2 in /Users/melaniewalsh/opt/anaconda3/lib/python3.7/site-packages (from requests>=2.20.0->lyricsgenius==1.8.5) (3.0.4)\n",
      "Requirement already satisfied: certifi>=2017.4.17 in /Users/melaniewalsh/opt/anaconda3/lib/python3.7/site-packages (from requests>=2.20.0->lyricsgenius==1.8.5) (2020.4.5.1)\n",
      "Requirement already satisfied: idna<3,>=2.5 in /Users/melaniewalsh/opt/anaconda3/lib/python3.7/site-packages (from requests>=2.20.0->lyricsgenius==1.8.5) (2.9)\n",
      "Requirement already satisfied: urllib3!=1.25.0,!=1.25.1,<1.26,>=1.21.1 in /Users/melaniewalsh/opt/anaconda3/lib/python3.7/site-packages (from requests>=2.20.0->lyricsgenius==1.8.5) (1.25.9)\n",
      "Building wheels for collected packages: lyricsgenius\n",
      "  Building wheel for lyricsgenius (setup.py) ... \u001b[?25ldone\n",
      "\u001b[?25h  Created wheel for lyricsgenius: filename=lyricsgenius-1.8.5-py3-none-any.whl size=15042 sha256=476a58dc0201ee60b7e832d05ba29a2426325e32ba6bae4c454a987e4b4c2413\n",
      "  Stored in directory: /private/var/folders/4l/bx7dg7fd1110c38m8hdxjbz00000gn/T/pip-ephem-wheel-cache-vfx4eftw/wheels/12/d5/2b/6b771ebb067bceb8816ec5eef0dd0d36bf069b18f03ac8ca20\n",
      "Successfully built lyricsgenius\n"
     ]
    }
   ],
   "source": [
    "!pip install git+https://github.com/johnwmillr/LyricsGenius.git"
   ]
  },
  {
   "cell_type": "code",
   "execution_count": 1,
   "metadata": {},
   "outputs": [],
   "source": [
    "import lyricsgenius\n",
    "import requests\n",
    "from bs4 import BeautifulSoup\n",
    "import re\n",
    "from pathlib import Path"
   ]
  },
  {
   "cell_type": "code",
   "execution_count": null,
   "metadata": {},
   "outputs": [],
   "source": [
    "client_access_token = \"YOUR CLIENT ACCESS TOKEN\""
   ]
  },
  {
   "cell_type": "code",
   "execution_count": 3,
   "metadata": {},
   "outputs": [],
   "source": [
    "def clean_up(song_title):\n",
    "\n",
    "    if \"Ft\" in song_title:\n",
    "        before_ft_pattern = re.compile(\".*(?=\\(Ft)\")\n",
    "        song_title_before_ft = before_ft_pattern.search(song_title).group(0)\n",
    "        clean_song_title = song_title_before_ft.strip()\n",
    "        clean_song_title = clean_song_title.replace(\"/\", \"-\")\n",
    "    \n",
    "    else:\n",
    "        song_title_no_lyrics = song_title.replace(\"Lyrics\", \"\")\n",
    "        clean_song_title = song_title_no_lyrics.strip()\n",
    "        clean_song_title = clean_song_title.replace(\"/\", \"-\")\n",
    "    \n",
    "    return clean_song_title"
   ]
  },
  {
   "cell_type": "code",
   "execution_count": 4,
   "metadata": {},
   "outputs": [],
   "source": [
    "def get_all_songs_from_album(artist, album_name):\n",
    "    \n",
    "    artist = artist.replace(\" \", \"-\")\n",
    "    album_name = album_name.replace(\" \", \"-\")\n",
    "    \n",
    "    response = requests.get(f\"https://genius.com/albums/{artist}/{album_name}\")\n",
    "    html_string = response.text\n",
    "    document = BeautifulSoup(html_string, \"html.parser\")\n",
    "    song_title_tags = document.find_all(\"h3\", attrs={\"class\": \"chart_row-content-title\"})\n",
    "    song_titles = [song_title.text for song_title in song_title_tags]\n",
    "    \n",
    "    clean_songs = []\n",
    "    for song_title in song_titles:\n",
    "        clean_song = clean_up(song_title)\n",
    "        clean_songs.append(clean_song)\n",
    "        \n",
    "    return clean_songs"
   ]
  },
  {
   "cell_type": "code",
   "execution_count": 5,
   "metadata": {},
   "outputs": [],
   "source": [
    "def download_album_lyrics(artist, album_name): \n",
    "    \n",
    "    # Set up LyricsGenius with your Genius API client access token\n",
    "    #client_access_token = Your-Client-Access-Token\n",
    "    LyricsGenius = lyricsgenius.Genius(client_access_token)\n",
    "    LyricsGenius.remove_section_headers = True\n",
    "    \n",
    "    # With the function that we previously created, go to Genius.com and get all song titles for a particular artist's album\n",
    "    clean_songs = get_all_songs_from_album(artist, album_name)\n",
    "    \n",
    "    for song in clean_songs:\n",
    "        \n",
    "        #For each song in the list, search for that song with LyricsGenius\n",
    "        song_object = LyricsGenius.search_song(song, artist)\n",
    "        \n",
    "        #If the song is not empty\n",
    "        if song_object != None:\n",
    "            \n",
    "            #Do some cleaning and prep for the filename of the song\n",
    "            artist_title = artist.replace(\" \", \"-\")\n",
    "            album_title = album_name.replace(\" \", \"-\")\n",
    "            song_title = song.replace(\"/\", \"-\")\n",
    "            song_title = song.replace(\" \", \"-\")\n",
    "            \n",
    "            #Establish the filename for each song inside a directory that begins with the artist's name and album title\n",
    "            custom_filename=f\"{artist_title}_{album_title}/{song_title}\"\n",
    "            \n",
    "            #A line of code that we need to create a directory\n",
    "             #os.makedirs(os.path.dirname(filename), exist_ok=True)\n",
    "            Path(f\"{artist_title}_{album_title}\").mkdir(parents=True, exist_ok=True)\n",
    "            \n",
    "            #Save the lyrics for the song as a text file\n",
    "            song_object.save_lyrics(filename=custom_filename, extension='txt', sanitize=False)\n",
    "        \n",
    "        #If the song doesn't contain lyrics\n",
    "        else:\n",
    "            print('No lyrics')"
   ]
  },
  {
   "cell_type": "code",
   "execution_count": null,
   "metadata": {},
   "outputs": [],
   "source": [
    "download_album_lyrics(\"Missy Elliott\", \"Under Construction\")"
   ]
  }
 ],
 "metadata": {
  "kernelspec": {
   "display_name": "Python 3",
   "language": "python",
   "name": "python3"
  },
  "language_info": {
   "codemirror_mode": {
    "name": "ipython",
    "version": 3
   },
   "file_extension": ".py",
   "mimetype": "text/x-python",
   "name": "python",
   "nbconvert_exporter": "python",
   "pygments_lexer": "ipython3",
   "version": "3.7.6"
  }
 },
 "nbformat": 4,
 "nbformat_minor": 4
}
