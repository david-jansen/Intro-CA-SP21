{
 "cells": [
  {
   "cell_type": "markdown",
   "metadata": {},
   "source": [
    "# Song Genius API"
   ]
  },
  {
   "cell_type": "markdown",
   "metadata": {},
   "source": [
    "In this lesson, we're going to use the Genius API to access data about Missy Elliott songs."
   ]
  },
  {
   "cell_type": "markdown",
   "metadata": {},
   "source": [
    "## API Keys"
   ]
  },
  {
   "cell_type": "markdown",
   "metadata": {},
   "source": [
    "To use the Genius API, you need a special API key, specifically a \"Client Access Token\", which is kind of like a password. Many APIs require authentication keys to gain access to them. To get your necessary Genius API keys, you need to navigate to the following URL: [https://genius.com/api-clients](https://genius.com/api-clients)."
   ]
  },
  {
   "cell_type": "markdown",
   "metadata": {},
   "source": [
    "<img src=\"../images/Genius-API.png\" width=100% >"
   ]
  },
  {
   "cell_type": "markdown",
   "metadata": {},
   "source": [
    "You'll be prompted to sign up for [a Genius account](https://genius.com/signup_or_login), which is required to gain API access. Signing up for a Genius account is free and easy. You just need a Genius nickname (which must be one word), an email address, and a password."
   ]
  },
  {
   "cell_type": "markdown",
   "metadata": {},
   "source": [
    "Once you're signed in, you should be taken to [https://genius.com/api-clients](https://genius.com/api-clients), where you need to click the button that says \"New API Client.\""
   ]
  },
  {
   "cell_type": "markdown",
   "metadata": {},
   "source": [
    "<img src=\"../images/Genius-New-API.png\" width=100% >"
   ]
  },
  {
   "cell_type": "markdown",
   "metadata": {},
   "source": [
    "After clicking \"New API Client,\" you'll be prompted to fill out a short form about the \"App\" that you need the Genius API for. You only need to fill out \"App Name\" and \"App Website URL.\""
   ]
  },
  {
   "cell_type": "markdown",
   "metadata": {},
   "source": [
    "It doesn't really matter what you type in. You can simply put \"Song Lyrics Project\" for the \"App Name\" and the URL for our course website \"https://melaniewalsh.github.io/Intro-Cultural-Analytics/\" for the \"App Website URL.\""
   ]
  },
  {
   "cell_type": "markdown",
   "metadata": {},
   "source": [
    "When you click \"Save,\" you'll be given a series of API Keys: a \"Client ID\" and a \"Client Secret.\" To generate your \"Client Access Token,\" which is the API key that we'll be using in this notebook, you need to click \"Generate Access Token\"."
   ]
  },
  {
   "cell_type": "markdown",
   "metadata": {},
   "source": [
    "Finally, copy and paste your \"Client Access Token\" into the quotation marks below, and run the cell to save your variable "
   ]
  },
  {
   "cell_type": "code",
   "execution_count": null,
   "metadata": {},
   "outputs": [],
   "source": [
    "client_access_token = \"INSERT YOUR CLIENT ACCESS TOKEN IN THESE QUOTATION MARKS\""
   ]
  },
  {
   "cell_type": "markdown",
   "metadata": {},
   "source": [
    "### Protecting Your API Key"
   ]
  },
  {
   "cell_type": "markdown",
   "metadata": {},
   "source": [
    "For this lesson, if you just copy and paste your Genius API key into your Jupyter notebook, everything should be fine. But that's actually not the best way of storing your API keys. If you published this notebook to GitHub, for example, other people might be able to read and use/steal your API key.\n",
    "\n",
    "For this reason, it's best practice to keep your API keys away from your code, such as in another file. For example, I made a new Python file called \"api_key.py\" that contains just one variable `your_client_access_token = \"MY API KEY\"`, and I can import this variable into my notebook with `import api_key`. "
   ]
  },
  {
   "cell_type": "code",
   "execution_count": 1,
   "metadata": {},
   "outputs": [],
   "source": [
    "import api_key"
   ]
  },
  {
   "cell_type": "markdown",
   "metadata": {},
   "source": [
    "By importing this Python file/module, I get access to the variable `your_client_access_token` without ever explicitly typing my secret API token in this notebook. If I wanted to publish this notebook to GitHub, then I could ignore or leave out the \"api_key.py\" file that actually contains my Client Access Token."
   ]
  },
  {
   "cell_type": "code",
   "execution_count": 2,
   "metadata": {},
   "outputs": [
    {
     "data": {
      "text/plain": [
       "'INSERT YOUR API KEY HERE'"
      ]
     },
     "execution_count": 2,
     "metadata": {},
     "output_type": "execute_result"
    }
   ],
   "source": [
    "api_key.your_client_access_token"
   ]
  },
  {
   "cell_type": "code",
   "execution_count": 3,
   "metadata": {},
   "outputs": [],
   "source": [
    "client_access_token = api_key.your_client_access_token"
   ]
  },
  {
   "cell_type": "markdown",
   "metadata": {},
   "source": [
    "## Making an API Request"
   ]
  },
  {
   "cell_type": "markdown",
   "metadata": {},
   "source": [
    "Making an API request looks a lot like typing a specially-formatted URL. But instead of getting a rendered HTML web page in return, you get some data in return.\n",
    "\n",
    "There are a few different ways that we can query the Genius API, all of which are discussed in the [Genius API documentation](https://docs.genius.com/#songs-h2). The way we're going to cover in this lesson is [the basic search](https://docs.genius.com/#search-h2), which allows you to get a bunch of Genius data about any artist or songs that you search for:"
   ]
  },
  {
   "cell_type": "markdown",
   "metadata": {},
   "source": [
    "`http://api.genius.com/search?q={search_term}&access_token={client_access_token}`"
   ]
  },
  {
   "cell_type": "markdown",
   "metadata": {},
   "source": [
    "Sticking with our Missy Elliott theme/obsession, we're going to search for Genius data about Missy Elliott.\n",
    "\n",
    "First we're going to assign the string \"Missy Elliott\" to the variable `search_term`. Then we're going to make an f-string URL that contains the variables `search_term` and `client_access_token`."
   ]
  },
  {
   "cell_type": "code",
   "execution_count": 6,
   "metadata": {},
   "outputs": [],
   "source": [
    "search_term = \"Missy Elliott\""
   ]
  },
  {
   "cell_type": "code",
   "execution_count": 7,
   "metadata": {},
   "outputs": [],
   "source": [
    "genius_search_url = f\"http://api.genius.com/search?q={search_term}&access_token={client_access_token}\""
   ]
  },
  {
   "cell_type": "markdown",
   "metadata": {},
   "source": [
    "This URL is basically all we need to make a Genius API request. Want proof? Run the cell below and print this URL, then copy and paste it into a new tab in your web browser."
   ]
  },
  {
   "cell_type": "code",
   "execution_count": 14,
   "metadata": {},
   "outputs": [
    {
     "name": "stdout",
     "output_type": "stream",
     "text": [
      "http://api.genius.com/search?q=Missy Elliott&access_token=INSERT YOUR CLIENT ACCESS TOKEN\n"
     ]
    }
   ],
   "source": [
    "print(genius_search_url)"
   ]
  },
  {
   "cell_type": "markdown",
   "metadata": {},
   "source": [
    "It doesn't look pretty, but that's a bunch of Genius data about Missy Elliott!\n",
    "\n",
    "We can programmatically do the same thing by again using the Python library `requests` with this URL. Instead of getting the `.text` of the response, as we did before, we're going to use `.json()`.\n",
    "\n",
    "[JSON](https://www.w3schools.com/whatis/whatis_json.asp) is a data format that is commonly used by APIs. JSON data can be nested and contains key/value pairs, much like a Python dictionary."
   ]
  },
  {
   "cell_type": "code",
   "execution_count": 8,
   "metadata": {},
   "outputs": [],
   "source": [
    "import requests"
   ]
  },
  {
   "cell_type": "code",
   "execution_count": 9,
   "metadata": {},
   "outputs": [],
   "source": [
    "response = requests.get(genius_search_url)\n",
    "json_data = response.json()"
   ]
  },
  {
   "cell_type": "markdown",
   "metadata": {},
   "source": [
    "The JSON data that we get from our Missy Elliott API query looks something like this:"
   ]
  },
  {
   "cell_type": "code",
   "execution_count": 10,
   "metadata": {
    "scrolled": true,
    "tags": [
     "output_scroll"
    ]
   },
   "outputs": [
    {
     "data": {
      "text/plain": [
       "{'meta': {'status': 200},\n",
       " 'response': {'hits': [{'highlights': [],\n",
       "    'index': 'song',\n",
       "    'type': 'song',\n",
       "    'result': {'annotation_count': 35,\n",
       "     'api_path': '/songs/4176',\n",
       "     'full_title': 'Work It by\\xa0Missy\\xa0Elliott',\n",
       "     'header_image_thumbnail_url': 'https://images.genius.com/27c1fbfef17041b435302af288cfa0c6.300x311x1.jpg',\n",
       "     'header_image_url': 'https://images.genius.com/27c1fbfef17041b435302af288cfa0c6.482x500x1.jpg',\n",
       "     'id': 4176,\n",
       "     'lyrics_owner_id': 6654,\n",
       "     'lyrics_state': 'complete',\n",
       "     'path': '/Missy-elliott-work-it-lyrics',\n",
       "     'pyongs_count': 38,\n",
       "     'song_art_image_thumbnail_url': 'https://images.genius.com/27c1fbfef17041b435302af288cfa0c6.300x311x1.jpg',\n",
       "     'song_art_image_url': 'https://images.genius.com/27c1fbfef17041b435302af288cfa0c6.482x500x1.jpg',\n",
       "     'stats': {'unreviewed_annotations': 5,\n",
       "      'hot': False,\n",
       "      'pageviews': 1084518},\n",
       "     'title': 'Work It',\n",
       "     'title_with_featured': 'Work It',\n",
       "     'url': 'https://genius.com/Missy-elliott-work-it-lyrics',\n",
       "     'primary_artist': {'api_path': '/artists/1529',\n",
       "      'header_image_url': 'https://images.genius.com/d91c82fa4ae2f1016fadc1c24fbbc59e.1000x333x1.jpg',\n",
       "      'id': 1529,\n",
       "      'image_url': 'https://images.genius.com/085828b7d79bf8cf068b1557ca7a5e4c.1000x1000x1.jpg',\n",
       "      'is_meme_verified': False,\n",
       "      'is_verified': False,\n",
       "      'name': 'Missy Elliott',\n",
       "      'url': 'https://genius.com/artists/Missy-elliott'}}},\n",
       "   {'highlights': [],\n",
       "    'index': 'song',\n",
       "    'type': 'song',\n",
       "    'result': {'annotation_count': 27,\n",
       "     'api_path': '/songs/2368201',\n",
       "     'full_title': 'WTF (Where They From) by\\xa0Missy\\xa0Elliott (Ft.\\xa0Pharrell\\xa0Williams)',\n",
       "     'header_image_thumbnail_url': 'https://images.rapgenius.com/a439d6d6020559ffe7c10f0d73722de1.300x300x1.jpg',\n",
       "     'header_image_url': 'https://images.rapgenius.com/a439d6d6020559ffe7c10f0d73722de1.1000x1000x1.jpg',\n",
       "     'id': 2368201,\n",
       "     'lyrics_owner_id': 282633,\n",
       "     'lyrics_state': 'complete',\n",
       "     'path': '/Missy-elliott-wtf-where-they-from-lyrics',\n",
       "     'pyongs_count': 86,\n",
       "     'song_art_image_thumbnail_url': 'https://images.rapgenius.com/a439d6d6020559ffe7c10f0d73722de1.300x300x1.jpg',\n",
       "     'song_art_image_url': 'https://images.rapgenius.com/a439d6d6020559ffe7c10f0d73722de1.1000x1000x1.jpg',\n",
       "     'stats': {'unreviewed_annotations': 0, 'hot': False, 'pageviews': 286118},\n",
       "     'title': 'WTF (Where They From)',\n",
       "     'title_with_featured': 'WTF (Where They From) (Ft.\\xa0Pharrell\\xa0Williams)',\n",
       "     'url': 'https://genius.com/Missy-elliott-wtf-where-they-from-lyrics',\n",
       "     'primary_artist': {'api_path': '/artists/1529',\n",
       "      'header_image_url': 'https://images.genius.com/d91c82fa4ae2f1016fadc1c24fbbc59e.1000x333x1.jpg',\n",
       "      'id': 1529,\n",
       "      'image_url': 'https://images.genius.com/085828b7d79bf8cf068b1557ca7a5e4c.1000x1000x1.jpg',\n",
       "      'is_meme_verified': False,\n",
       "      'is_verified': False,\n",
       "      'name': 'Missy Elliott',\n",
       "      'url': 'https://genius.com/artists/Missy-elliott'}}},\n",
       "   {'highlights': [],\n",
       "    'index': 'song',\n",
       "    'type': 'song',\n",
       "    'result': {'annotation_count': 14,\n",
       "     'api_path': '/songs/4640',\n",
       "     'full_title': 'Get Ur Freak On by\\xa0Missy\\xa0Elliott',\n",
       "     'header_image_thumbnail_url': 'https://images.genius.com/338e122c1534b6f6363afb06f77912cf.300x259x1.jpg',\n",
       "     'header_image_url': 'https://images.genius.com/338e122c1534b6f6363afb06f77912cf.300x259x1.jpg',\n",
       "     'id': 4640,\n",
       "     'lyrics_owner_id': 1297,\n",
       "     'lyrics_state': 'complete',\n",
       "     'path': '/Missy-elliott-get-ur-freak-on-lyrics',\n",
       "     'pyongs_count': 16,\n",
       "     'song_art_image_thumbnail_url': 'https://images.genius.com/338e122c1534b6f6363afb06f77912cf.300x259x1.jpg',\n",
       "     'song_art_image_url': 'https://images.genius.com/338e122c1534b6f6363afb06f77912cf.300x259x1.jpg',\n",
       "     'stats': {'unreviewed_annotations': 0, 'hot': False, 'pageviews': 144738},\n",
       "     'title': 'Get Ur Freak On',\n",
       "     'title_with_featured': 'Get Ur Freak On',\n",
       "     'url': 'https://genius.com/Missy-elliott-get-ur-freak-on-lyrics',\n",
       "     'primary_artist': {'api_path': '/artists/1529',\n",
       "      'header_image_url': 'https://images.genius.com/d91c82fa4ae2f1016fadc1c24fbbc59e.1000x333x1.jpg',\n",
       "      'id': 1529,\n",
       "      'image_url': 'https://images.genius.com/085828b7d79bf8cf068b1557ca7a5e4c.1000x1000x1.jpg',\n",
       "      'is_meme_verified': False,\n",
       "      'is_verified': False,\n",
       "      'name': 'Missy Elliott',\n",
       "      'url': 'https://genius.com/artists/Missy-elliott'}}},\n",
       "   {'highlights': [],\n",
       "    'index': 'song',\n",
       "    'type': 'song',\n",
       "    'result': {'annotation_count': 9,\n",
       "     'api_path': '/songs/2967124',\n",
       "     'full_title': \"I'm Better by\\xa0Missy\\xa0Elliott (Ft.\\xa0Cainon\\xa0Lamb)\",\n",
       "     'header_image_thumbnail_url': 'https://images.genius.com/609afe10820cce09ce9e3c768518c63c.300x300x1.jpg',\n",
       "     'header_image_url': 'https://images.genius.com/609afe10820cce09ce9e3c768518c63c.600x600x1.jpg',\n",
       "     'id': 2967124,\n",
       "     'lyrics_owner_id': 3075478,\n",
       "     'lyrics_state': 'complete',\n",
       "     'path': '/Missy-elliott-im-better-lyrics',\n",
       "     'pyongs_count': 13,\n",
       "     'song_art_image_thumbnail_url': 'https://images.genius.com/609afe10820cce09ce9e3c768518c63c.300x300x1.jpg',\n",
       "     'song_art_image_url': 'https://images.genius.com/609afe10820cce09ce9e3c768518c63c.600x600x1.jpg',\n",
       "     'stats': {'unreviewed_annotations': 0, 'hot': False, 'pageviews': 104116},\n",
       "     'title': 'I’m Better',\n",
       "     'title_with_featured': \"I'm Better (Ft.\\xa0Cainon\\xa0Lamb)\",\n",
       "     'url': 'https://genius.com/Missy-elliott-im-better-lyrics',\n",
       "     'primary_artist': {'api_path': '/artists/1529',\n",
       "      'header_image_url': 'https://images.genius.com/d91c82fa4ae2f1016fadc1c24fbbc59e.1000x333x1.jpg',\n",
       "      'id': 1529,\n",
       "      'image_url': 'https://images.genius.com/085828b7d79bf8cf068b1557ca7a5e4c.1000x1000x1.jpg',\n",
       "      'is_meme_verified': False,\n",
       "      'is_verified': False,\n",
       "      'name': 'Missy Elliott',\n",
       "      'url': 'https://genius.com/artists/Missy-elliott'}}},\n",
       "   {'highlights': [],\n",
       "    'index': 'song',\n",
       "    'type': 'song',\n",
       "    'result': {'annotation_count': 16,\n",
       "     'api_path': '/songs/128',\n",
       "     'full_title': 'The Rain (Supa Dupa Fly) by\\xa0Missy\\xa0Elliott',\n",
       "     'header_image_thumbnail_url': 'https://images.genius.com/a1543159342cd360256c12b42185771f.300x308x1.jpg',\n",
       "     'header_image_url': 'https://images.genius.com/a1543159342cd360256c12b42185771f.975x1000x1.jpg',\n",
       "     'id': 128,\n",
       "     'lyrics_owner_id': 4619460,\n",
       "     'lyrics_state': 'complete',\n",
       "     'path': '/Missy-elliott-the-rain-supa-dupa-fly-lyrics',\n",
       "     'pyongs_count': 6,\n",
       "     'song_art_image_thumbnail_url': 'https://images.genius.com/a1543159342cd360256c12b42185771f.300x308x1.jpg',\n",
       "     'song_art_image_url': 'https://images.genius.com/a1543159342cd360256c12b42185771f.975x1000x1.jpg',\n",
       "     'stats': {'unreviewed_annotations': 0,\n",
       "      'concurrents': 2,\n",
       "      'hot': False,\n",
       "      'pageviews': 90545},\n",
       "     'title': 'The Rain (Supa Dupa Fly)',\n",
       "     'title_with_featured': 'The Rain (Supa Dupa Fly)',\n",
       "     'url': 'https://genius.com/Missy-elliott-the-rain-supa-dupa-fly-lyrics',\n",
       "     'primary_artist': {'api_path': '/artists/1529',\n",
       "      'header_image_url': 'https://images.genius.com/d91c82fa4ae2f1016fadc1c24fbbc59e.1000x333x1.jpg',\n",
       "      'id': 1529,\n",
       "      'image_url': 'https://images.genius.com/085828b7d79bf8cf068b1557ca7a5e4c.1000x1000x1.jpg',\n",
       "      'is_meme_verified': False,\n",
       "      'is_verified': False,\n",
       "      'name': 'Missy Elliott',\n",
       "      'url': 'https://genius.com/artists/Missy-elliott'}}},\n",
       "   {'highlights': [],\n",
       "    'index': 'song',\n",
       "    'type': 'song',\n",
       "    'result': {'annotation_count': 41,\n",
       "     'api_path': '/songs/4173',\n",
       "     'full_title': 'Gossip Folks by\\xa0Missy\\xa0Elliott (Ft.\\xa0Ludacris)',\n",
       "     'header_image_thumbnail_url': 'https://images.genius.com/206153c53d05804677e236aa2ae4eb45.300x300x1.jpg',\n",
       "     'header_image_url': 'https://images.genius.com/206153c53d05804677e236aa2ae4eb45.600x600x1.jpg',\n",
       "     'id': 4173,\n",
       "     'lyrics_owner_id': 6654,\n",
       "     'lyrics_state': 'complete',\n",
       "     'path': '/Missy-elliott-gossip-folks-lyrics',\n",
       "     'pyongs_count': 7,\n",
       "     'song_art_image_thumbnail_url': 'https://images.genius.com/206153c53d05804677e236aa2ae4eb45.300x300x1.jpg',\n",
       "     'song_art_image_url': 'https://images.genius.com/206153c53d05804677e236aa2ae4eb45.600x600x1.jpg',\n",
       "     'stats': {'unreviewed_annotations': 0, 'hot': False, 'pageviews': 98504},\n",
       "     'title': 'Gossip Folks',\n",
       "     'title_with_featured': 'Gossip Folks (Ft.\\xa0Ludacris)',\n",
       "     'url': 'https://genius.com/Missy-elliott-gossip-folks-lyrics',\n",
       "     'primary_artist': {'api_path': '/artists/1529',\n",
       "      'header_image_url': 'https://images.genius.com/d91c82fa4ae2f1016fadc1c24fbbc59e.1000x333x1.jpg',\n",
       "      'id': 1529,\n",
       "      'image_url': 'https://images.genius.com/085828b7d79bf8cf068b1557ca7a5e4c.1000x1000x1.jpg',\n",
       "      'is_meme_verified': False,\n",
       "      'is_verified': False,\n",
       "      'name': 'Missy Elliott',\n",
       "      'url': 'https://genius.com/artists/Missy-elliott'}}},\n",
       "   {'highlights': [],\n",
       "    'index': 'song',\n",
       "    'type': 'song',\n",
       "    'result': {'annotation_count': 5,\n",
       "     'api_path': '/songs/33158',\n",
       "     'full_title': 'Lose Control by\\xa0Missy\\xa0Elliott (Ft.\\xa0Ciara & Fatman\\xa0Scoop)',\n",
       "     'header_image_thumbnail_url': 'https://images.genius.com/51639e476eac5cb5bed5794c023763ff.300x303x1.jpg',\n",
       "     'header_image_url': 'https://images.genius.com/51639e476eac5cb5bed5794c023763ff.700x707x1.jpg',\n",
       "     'id': 33158,\n",
       "     'lyrics_owner_id': 50,\n",
       "     'lyrics_state': 'complete',\n",
       "     'path': '/Missy-elliott-lose-control-lyrics',\n",
       "     'pyongs_count': 11,\n",
       "     'song_art_image_thumbnail_url': 'https://images.genius.com/51639e476eac5cb5bed5794c023763ff.300x303x1.jpg',\n",
       "     'song_art_image_url': 'https://images.genius.com/51639e476eac5cb5bed5794c023763ff.700x707x1.jpg',\n",
       "     'stats': {'unreviewed_annotations': 0, 'hot': False, 'pageviews': 82456},\n",
       "     'title': 'Lose Control',\n",
       "     'title_with_featured': 'Lose Control (Ft.\\xa0Ciara & Fatman\\xa0Scoop)',\n",
       "     'url': 'https://genius.com/Missy-elliott-lose-control-lyrics',\n",
       "     'primary_artist': {'api_path': '/artists/1529',\n",
       "      'header_image_url': 'https://images.genius.com/d91c82fa4ae2f1016fadc1c24fbbc59e.1000x333x1.jpg',\n",
       "      'id': 1529,\n",
       "      'image_url': 'https://images.genius.com/085828b7d79bf8cf068b1557ca7a5e4c.1000x1000x1.jpg',\n",
       "      'is_meme_verified': False,\n",
       "      'is_verified': False,\n",
       "      'name': 'Missy Elliott',\n",
       "      'url': 'https://genius.com/artists/Missy-elliott'}}},\n",
       "   {'highlights': [],\n",
       "    'index': 'song',\n",
       "    'type': 'song',\n",
       "    'result': {'annotation_count': 12,\n",
       "     'api_path': '/songs/4671',\n",
       "     'full_title': 'One Minute Man by\\xa0Missy\\xa0Elliott (Ft.\\xa0Ludacris & Trina)',\n",
       "     'header_image_thumbnail_url': 'https://images.genius.com/a94eaf3c98a7134cb546ebf9e6d2b991.300x300x1.jpg',\n",
       "     'header_image_url': 'https://images.genius.com/a94eaf3c98a7134cb546ebf9e6d2b991.953x953x1.jpg',\n",
       "     'id': 4671,\n",
       "     'lyrics_owner_id': 7299,\n",
       "     'lyrics_state': 'complete',\n",
       "     'path': '/Missy-elliott-one-minute-man-lyrics',\n",
       "     'pyongs_count': 6,\n",
       "     'song_art_image_thumbnail_url': 'https://images.genius.com/a94eaf3c98a7134cb546ebf9e6d2b991.300x300x1.jpg',\n",
       "     'song_art_image_url': 'https://images.genius.com/a94eaf3c98a7134cb546ebf9e6d2b991.953x953x1.jpg',\n",
       "     'stats': {'unreviewed_annotations': 0, 'hot': False, 'pageviews': 66241},\n",
       "     'title': 'One Minute Man',\n",
       "     'title_with_featured': 'One Minute Man (Ft.\\xa0Ludacris & Trina)',\n",
       "     'url': 'https://genius.com/Missy-elliott-one-minute-man-lyrics',\n",
       "     'primary_artist': {'api_path': '/artists/1529',\n",
       "      'header_image_url': 'https://images.genius.com/d91c82fa4ae2f1016fadc1c24fbbc59e.1000x333x1.jpg',\n",
       "      'id': 1529,\n",
       "      'image_url': 'https://images.genius.com/085828b7d79bf8cf068b1557ca7a5e4c.1000x1000x1.jpg',\n",
       "      'is_meme_verified': False,\n",
       "      'is_verified': False,\n",
       "      'name': 'Missy Elliott',\n",
       "      'url': 'https://genius.com/artists/Missy-elliott'}}},\n",
       "   {'highlights': [],\n",
       "    'index': 'song',\n",
       "    'type': 'song',\n",
       "    'result': {'annotation_count': 1,\n",
       "     'api_path': '/songs/4042648',\n",
       "     'full_title': 'This Is Me (The Reimagined Remix) by\\xa0Keala\\xa0Settle, Kesha & Missy Elliott',\n",
       "     'header_image_thumbnail_url': 'https://images.genius.com/29f15eb96f814e785598d0eea14126a7.300x300x1.png',\n",
       "     'header_image_url': 'https://images.genius.com/29f15eb96f814e785598d0eea14126a7.1000x1000x1.png',\n",
       "     'id': 4042648,\n",
       "     'lyrics_owner_id': 93685,\n",
       "     'lyrics_state': 'complete',\n",
       "     'path': '/Keala-settle-kesha-and-missy-elliott-this-is-me-the-reimagined-remix-lyrics',\n",
       "     'pyongs_count': 15,\n",
       "     'song_art_image_thumbnail_url': 'https://images.genius.com/29f15eb96f814e785598d0eea14126a7.300x300x1.png',\n",
       "     'song_art_image_url': 'https://images.genius.com/29f15eb96f814e785598d0eea14126a7.1000x1000x1.png',\n",
       "     'stats': {'unreviewed_annotations': 0, 'hot': False, 'pageviews': 44535},\n",
       "     'title': 'This Is Me (The Reimagined Remix)',\n",
       "     'title_with_featured': 'This Is Me (The Reimagined Remix)',\n",
       "     'url': 'https://genius.com/Keala-settle-kesha-and-missy-elliott-this-is-me-the-reimagined-remix-lyrics',\n",
       "     'primary_artist': {'api_path': '/artists/1600466',\n",
       "      'header_image_url': 'https://assets.genius.com/images/default_avatar_300.png?1597864036',\n",
       "      'id': 1600466,\n",
       "      'image_url': 'https://assets.genius.com/images/default_avatar_300.png?1597864036',\n",
       "      'is_meme_verified': False,\n",
       "      'is_verified': False,\n",
       "      'name': 'Keala Settle, Kesha & Missy Elliott',\n",
       "      'url': 'https://genius.com/artists/Keala-settle-kesha-and-missy-elliott'}}},\n",
       "   {'highlights': [],\n",
       "    'index': 'song',\n",
       "    'type': 'song',\n",
       "    'result': {'annotation_count': 16,\n",
       "     'api_path': '/songs/33191',\n",
       "     'full_title': 'Bomb Intro/Pass That Dutch by\\xa0Missy\\xa0Elliott',\n",
       "     'header_image_thumbnail_url': 'https://images.genius.com/8c2a5015c6ba9e5f0c154f9a20f14534.300x300x1.jpg',\n",
       "     'header_image_url': 'https://images.genius.com/8c2a5015c6ba9e5f0c154f9a20f14534.583x583x1.jpg',\n",
       "     'id': 33191,\n",
       "     'lyrics_owner_id': 50,\n",
       "     'lyrics_state': 'complete',\n",
       "     'path': '/Missy-elliott-bomb-intro-pass-that-dutch-lyrics',\n",
       "     'pyongs_count': 5,\n",
       "     'song_art_image_thumbnail_url': 'https://images.genius.com/8c2a5015c6ba9e5f0c154f9a20f14534.300x300x1.jpg',\n",
       "     'song_art_image_url': 'https://images.genius.com/8c2a5015c6ba9e5f0c154f9a20f14534.583x583x1.jpg',\n",
       "     'stats': {'unreviewed_annotations': 0, 'hot': False, 'pageviews': 43406},\n",
       "     'title': 'Bomb Intro/Pass That Dutch',\n",
       "     'title_with_featured': 'Bomb Intro/Pass That Dutch',\n",
       "     'url': 'https://genius.com/Missy-elliott-bomb-intro-pass-that-dutch-lyrics',\n",
       "     'primary_artist': {'api_path': '/artists/1529',\n",
       "      'header_image_url': 'https://images.genius.com/d91c82fa4ae2f1016fadc1c24fbbc59e.1000x333x1.jpg',\n",
       "      'id': 1529,\n",
       "      'image_url': 'https://images.genius.com/085828b7d79bf8cf068b1557ca7a5e4c.1000x1000x1.jpg',\n",
       "      'is_meme_verified': False,\n",
       "      'is_verified': False,\n",
       "      'name': 'Missy Elliott',\n",
       "      'url': 'https://genius.com/artists/Missy-elliott'}}}]}}"
      ]
     },
     "execution_count": 10,
     "metadata": {},
     "output_type": "execute_result"
    }
   ],
   "source": [
    "json_data"
   ]
  },
  {
   "cell_type": "markdown",
   "metadata": {},
   "source": [
    "We can index this data (again, like a Python dictionary) and look at the first \"hit\" about Missy Elliott from Genius.com."
   ]
  },
  {
   "cell_type": "code",
   "execution_count": 11,
   "metadata": {},
   "outputs": [
    {
     "data": {
      "text/plain": [
       "{'highlights': [],\n",
       " 'index': 'song',\n",
       " 'type': 'song',\n",
       " 'result': {'annotation_count': 35,\n",
       "  'api_path': '/songs/4176',\n",
       "  'full_title': 'Work It by\\xa0Missy\\xa0Elliott',\n",
       "  'header_image_thumbnail_url': 'https://images.genius.com/27c1fbfef17041b435302af288cfa0c6.300x311x1.jpg',\n",
       "  'header_image_url': 'https://images.genius.com/27c1fbfef17041b435302af288cfa0c6.482x500x1.jpg',\n",
       "  'id': 4176,\n",
       "  'lyrics_owner_id': 6654,\n",
       "  'lyrics_state': 'complete',\n",
       "  'path': '/Missy-elliott-work-it-lyrics',\n",
       "  'pyongs_count': 38,\n",
       "  'song_art_image_thumbnail_url': 'https://images.genius.com/27c1fbfef17041b435302af288cfa0c6.300x311x1.jpg',\n",
       "  'song_art_image_url': 'https://images.genius.com/27c1fbfef17041b435302af288cfa0c6.482x500x1.jpg',\n",
       "  'stats': {'unreviewed_annotations': 5, 'hot': False, 'pageviews': 1084518},\n",
       "  'title': 'Work It',\n",
       "  'title_with_featured': 'Work It',\n",
       "  'url': 'https://genius.com/Missy-elliott-work-it-lyrics',\n",
       "  'primary_artist': {'api_path': '/artists/1529',\n",
       "   'header_image_url': 'https://images.genius.com/d91c82fa4ae2f1016fadc1c24fbbc59e.1000x333x1.jpg',\n",
       "   'id': 1529,\n",
       "   'image_url': 'https://images.genius.com/085828b7d79bf8cf068b1557ca7a5e4c.1000x1000x1.jpg',\n",
       "   'is_meme_verified': False,\n",
       "   'is_verified': False,\n",
       "   'name': 'Missy Elliott',\n",
       "   'url': 'https://genius.com/artists/Missy-elliott'}}}"
      ]
     },
     "execution_count": 11,
     "metadata": {},
     "output_type": "execute_result"
    }
   ],
   "source": [
    "json_data['response']['hits'][0]"
   ]
  },
  {
   "cell_type": "markdown",
   "metadata": {},
   "source": [
    "We can tell that this data describes the song \"Work It\" and contains other information about the song, such as its number of Genius annotations, its number of web page views, and links to images of its album cover."
   ]
  },
  {
   "cell_type": "markdown",
   "metadata": {},
   "source": [
    "## Looping Through JSON Data"
   ]
  },
  {
   "cell_type": "markdown",
   "metadata": {},
   "source": [
    "### Get Song Titles"
   ]
  },
  {
   "cell_type": "code",
   "execution_count": 12,
   "metadata": {},
   "outputs": [
    {
     "name": "stdout",
     "output_type": "stream",
     "text": [
      "Work It by Missy Elliott\n",
      "WTF (Where They From) by Missy Elliott (Ft. Pharrell Williams)\n",
      "Get Ur Freak On by Missy Elliott\n",
      "I'm Better by Missy Elliott (Ft. Cainon Lamb)\n",
      "The Rain (Supa Dupa Fly) by Missy Elliott\n",
      "Gossip Folks by Missy Elliott (Ft. Ludacris)\n",
      "Lose Control by Missy Elliott (Ft. Ciara & Fatman Scoop)\n",
      "One Minute Man by Missy Elliott (Ft. Ludacris & Trina)\n",
      "This Is Me (The Reimagined Remix) by Keala Settle, Kesha & Missy Elliott\n",
      "Bomb Intro/Pass That Dutch by Missy Elliott\n"
     ]
    }
   ],
   "source": [
    "for song in json_data['response']['hits']:\n",
    "    print(song['result']['full_title'])"
   ]
  },
  {
   "cell_type": "markdown",
   "metadata": {},
   "source": [
    "### Get Song Tiles and Page View Counts"
   ]
  },
  {
   "cell_type": "code",
   "execution_count": 13,
   "metadata": {},
   "outputs": [
    {
     "name": "stdout",
     "output_type": "stream",
     "text": [
      "Work It by Missy Elliott 1084518\n",
      "WTF (Where They From) by Missy Elliott (Ft. Pharrell Williams) 286118\n",
      "Get Ur Freak On by Missy Elliott 144738\n",
      "I'm Better by Missy Elliott (Ft. Cainon Lamb) 104116\n",
      "The Rain (Supa Dupa Fly) by Missy Elliott 90545\n",
      "Gossip Folks by Missy Elliott (Ft. Ludacris) 98504\n",
      "Lose Control by Missy Elliott (Ft. Ciara & Fatman Scoop) 82456\n",
      "One Minute Man by Missy Elliott (Ft. Ludacris & Trina) 66241\n",
      "This Is Me (The Reimagined Remix) by Keala Settle, Kesha & Missy Elliott 44535\n",
      "Bomb Intro/Pass That Dutch by Missy Elliott 43406\n"
     ]
    }
   ],
   "source": [
    "for song in json_data['response']['hits']:\n",
    "    print(song['result']['full_title'], song['result']['stats']['pageviews'])"
   ]
  },
  {
   "cell_type": "markdown",
   "metadata": {},
   "source": [
    "### Transform Song Titles and Page View Counts into a DataFrame"
   ]
  },
  {
   "cell_type": "markdown",
   "metadata": {},
   "source": [
    "We can loop through this data, append it into a list, and then transform that list into a Pandas dataframe by calling `pd.DataFrame()`"
   ]
  },
  {
   "cell_type": "code",
   "execution_count": 14,
   "metadata": {},
   "outputs": [],
   "source": [
    "import pandas as pd"
   ]
  },
  {
   "cell_type": "code",
   "execution_count": 15,
   "metadata": {},
   "outputs": [
    {
     "data": {
      "text/html": [
       "<div>\n",
       "<style scoped>\n",
       "    .dataframe tbody tr th:only-of-type {\n",
       "        vertical-align: middle;\n",
       "    }\n",
       "\n",
       "    .dataframe tbody tr th {\n",
       "        vertical-align: top;\n",
       "    }\n",
       "\n",
       "    .dataframe thead th {\n",
       "        text-align: right;\n",
       "    }\n",
       "</style>\n",
       "<table border=\"1\" class=\"dataframe\">\n",
       "  <thead>\n",
       "    <tr style=\"text-align: right;\">\n",
       "      <th></th>\n",
       "      <th>song_title</th>\n",
       "      <th>page_views</th>\n",
       "    </tr>\n",
       "  </thead>\n",
       "  <tbody>\n",
       "    <tr>\n",
       "      <th>0</th>\n",
       "      <td>Work It by Missy Elliott</td>\n",
       "      <td>1084518</td>\n",
       "    </tr>\n",
       "    <tr>\n",
       "      <th>1</th>\n",
       "      <td>WTF (Where They From) by Missy Elliott (Ft. Ph...</td>\n",
       "      <td>286118</td>\n",
       "    </tr>\n",
       "    <tr>\n",
       "      <th>2</th>\n",
       "      <td>Get Ur Freak On by Missy Elliott</td>\n",
       "      <td>144738</td>\n",
       "    </tr>\n",
       "    <tr>\n",
       "      <th>3</th>\n",
       "      <td>I'm Better by Missy Elliott (Ft. Cainon Lamb)</td>\n",
       "      <td>104116</td>\n",
       "    </tr>\n",
       "    <tr>\n",
       "      <th>4</th>\n",
       "      <td>The Rain (Supa Dupa Fly) by Missy Elliott</td>\n",
       "      <td>90545</td>\n",
       "    </tr>\n",
       "    <tr>\n",
       "      <th>5</th>\n",
       "      <td>Gossip Folks by Missy Elliott (Ft. Ludacris)</td>\n",
       "      <td>98504</td>\n",
       "    </tr>\n",
       "    <tr>\n",
       "      <th>6</th>\n",
       "      <td>Lose Control by Missy Elliott (Ft. Ciara &amp; Fat...</td>\n",
       "      <td>82456</td>\n",
       "    </tr>\n",
       "    <tr>\n",
       "      <th>7</th>\n",
       "      <td>One Minute Man by Missy Elliott (Ft. Ludacris ...</td>\n",
       "      <td>66241</td>\n",
       "    </tr>\n",
       "    <tr>\n",
       "      <th>8</th>\n",
       "      <td>This Is Me (The Reimagined Remix) by Keala Set...</td>\n",
       "      <td>44535</td>\n",
       "    </tr>\n",
       "    <tr>\n",
       "      <th>9</th>\n",
       "      <td>Bomb Intro/Pass That Dutch by Missy Elliott</td>\n",
       "      <td>43406</td>\n",
       "    </tr>\n",
       "  </tbody>\n",
       "</table>\n",
       "</div>"
      ],
      "text/plain": [
       "                                          song_title  page_views\n",
       "0                           Work It by Missy Elliott     1084518\n",
       "1  WTF (Where They From) by Missy Elliott (Ft. Ph...      286118\n",
       "2                   Get Ur Freak On by Missy Elliott      144738\n",
       "3      I'm Better by Missy Elliott (Ft. Cainon Lamb)      104116\n",
       "4          The Rain (Supa Dupa Fly) by Missy Elliott       90545\n",
       "5       Gossip Folks by Missy Elliott (Ft. Ludacris)       98504\n",
       "6  Lose Control by Missy Elliott (Ft. Ciara & Fat...       82456\n",
       "7  One Minute Man by Missy Elliott (Ft. Ludacris ...       66241\n",
       "8  This Is Me (The Reimagined Remix) by Keala Set...       44535\n",
       "9        Bomb Intro/Pass That Dutch by Missy Elliott       43406"
      ]
     },
     "execution_count": 15,
     "metadata": {},
     "output_type": "execute_result"
    }
   ],
   "source": [
    "missy_songs = []\n",
    "for song in json_data['response']['hits']:\n",
    "    missy_songs.append([song['result']['full_title'], song['result']['stats']['pageviews']])\n",
    "    \n",
    "#Make a Pandas dataframe from a list\n",
    "missy_df = pd.DataFrame(missy_songs)\n",
    "missy_df.columns = ['song_title', 'page_views']\n",
    "missy_df"
   ]
  },
  {
   "cell_type": "markdown",
   "metadata": {},
   "source": [
    "## Transform Song Titles, Page View Counts, & Album Covers into a DataFrame"
   ]
  },
  {
   "cell_type": "markdown",
   "metadata": {},
   "source": [
    "Just for fun, we can do the same thing but also add links to images of Missy Elliott's album art—and we can actually display those images, too!\n",
    "\n",
    "To display images in a Pandas dataframe, you need to run `from IPython.core.display import HTML` and make the function `get_image_html()`. We're going to take the image URLs and make them into HTML objects."
   ]
  },
  {
   "cell_type": "code",
   "execution_count": 16,
   "metadata": {},
   "outputs": [],
   "source": [
    "from IPython.core.display import HTML"
   ]
  },
  {
   "cell_type": "code",
   "execution_count": 17,
   "metadata": {},
   "outputs": [],
   "source": [
    "def get_image_html(link):\n",
    "    image_html = f\"<img src='{link}' width='100'>\"\n",
    "    return image_html"
   ]
  },
  {
   "cell_type": "code",
   "execution_count": 18,
   "metadata": {},
   "outputs": [
    {
     "data": {
      "text/html": [
       "<div>\n",
       "<style scoped>\n",
       "    .dataframe tbody tr th:only-of-type {\n",
       "        vertical-align: middle;\n",
       "    }\n",
       "\n",
       "    .dataframe tbody tr th {\n",
       "        vertical-align: top;\n",
       "    }\n",
       "\n",
       "    .dataframe thead th {\n",
       "        text-align: right;\n",
       "    }\n",
       "</style>\n",
       "<table border=\"1\" class=\"dataframe\">\n",
       "  <thead>\n",
       "    <tr style=\"text-align: right;\">\n",
       "      <th></th>\n",
       "      <th>song_title</th>\n",
       "      <th>page_views</th>\n",
       "      <th>album_cover_url</th>\n",
       "      <th>album_cover</th>\n",
       "    </tr>\n",
       "  </thead>\n",
       "  <tbody>\n",
       "    <tr>\n",
       "      <th>0</th>\n",
       "      <td>Work It by Missy Elliott</td>\n",
       "      <td>1084518</td>\n",
       "      <td>https://images.genius.com/27c1fbfef17041b43530...</td>\n",
       "      <td>&lt;img src='https://images.genius.com/27c1fbfef1...</td>\n",
       "    </tr>\n",
       "    <tr>\n",
       "      <th>1</th>\n",
       "      <td>WTF (Where They From) by Missy Elliott (Ft. Ph...</td>\n",
       "      <td>286118</td>\n",
       "      <td>https://images.rapgenius.com/a439d6d6020559ffe...</td>\n",
       "      <td>&lt;img src='https://images.rapgenius.com/a439d6d...</td>\n",
       "    </tr>\n",
       "    <tr>\n",
       "      <th>2</th>\n",
       "      <td>Get Ur Freak On by Missy Elliott</td>\n",
       "      <td>144738</td>\n",
       "      <td>https://images.genius.com/338e122c1534b6f6363a...</td>\n",
       "      <td>&lt;img src='https://images.genius.com/338e122c15...</td>\n",
       "    </tr>\n",
       "    <tr>\n",
       "      <th>3</th>\n",
       "      <td>I'm Better by Missy Elliott (Ft. Cainon Lamb)</td>\n",
       "      <td>104116</td>\n",
       "      <td>https://images.genius.com/609afe10820cce09ce9e...</td>\n",
       "      <td>&lt;img src='https://images.genius.com/609afe1082...</td>\n",
       "    </tr>\n",
       "    <tr>\n",
       "      <th>4</th>\n",
       "      <td>The Rain (Supa Dupa Fly) by Missy Elliott</td>\n",
       "      <td>90545</td>\n",
       "      <td>https://images.genius.com/a1543159342cd360256c...</td>\n",
       "      <td>&lt;img src='https://images.genius.com/a154315934...</td>\n",
       "    </tr>\n",
       "    <tr>\n",
       "      <th>5</th>\n",
       "      <td>Gossip Folks by Missy Elliott (Ft. Ludacris)</td>\n",
       "      <td>98504</td>\n",
       "      <td>https://images.genius.com/206153c53d05804677e2...</td>\n",
       "      <td>&lt;img src='https://images.genius.com/206153c53d...</td>\n",
       "    </tr>\n",
       "    <tr>\n",
       "      <th>6</th>\n",
       "      <td>Lose Control by Missy Elliott (Ft. Ciara &amp; Fat...</td>\n",
       "      <td>82456</td>\n",
       "      <td>https://images.genius.com/51639e476eac5cb5bed5...</td>\n",
       "      <td>&lt;img src='https://images.genius.com/51639e476e...</td>\n",
       "    </tr>\n",
       "    <tr>\n",
       "      <th>7</th>\n",
       "      <td>One Minute Man by Missy Elliott (Ft. Ludacris ...</td>\n",
       "      <td>66241</td>\n",
       "      <td>https://images.genius.com/a94eaf3c98a7134cb546...</td>\n",
       "      <td>&lt;img src='https://images.genius.com/a94eaf3c98...</td>\n",
       "    </tr>\n",
       "    <tr>\n",
       "      <th>8</th>\n",
       "      <td>This Is Me (The Reimagined Remix) by Keala Set...</td>\n",
       "      <td>44535</td>\n",
       "      <td>https://images.genius.com/29f15eb96f814e785598...</td>\n",
       "      <td>&lt;img src='https://images.genius.com/29f15eb96f...</td>\n",
       "    </tr>\n",
       "    <tr>\n",
       "      <th>9</th>\n",
       "      <td>Bomb Intro/Pass That Dutch by Missy Elliott</td>\n",
       "      <td>43406</td>\n",
       "      <td>https://images.genius.com/8c2a5015c6ba9e5f0c15...</td>\n",
       "      <td>&lt;img src='https://images.genius.com/8c2a5015c6...</td>\n",
       "    </tr>\n",
       "  </tbody>\n",
       "</table>\n",
       "</div>"
      ],
      "text/plain": [
       "                                          song_title  page_views  \\\n",
       "0                           Work It by Missy Elliott     1084518   \n",
       "1  WTF (Where They From) by Missy Elliott (Ft. Ph...      286118   \n",
       "2                   Get Ur Freak On by Missy Elliott      144738   \n",
       "3      I'm Better by Missy Elliott (Ft. Cainon Lamb)      104116   \n",
       "4          The Rain (Supa Dupa Fly) by Missy Elliott       90545   \n",
       "5       Gossip Folks by Missy Elliott (Ft. Ludacris)       98504   \n",
       "6  Lose Control by Missy Elliott (Ft. Ciara & Fat...       82456   \n",
       "7  One Minute Man by Missy Elliott (Ft. Ludacris ...       66241   \n",
       "8  This Is Me (The Reimagined Remix) by Keala Set...       44535   \n",
       "9        Bomb Intro/Pass That Dutch by Missy Elliott       43406   \n",
       "\n",
       "                                     album_cover_url  \\\n",
       "0  https://images.genius.com/27c1fbfef17041b43530...   \n",
       "1  https://images.rapgenius.com/a439d6d6020559ffe...   \n",
       "2  https://images.genius.com/338e122c1534b6f6363a...   \n",
       "3  https://images.genius.com/609afe10820cce09ce9e...   \n",
       "4  https://images.genius.com/a1543159342cd360256c...   \n",
       "5  https://images.genius.com/206153c53d05804677e2...   \n",
       "6  https://images.genius.com/51639e476eac5cb5bed5...   \n",
       "7  https://images.genius.com/a94eaf3c98a7134cb546...   \n",
       "8  https://images.genius.com/29f15eb96f814e785598...   \n",
       "9  https://images.genius.com/8c2a5015c6ba9e5f0c15...   \n",
       "\n",
       "                                         album_cover  \n",
       "0  <img src='https://images.genius.com/27c1fbfef1...  \n",
       "1  <img src='https://images.rapgenius.com/a439d6d...  \n",
       "2  <img src='https://images.genius.com/338e122c15...  \n",
       "3  <img src='https://images.genius.com/609afe1082...  \n",
       "4  <img src='https://images.genius.com/a154315934...  \n",
       "5  <img src='https://images.genius.com/206153c53d...  \n",
       "6  <img src='https://images.genius.com/51639e476e...  \n",
       "7  <img src='https://images.genius.com/a94eaf3c98...  \n",
       "8  <img src='https://images.genius.com/29f15eb96f...  \n",
       "9  <img src='https://images.genius.com/8c2a5015c6...  "
      ]
     },
     "execution_count": 18,
     "metadata": {},
     "output_type": "execute_result"
    }
   ],
   "source": [
    "missy_songs = []\n",
    "for song in json_data['response']['hits']:\n",
    "    missy_songs.append([song['result']['full_title'], song['result']['stats']['pageviews'], song['result']['song_art_image_url']])\n",
    "    \n",
    "missy_df = pd.DataFrame(missy_songs)\n",
    "missy_df.columns = ['song_title', 'page_views','album_cover_url']\n",
    "\n",
    "#Use the function get_image_html()\n",
    "missy_df['album_cover'] = missy_df['album_cover_url'].apply(get_image_html)\n",
    "missy_df"
   ]
  },
  {
   "cell_type": "markdown",
   "metadata": {},
   "source": [
    "If we call `HTML()` on our dataframe and add the method `.to_html(escape=False)` to the dataframe, then it should display the dataframe with viewable images."
   ]
  },
  {
   "cell_type": "code",
   "execution_count": 20,
   "metadata": {},
   "outputs": [
    {
     "data": {
      "text/html": [
       "<table border=\"1\" class=\"dataframe\">\n",
       "  <thead>\n",
       "    <tr style=\"text-align: right;\">\n",
       "      <th></th>\n",
       "      <th>album_cover</th>\n",
       "      <th>page_views</th>\n",
       "      <th>song_title</th>\n",
       "    </tr>\n",
       "  </thead>\n",
       "  <tbody>\n",
       "    <tr>\n",
       "      <th>0</th>\n",
       "      <td><img src='https://images.genius.com/27c1fbfef17041b435302af288cfa0c6.482x500x1.jpg' width='100'></td>\n",
       "      <td>1084518</td>\n",
       "      <td>Work It by Missy Elliott</td>\n",
       "    </tr>\n",
       "    <tr>\n",
       "      <th>1</th>\n",
       "      <td><img src='https://images.rapgenius.com/a439d6d6020559ffe7c10f0d73722de1.1000x1000x1.jpg' width='100'></td>\n",
       "      <td>286118</td>\n",
       "      <td>WTF (Where They From) by Missy Elliott (Ft. Pharrell Williams)</td>\n",
       "    </tr>\n",
       "    <tr>\n",
       "      <th>2</th>\n",
       "      <td><img src='https://images.genius.com/338e122c1534b6f6363afb06f77912cf.300x259x1.jpg' width='100'></td>\n",
       "      <td>144738</td>\n",
       "      <td>Get Ur Freak On by Missy Elliott</td>\n",
       "    </tr>\n",
       "    <tr>\n",
       "      <th>3</th>\n",
       "      <td><img src='https://images.genius.com/609afe10820cce09ce9e3c768518c63c.600x600x1.jpg' width='100'></td>\n",
       "      <td>104116</td>\n",
       "      <td>I'm Better by Missy Elliott (Ft. Cainon Lamb)</td>\n",
       "    </tr>\n",
       "    <tr>\n",
       "      <th>4</th>\n",
       "      <td><img src='https://images.genius.com/a1543159342cd360256c12b42185771f.975x1000x1.jpg' width='100'></td>\n",
       "      <td>90545</td>\n",
       "      <td>The Rain (Supa Dupa Fly) by Missy Elliott</td>\n",
       "    </tr>\n",
       "    <tr>\n",
       "      <th>5</th>\n",
       "      <td><img src='https://images.genius.com/206153c53d05804677e236aa2ae4eb45.600x600x1.jpg' width='100'></td>\n",
       "      <td>98504</td>\n",
       "      <td>Gossip Folks by Missy Elliott (Ft. Ludacris)</td>\n",
       "    </tr>\n",
       "    <tr>\n",
       "      <th>6</th>\n",
       "      <td><img src='https://images.genius.com/51639e476eac5cb5bed5794c023763ff.700x707x1.jpg' width='100'></td>\n",
       "      <td>82456</td>\n",
       "      <td>Lose Control by Missy Elliott (Ft. Ciara & Fatman Scoop)</td>\n",
       "    </tr>\n",
       "    <tr>\n",
       "      <th>7</th>\n",
       "      <td><img src='https://images.genius.com/a94eaf3c98a7134cb546ebf9e6d2b991.953x953x1.jpg' width='100'></td>\n",
       "      <td>66241</td>\n",
       "      <td>One Minute Man by Missy Elliott (Ft. Ludacris & Trina)</td>\n",
       "    </tr>\n",
       "    <tr>\n",
       "      <th>8</th>\n",
       "      <td><img src='https://images.genius.com/29f15eb96f814e785598d0eea14126a7.1000x1000x1.png' width='100'></td>\n",
       "      <td>44535</td>\n",
       "      <td>This Is Me (The Reimagined Remix) by Keala Settle, Kesha & Missy Elliott</td>\n",
       "    </tr>\n",
       "    <tr>\n",
       "      <th>9</th>\n",
       "      <td><img src='https://images.genius.com/8c2a5015c6ba9e5f0c154f9a20f14534.583x583x1.jpg' width='100'></td>\n",
       "      <td>43406</td>\n",
       "      <td>Bomb Intro/Pass That Dutch by Missy Elliott</td>\n",
       "    </tr>\n",
       "  </tbody>\n",
       "</table>"
      ],
      "text/plain": [
       "<IPython.core.display.HTML object>"
      ]
     },
     "execution_count": 20,
     "metadata": {},
     "output_type": "execute_result"
    }
   ],
   "source": [
    "HTML(missy_df[['album_cover', 'page_views', 'song_title']].to_html(escape=False))"
   ]
  },
  {
   "cell_type": "markdown",
   "metadata": {},
   "source": [
    "## Your Turn! "
   ]
  },
  {
   "cell_type": "markdown",
   "metadata": {},
   "source": [
    "Replace \"Phoebe Bridgers\" with any artist/musician of your choosing and run the following cells."
   ]
  },
  {
   "cell_type": "code",
   "execution_count": 25,
   "metadata": {},
   "outputs": [],
   "source": [
    "search_term = \"Phoebe Bridgers\""
   ]
  },
  {
   "cell_type": "code",
   "execution_count": 26,
   "metadata": {},
   "outputs": [],
   "source": [
    "genius_search_url = f\"http://api.genius.com/search?q={search_term}&access_token={client_access_token}\""
   ]
  },
  {
   "cell_type": "code",
   "execution_count": 27,
   "metadata": {},
   "outputs": [],
   "source": [
    "response = requests.get(genius_search_url)\n",
    "json_data = response.json()"
   ]
  },
  {
   "cell_type": "code",
   "execution_count": 28,
   "metadata": {},
   "outputs": [
    {
     "data": {
      "text/html": [
       "<table border=\"1\" class=\"dataframe\">\n",
       "  <thead>\n",
       "    <tr style=\"text-align: right;\">\n",
       "      <th></th>\n",
       "      <th>album_cover</th>\n",
       "      <th>page_views</th>\n",
       "      <th>song_title</th>\n",
       "    </tr>\n",
       "  </thead>\n",
       "  <tbody>\n",
       "    <tr>\n",
       "      <th>0</th>\n",
       "      <td><img src='https://images.genius.com/d89ce272c353c3483fca92fae2ab0700.640x640x1.jpg' width='100'></td>\n",
       "      <td>116022</td>\n",
       "      <td>Smoke Signals by Phoebe Bridgers</td>\n",
       "    </tr>\n",
       "    <tr>\n",
       "      <th>1</th>\n",
       "      <td><img src='https://images.genius.com/298d31ae23127ba212fbbbcc91508ad7.640x640x1.jpg' width='100'></td>\n",
       "      <td>134960</td>\n",
       "      <td>Motion Sickness by Phoebe Bridgers</td>\n",
       "    </tr>\n",
       "    <tr>\n",
       "      <th>2</th>\n",
       "      <td><img src='https://images.genius.com/b09ca35ba070d113f0d1d37934f20f69.1000x1000x1.jpg' width='100'></td>\n",
       "      <td>71113</td>\n",
       "      <td>Scott Street by Phoebe Bridgers</td>\n",
       "    </tr>\n",
       "    <tr>\n",
       "      <th>3</th>\n",
       "      <td><img src='https://images.genius.com/7d0d55bc0879faa98cdadbef8a19d211.1000x1000x1.png' width='100'></td>\n",
       "      <td>87288</td>\n",
       "      <td>Kyoto by Phoebe Bridgers</td>\n",
       "    </tr>\n",
       "    <tr>\n",
       "      <th>4</th>\n",
       "      <td><img src='https://images.genius.com/d48ddb518f2357787b5e18ab2c6fd0ab.1000x1000x1.jpg' width='100'></td>\n",
       "      <td>78277</td>\n",
       "      <td>Me & My Dog by ​boygenius</td>\n",
       "    </tr>\n",
       "    <tr>\n",
       "      <th>5</th>\n",
       "      <td><img src='https://images.genius.com/069a38a206438c03e3cc75b3a688e90f.640x640x1.jpg' width='100'></td>\n",
       "      <td>76645</td>\n",
       "      <td>Funeral by Phoebe Bridgers</td>\n",
       "    </tr>\n",
       "    <tr>\n",
       "      <th>6</th>\n",
       "      <td><img src='https://images.genius.com/7d0d55bc0879faa98cdadbef8a19d211.1000x1000x1.png' width='100'></td>\n",
       "      <td>80496</td>\n",
       "      <td>Moon Song by Phoebe Bridgers</td>\n",
       "    </tr>\n",
       "    <tr>\n",
       "      <th>7</th>\n",
       "      <td><img src='https://images.genius.com/b09ca35ba070d113f0d1d37934f20f69.1000x1000x1.jpg' width='100'></td>\n",
       "      <td>60410</td>\n",
       "      <td>You Missed My Heart by Phoebe Bridgers</td>\n",
       "    </tr>\n",
       "    <tr>\n",
       "      <th>8</th>\n",
       "      <td><img src='https://images.genius.com/7d0d55bc0879faa98cdadbef8a19d211.1000x1000x1.png' width='100'></td>\n",
       "      <td>75736</td>\n",
       "      <td>Punisher by Phoebe Bridgers</td>\n",
       "    </tr>\n",
       "    <tr>\n",
       "      <th>9</th>\n",
       "      <td><img src='https://images.genius.com/bef9ef17404b01599d842bf42fc9353f.1000x1000x1.jpg' width='100'></td>\n",
       "      <td>60078</td>\n",
       "      <td>Souvenir by ​boygenius</td>\n",
       "    </tr>\n",
       "  </tbody>\n",
       "</table>"
      ],
      "text/plain": [
       "<IPython.core.display.HTML object>"
      ]
     },
     "execution_count": 28,
     "metadata": {},
     "output_type": "execute_result"
    }
   ],
   "source": [
    "songs = []\n",
    "for song in json_data['response']['hits']:\n",
    "    songs.append((song['result']['full_title'], song['result']['stats']['pageviews'], song['result']['song_art_image_url']))\n",
    "    \n",
    "artist_df = pd.DataFrame(songs)\n",
    "artist_df.columns = ['song_title', 'page_views', 'album_cover_url']\n",
    "\n",
    "artist_df['album_cover'] = artist_df['album_cover_url'].apply(get_image_html)\n",
    "HTML(artist_df[['album_cover', 'page_views', 'song_title']].to_html(escape=False))"
   ]
  }
 ],
 "metadata": {
  "kernelspec": {
   "display_name": "Python 3",
   "language": "python",
   "name": "python3"
  },
  "language_info": {
   "codemirror_mode": {
    "name": "ipython",
    "version": 3
   },
   "file_extension": ".py",
   "mimetype": "text/x-python",
   "name": "python",
   "nbconvert_exporter": "python",
   "pygments_lexer": "ipython3",
   "version": "3.7.6"
  }
 },
 "nbformat": 4,
 "nbformat_minor": 4
}
