{
 "cells": [
  {
   "cell_type": "markdown",
   "metadata": {},
   "source": [
    "# Introduction to Cultural Analytics & Python \n",
    "<br>\n",
    "\n",
    "**Designed by [Melanie Walsh](https://melaniewalsh.org/) // Powered by [Jupyter Book](https://jupyterbook.org/)**  \n",
    "\n",
    "This website hosts the course materials for the **Spring 2021** iteration of \"Introduction to Cultural Analytics: Data, Computation & Culture,\" an undergraduate course taught at Cornell. It includes an **in-development revision** of the textbook designed for the class, *Introduction to Cultural Analytics & Python*.\n",
    "\n",
    "```{figure} images/logo/logo.png\n",
    "---\n",
    "height: 200px\n",
    "---\n",
    "\n",
    "```\n",
    "\n",
    "**What is Cultural Analytics?**  \n",
    "Cultural analytics is the study of culture with computational methods. Culture is a broad term that includes literature, history, politics, art, music, social media, and a lot more. Cultural analytics is a growing research area in fields like [Digital Humanities](https://cmu-lib.github.io/dhlg/what-are-dh/) and [Information Science](https://infosci.cornell.edu/research). \n",
    "\n",
    "**Python for Cultural Data**  \n",
    "The *Introduction to Cultural Analytics & Python* textbook offers an introduction to the programming language Python that is specifically designed for humanities and social science students/scholars with no previous programming experience. It demonstrates how Python can be used to study cultural materials such as song lyrics, short stories, newspaper articles, tweets, Reddit posts, and film screenplays. It introduces computational methods such as web scraping, APIs, topic modeling, Named Entity Recognition (NER), network analysis, and mapping.\n",
    "\n",
    "**Interactive Code <i class=\"fa fa-rocket\" aria-hidden=\"true\"></i>**  \n",
    "Most of the pages in the book are Jupyter notebook files that can be downloaded and run with [Jupyter](https://jupyterlab.readthedocs.io/en/latest/getting_started/overview.html). Click the download button at the top of the page <i class=\"fa fa-download\" aria-hidden=\"true\"></i> to download the .ipynb file. The Jupyter notebooks can also be opened and run in the cloud without any prior configuration by clicking the launch button <i class=\"fa fa-rocket\" aria-hidden=\"true\"></i>. See {doc}`How To Interact With This Book <How-To-Interact-With-This-Book>` for more information.\n",
    "\n",
    "**Acknowledgments**  \n",
    "This course was inspired by a range of excellent course materials, including those by [Lauren Klein](https://github.com/laurenfklein/emory-qtm340), [David Mimno](https://mimno.infosci.cornell.edu/info3350/), and [Allison Parrish](https://github.com/aparrish/rwet).\n",
    "\n",
    "**Suggested Citation**\n",
    "\n",
    "> Melanie Walsh, *Introduction to Cultural Analytics & Python*, Version 1 (2021), [https://doi.org/10.5281/zenodo.4411250](https://doi.org/10.5281/zenodo.4411250).\n",
    "\n",
    "The [DOI](https://doi.org/10.5281/zenodo.4411250) above links to a Zenodo archive of all evolving versions of the textbook. You may also link to the homepage [https://melaniewalsh.github.io/Intro-Cultural-Analytics/](https://melaniewalsh.github.io/Intro-Cultural-Analytics/), but be aware that it is subject to change. "
   ]
  }
 ],
 "metadata": {
  "kernelspec": {
   "display_name": "Python 3",
   "language": "python",
   "name": "python3"
  },
  "language_info": {
   "codemirror_mode": {
    "name": "ipython",
    "version": 3
   },
   "file_extension": ".py",
   "mimetype": "text/x-python",
   "name": "python",
   "nbconvert_exporter": "python",
   "pygments_lexer": "ipython3",
   "version": "3.7.6"
  }
 },
 "nbformat": 4,
 "nbformat_minor": 4
}
