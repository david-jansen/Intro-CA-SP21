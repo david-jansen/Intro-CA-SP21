{
 "cells": [
  {
   "cell_type": "markdown",
   "metadata": {},
   "source": [
    "# Dataset Info"
   ]
  },
  {
   "cell_type": "markdown",
   "metadata": {},
   "source": [
    "This notebook includes information and a preview of all the datasets you can choose from for the midterm project."
   ]
  },
  {
   "cell_type": "code",
   "execution_count": 1,
   "metadata": {},
   "outputs": [],
   "source": [
    "import pandas as pd"
   ]
  },
  {
   "cell_type": "code",
   "execution_count": 35,
   "metadata": {},
   "outputs": [],
   "source": [
    "pd.options.display.max_rows = 200\n",
    "pd.options.display.max_columns = 50"
   ]
  },
  {
   "cell_type": "markdown",
   "metadata": {},
   "source": [
    "## Spotify"
   ]
  },
  {
   "cell_type": "markdown",
   "metadata": {},
   "source": [
    "This Spotify data includes the top 200 most played songs for the week of 3/4/2021 - 3/11/2021 in a number of different countries — including the US, Vietnam, Japan, Turkey, Mexico, Morocco, Egypt, and Sweden. These countries were chosen at random by Prof. Walsh.\n",
    "\n",
    "The data was drawn from [Spotify Charts](https://spotifycharts.com/regional/us/weekly/latest). For more information, see https://artists.spotify.com/faq/stats#charts"
   ]
  },
  {
   "cell_type": "code",
   "execution_count": 9,
   "metadata": {},
   "outputs": [],
   "source": [
    "spotify_df = pd.read_csv('Spotify-Top-Charts_March-2021.csv', encoding='utf-8')"
   ]
  },
  {
   "cell_type": "code",
   "execution_count": 10,
   "metadata": {},
   "outputs": [
    {
     "data": {
      "text/html": [
       "<div>\n",
       "<style scoped>\n",
       "    .dataframe tbody tr th:only-of-type {\n",
       "        vertical-align: middle;\n",
       "    }\n",
       "\n",
       "    .dataframe tbody tr th {\n",
       "        vertical-align: top;\n",
       "    }\n",
       "\n",
       "    .dataframe thead th {\n",
       "        text-align: right;\n",
       "    }\n",
       "</style>\n",
       "<table border=\"1\" class=\"dataframe\">\n",
       "  <thead>\n",
       "    <tr style=\"text-align: right;\">\n",
       "      <th></th>\n",
       "      <th>Position</th>\n",
       "      <th>Track Name</th>\n",
       "      <th>Artist</th>\n",
       "      <th>Streams</th>\n",
       "      <th>URL</th>\n",
       "      <th>country</th>\n",
       "    </tr>\n",
       "  </thead>\n",
       "  <tbody>\n",
       "    <tr>\n",
       "      <th>0</th>\n",
       "      <td>1</td>\n",
       "      <td>Chúng Ta Của Hiện Tại</td>\n",
       "      <td>Sơn Tùng M-TP</td>\n",
       "      <td>344644</td>\n",
       "      <td>https://open.spotify.com/track/17iGUekw5nFt5mI...</td>\n",
       "      <td>Vietnam</td>\n",
       "    </tr>\n",
       "  </tbody>\n",
       "</table>\n",
       "</div>"
      ],
      "text/plain": [
       "   Position             Track Name         Artist  Streams  \\\n",
       "0         1  Chúng Ta Của Hiện Tại  Sơn Tùng M-TP   344644   \n",
       "\n",
       "                                                 URL  country  \n",
       "0  https://open.spotify.com/track/17iGUekw5nFt5mI...  Vietnam  "
      ]
     },
     "execution_count": 10,
     "metadata": {},
     "output_type": "execute_result"
    }
   ],
   "source": [
    "spotify_df.head(1)"
   ]
  },
  {
   "cell_type": "markdown",
   "metadata": {},
   "source": [
    "## Seattle Public Library"
   ]
  },
  {
   "cell_type": "markdown",
   "metadata": {},
   "source": [
    "The Seattle Public Library makes its [circulation data available to the public](https://data.seattle.gov/Community/Checkouts-by-Title/tmmm-ytt6/data#revert) (in anonymized form). This dataset includes items that were checked out more than 20 times a month in 2020 and 2021.\n",
    "\n",
    "For more information about the columns in this dataset, see https://data.seattle.gov/Community/Checkouts-by-Title/tmmm-ytt6"
   ]
  },
  {
   "cell_type": "code",
   "execution_count": 15,
   "metadata": {},
   "outputs": [],
   "source": [
    "spl_df = pd.read_csv('Seattle-Library_2020-2021.csv', encoding='utf-8')"
   ]
  },
  {
   "cell_type": "code",
   "execution_count": 16,
   "metadata": {},
   "outputs": [
    {
     "data": {
      "text/html": [
       "<div>\n",
       "<style scoped>\n",
       "    .dataframe tbody tr th:only-of-type {\n",
       "        vertical-align: middle;\n",
       "    }\n",
       "\n",
       "    .dataframe tbody tr th {\n",
       "        vertical-align: top;\n",
       "    }\n",
       "\n",
       "    .dataframe thead th {\n",
       "        text-align: right;\n",
       "    }\n",
       "</style>\n",
       "<table border=\"1\" class=\"dataframe\">\n",
       "  <thead>\n",
       "    <tr style=\"text-align: right;\">\n",
       "      <th></th>\n",
       "      <th>UsageClass</th>\n",
       "      <th>CheckoutType</th>\n",
       "      <th>MaterialType</th>\n",
       "      <th>CheckoutYear</th>\n",
       "      <th>CheckoutMonth</th>\n",
       "      <th>Checkouts</th>\n",
       "      <th>Title</th>\n",
       "      <th>Creator</th>\n",
       "      <th>Subjects</th>\n",
       "      <th>Publisher</th>\n",
       "      <th>PublicationYear</th>\n",
       "      <th>CheckoutMonthYear</th>\n",
       "    </tr>\n",
       "  </thead>\n",
       "  <tbody>\n",
       "    <tr>\n",
       "      <th>0</th>\n",
       "      <td>Digital</td>\n",
       "      <td>OverDrive</td>\n",
       "      <td>EBOOK</td>\n",
       "      <td>2020</td>\n",
       "      <td>4</td>\n",
       "      <td>23</td>\n",
       "      <td>Eileen: A Novel</td>\n",
       "      <td>Ottessa Moshfegh</td>\n",
       "      <td>Fiction, Literature, Thriller</td>\n",
       "      <td>Penguin Group (USA), Inc.</td>\n",
       "      <td>2015</td>\n",
       "      <td>2020-04</td>\n",
       "    </tr>\n",
       "  </tbody>\n",
       "</table>\n",
       "</div>"
      ],
      "text/plain": [
       "  UsageClass CheckoutType MaterialType  CheckoutYear  CheckoutMonth  \\\n",
       "0    Digital    OverDrive        EBOOK          2020              4   \n",
       "\n",
       "   Checkouts            Title           Creator  \\\n",
       "0         23  Eileen: A Novel  Ottessa Moshfegh   \n",
       "\n",
       "                        Subjects                  Publisher PublicationYear  \\\n",
       "0  Fiction, Literature, Thriller  Penguin Group (USA), Inc.            2015   \n",
       "\n",
       "  CheckoutMonthYear  \n",
       "0           2020-04  "
      ]
     },
     "execution_count": 16,
     "metadata": {},
     "output_type": "execute_result"
    }
   ],
   "source": [
    "spl_df.head(1)"
   ]
  },
  {
   "cell_type": "markdown",
   "metadata": {},
   "source": [
    "## Book Translations"
   ]
  },
  {
   "cell_type": "markdown",
   "metadata": {},
   "source": [
    "This dataset includes information about all original publications of fiction and poetry published in the U.S. in English translation since 2008. The data is drawn from Publishers Weekly's [Translation Database](https://www.publishersweekly.com/pw/translation/home/index.html).\n",
    "\n",
    "For more information, see https://www.publishersweekly.com/pw/corp/translation-database-FAQ.html"
   ]
  },
  {
   "cell_type": "code",
   "execution_count": 25,
   "metadata": {},
   "outputs": [],
   "source": [
    "translation_df = pd.read_csv('PW-Book-Translations.csv', encoding='utf-8')"
   ]
  },
  {
   "cell_type": "code",
   "execution_count": 26,
   "metadata": {},
   "outputs": [
    {
     "data": {
      "text/html": [
       "<div>\n",
       "<style scoped>\n",
       "    .dataframe tbody tr th:only-of-type {\n",
       "        vertical-align: middle;\n",
       "    }\n",
       "\n",
       "    .dataframe tbody tr th {\n",
       "        vertical-align: top;\n",
       "    }\n",
       "\n",
       "    .dataframe thead th {\n",
       "        text-align: right;\n",
       "    }\n",
       "</style>\n",
       "<table border=\"1\" class=\"dataframe\">\n",
       "  <thead>\n",
       "    <tr style=\"text-align: right;\">\n",
       "      <th></th>\n",
       "      <th>isbn</th>\n",
       "      <th>e-isbn</th>\n",
       "      <th>title</th>\n",
       "      <th>auth-first</th>\n",
       "      <th>auth-last</th>\n",
       "      <th>trnsl-first</th>\n",
       "      <th>trnsl-last</th>\n",
       "      <th>publisher</th>\n",
       "      <th>genre</th>\n",
       "      <th>price</th>\n",
       "      <th>pubdate mo</th>\n",
       "      <th>pubdate yr</th>\n",
       "      <th>language</th>\n",
       "      <th>country</th>\n",
       "      <th>addl auth</th>\n",
       "      <th>addl trnsl</th>\n",
       "      <th>auth gender</th>\n",
       "      <th>trnsl gend</th>\n",
       "      <th>count</th>\n",
       "    </tr>\n",
       "  </thead>\n",
       "  <tbody>\n",
       "    <tr>\n",
       "      <th>0</th>\n",
       "      <td>9781477829783</td>\n",
       "      <td>NaN</td>\n",
       "      <td>Shades of White</td>\n",
       "      <td>Ki-Ela</td>\n",
       "      <td>NaN</td>\n",
       "      <td>Kate</td>\n",
       "      <td>Northrop</td>\n",
       "      <td>AmazonCrossing</td>\n",
       "      <td>Fiction</td>\n",
       "      <td>14.95</td>\n",
       "      <td>May</td>\n",
       "      <td>2015.0</td>\n",
       "      <td>German</td>\n",
       "      <td>Germany</td>\n",
       "      <td>NaN</td>\n",
       "      <td>NaN</td>\n",
       "      <td>Female</td>\n",
       "      <td>Female</td>\n",
       "      <td>1</td>\n",
       "    </tr>\n",
       "  </tbody>\n",
       "</table>\n",
       "</div>"
      ],
      "text/plain": [
       "            isbn e-isbn            title auth-first auth-last trnsl-first  \\\n",
       "0  9781477829783    NaN  Shades of White     Ki-Ela       NaN        Kate   \n",
       "\n",
       "  trnsl-last       publisher    genre  price pubdate mo  pubdate yr language  \\\n",
       "0   Northrop  AmazonCrossing  Fiction  14.95        May      2015.0   German   \n",
       "\n",
       "   country addl auth addl trnsl auth gender trnsl gend  count  \n",
       "0  Germany       NaN        NaN      Female     Female      1  "
      ]
     },
     "execution_count": 26,
     "metadata": {},
     "output_type": "execute_result"
    }
   ],
   "source": [
    "translation_df.head(1)"
   ]
  },
  {
   "cell_type": "markdown",
   "metadata": {},
   "source": [
    "## Biopics"
   ]
  },
  {
   "cell_type": "markdown",
   "metadata": {},
   "source": [
    "This dataset includes information about 676 \"biographical\" films from 1900 to 2014. It includes information about the gender, race, and occupation of each biogrpahical subject in each film. This data was curated by Hannah Fingerhut for her 538 essay.\n",
    "\n",
    "For more information, see the [538 essay](https://fivethirtyeight.com/features/straight-outta-compton-is-the-rare-biopic-not-about-white-dudes/) and the corresponding [GitHub repository](https://github.com/fivethirtyeight/data/tree/master/biopics)."
   ]
  },
  {
   "cell_type": "code",
   "execution_count": 27,
   "metadata": {},
   "outputs": [],
   "source": [
    "biopics_df = pd.read_csv('Biopics.csv', encoding='utf-8')"
   ]
  },
  {
   "cell_type": "code",
   "execution_count": 28,
   "metadata": {},
   "outputs": [
    {
     "data": {
      "text/html": [
       "<div>\n",
       "<style scoped>\n",
       "    .dataframe tbody tr th:only-of-type {\n",
       "        vertical-align: middle;\n",
       "    }\n",
       "\n",
       "    .dataframe tbody tr th {\n",
       "        vertical-align: top;\n",
       "    }\n",
       "\n",
       "    .dataframe thead th {\n",
       "        text-align: right;\n",
       "    }\n",
       "</style>\n",
       "<table border=\"1\" class=\"dataframe\">\n",
       "  <thead>\n",
       "    <tr style=\"text-align: right;\">\n",
       "      <th></th>\n",
       "      <th>title</th>\n",
       "      <th>site</th>\n",
       "      <th>country</th>\n",
       "      <th>year_release</th>\n",
       "      <th>box_office</th>\n",
       "      <th>director</th>\n",
       "      <th>number_of_subjects</th>\n",
       "      <th>subject</th>\n",
       "      <th>type_of_subject</th>\n",
       "      <th>race_known</th>\n",
       "      <th>subject_race</th>\n",
       "      <th>person_of_color</th>\n",
       "      <th>subject_sex</th>\n",
       "      <th>lead_actor_actress</th>\n",
       "    </tr>\n",
       "  </thead>\n",
       "  <tbody>\n",
       "    <tr>\n",
       "      <th>0</th>\n",
       "      <td>10 Rillington Place</td>\n",
       "      <td>http://www.imdb.com/title/tt0066730/</td>\n",
       "      <td>UK</td>\n",
       "      <td>1971</td>\n",
       "      <td>-</td>\n",
       "      <td>Richard Fleischer</td>\n",
       "      <td>1</td>\n",
       "      <td>John Christie</td>\n",
       "      <td>Criminal</td>\n",
       "      <td>Unknown</td>\n",
       "      <td>NaN</td>\n",
       "      <td>0</td>\n",
       "      <td>Male</td>\n",
       "      <td>Richard Attenborough</td>\n",
       "    </tr>\n",
       "  </tbody>\n",
       "</table>\n",
       "</div>"
      ],
      "text/plain": [
       "                 title                                  site country  \\\n",
       "0  10 Rillington Place  http://www.imdb.com/title/tt0066730/      UK   \n",
       "\n",
       "   year_release box_office           director  number_of_subjects  \\\n",
       "0          1971          -  Richard Fleischer                   1   \n",
       "\n",
       "         subject type_of_subject race_known subject_race  person_of_color  \\\n",
       "0  John Christie        Criminal    Unknown          NaN                0   \n",
       "\n",
       "  subject_sex    lead_actor_actress  \n",
       "0        Male  Richard Attenborough  "
      ]
     },
     "execution_count": 28,
     "metadata": {},
     "output_type": "execute_result"
    }
   ],
   "source": [
    "biopics_df.head(1)"
   ]
  },
  {
   "cell_type": "markdown",
   "metadata": {},
   "source": [
    "# NBA"
   ]
  },
  {
   "cell_type": "markdown",
   "metadata": {},
   "source": [
    "This data includes information and basketball statistics about NBA players going back to 1977.\n",
    "\n",
    "This data was drawn from 538 and Neil Paine's essay [\"Luka Dončić And The Mavs Are Pushing The Limits Of Offensive Efficiency.\"](https://fivethirtyeight.com/features/luka-doncic-and-the-mavs-are-pushing-the-limits-of-offensive-efficiency/) For more information, see the corresponding [GitHub repository](https://github.com/fivethirtyeight/nba-player-advanced-metrics) and the explanation of [RAPTOR metrics](https://fivethirtyeight.com/features/how-our-raptor-metric-works/)."
   ]
  },
  {
   "cell_type": "code",
   "execution_count": 31,
   "metadata": {},
   "outputs": [],
   "source": [
    "nba_df = pd.read_csv('NBA-Historical.csv', encoding='utf=8')"
   ]
  },
  {
   "cell_type": "code",
   "execution_count": 36,
   "metadata": {},
   "outputs": [
    {
     "data": {
      "text/html": [
       "<div>\n",
       "<style scoped>\n",
       "    .dataframe tbody tr th:only-of-type {\n",
       "        vertical-align: middle;\n",
       "    }\n",
       "\n",
       "    .dataframe tbody tr th {\n",
       "        vertical-align: top;\n",
       "    }\n",
       "\n",
       "    .dataframe thead th {\n",
       "        text-align: right;\n",
       "    }\n",
       "</style>\n",
       "<table border=\"1\" class=\"dataframe\">\n",
       "  <thead>\n",
       "    <tr style=\"text-align: right;\">\n",
       "      <th></th>\n",
       "      <th>player_id</th>\n",
       "      <th>name_common</th>\n",
       "      <th>year_id</th>\n",
       "      <th>type</th>\n",
       "      <th>age</th>\n",
       "      <th>team_id</th>\n",
       "      <th>pos</th>\n",
       "      <th>tmRtg</th>\n",
       "      <th>franch_id</th>\n",
       "      <th>G</th>\n",
       "      <th>Min</th>\n",
       "      <th>MP%</th>\n",
       "      <th>MPG</th>\n",
       "      <th>P/36</th>\n",
       "      <th>TS%</th>\n",
       "      <th>A/36</th>\n",
       "      <th>R/36</th>\n",
       "      <th>SB/36</th>\n",
       "      <th>TO/36</th>\n",
       "      <th>Raptor O</th>\n",
       "      <th>Raptor D</th>\n",
       "      <th>Raptor+/-</th>\n",
       "      <th>Raptor WAR</th>\n",
       "      <th>PIE%</th>\n",
       "      <th>AWS%</th>\n",
       "      <th>USG%</th>\n",
       "      <th>AST%</th>\n",
       "      <th>TOV%</th>\n",
       "      <th>ORB%</th>\n",
       "      <th>DRB%</th>\n",
       "      <th>TRB%</th>\n",
       "      <th>STL%</th>\n",
       "      <th>BLK%</th>\n",
       "      <th>ORtg</th>\n",
       "      <th>%Pos</th>\n",
       "      <th>DRtg</th>\n",
       "      <th>2P%</th>\n",
       "      <th>3P%</th>\n",
       "      <th>FT%</th>\n",
       "      <th>3PAr</th>\n",
       "      <th>FTAr</th>\n",
       "      <th>Pace +/-</th>\n",
       "    </tr>\n",
       "  </thead>\n",
       "  <tbody>\n",
       "    <tr>\n",
       "      <th>0</th>\n",
       "      <td>youngtr01</td>\n",
       "      <td>Trae Young</td>\n",
       "      <td>2020</td>\n",
       "      <td>RS</td>\n",
       "      <td>21</td>\n",
       "      <td>ATL</td>\n",
       "      <td>PG</td>\n",
       "      <td>NaN</td>\n",
       "      <td>ATL</td>\n",
       "      <td>60</td>\n",
       "      <td>2120</td>\n",
       "      <td>NaN</td>\n",
       "      <td>35.3</td>\n",
       "      <td>NaN</td>\n",
       "      <td>59.5</td>\n",
       "      <td>NaN</td>\n",
       "      <td>NaN</td>\n",
       "      <td>NaN</td>\n",
       "      <td>NaN</td>\n",
       "      <td>7.1</td>\n",
       "      <td>-3.3</td>\n",
       "      <td>3.7</td>\n",
       "      <td>7.19</td>\n",
       "      <td>NaN</td>\n",
       "      <td>NaN</td>\n",
       "      <td>34.9</td>\n",
       "      <td>45.6</td>\n",
       "      <td>16.2</td>\n",
       "      <td>1.6</td>\n",
       "      <td>11.5</td>\n",
       "      <td>6.5</td>\n",
       "      <td>1.4</td>\n",
       "      <td>0.3</td>\n",
       "      <td>NaN</td>\n",
       "      <td>NaN</td>\n",
       "      <td>NaN</td>\n",
       "      <td>NaN</td>\n",
       "      <td>NaN</td>\n",
       "      <td>NaN</td>\n",
       "      <td>45.5</td>\n",
       "      <td>44.8</td>\n",
       "      <td>2.9</td>\n",
       "    </tr>\n",
       "  </tbody>\n",
       "</table>\n",
       "</div>"
      ],
      "text/plain": [
       "   player_id name_common  year_id type  age team_id pos  tmRtg franch_id   G  \\\n",
       "0  youngtr01  Trae Young     2020   RS   21     ATL  PG    NaN       ATL  60   \n",
       "\n",
       "    Min  MP%   MPG  P/36   TS%  A/36  R/36  SB/36  TO/36  Raptor O  Raptor D  \\\n",
       "0  2120  NaN  35.3   NaN  59.5   NaN   NaN    NaN    NaN       7.1      -3.3   \n",
       "\n",
       "   Raptor+/-  Raptor WAR  PIE%  AWS%  USG%  AST%  TOV%  ORB%  DRB%  TRB%  \\\n",
       "0        3.7        7.19   NaN   NaN  34.9  45.6  16.2   1.6  11.5   6.5   \n",
       "\n",
       "   STL%  BLK%  ORtg  %Pos  DRtg  2P%  3P%  FT%  3PAr  FTAr  Pace +/-  \n",
       "0   1.4   0.3   NaN   NaN   NaN  NaN  NaN  NaN  45.5  44.8       2.9  "
      ]
     },
     "execution_count": 36,
     "metadata": {},
     "output_type": "execute_result"
    }
   ],
   "source": [
    "nba_df.head(1)"
   ]
  }
 ],
 "metadata": {
  "kernelspec": {
   "display_name": "Python 3",
   "language": "python",
   "name": "python3"
  },
  "language_info": {
   "codemirror_mode": {
    "name": "ipython",
    "version": 3
   },
   "file_extension": ".py",
   "mimetype": "text/x-python",
   "name": "python",
   "nbconvert_exporter": "python",
   "pygments_lexer": "ipython3",
   "version": "3.7.6"
  }
 },
 "nbformat": 4,
 "nbformat_minor": 4
}
