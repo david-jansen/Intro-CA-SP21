{
 "cells": [
  {
   "cell_type": "markdown",
   "metadata": {},
   "source": [
    "# HW 3 — Analyzing Musical Albums By Year"
   ]
  },
  {
   "cell_type": "markdown",
   "metadata": {},
   "source": [
    "Student Name: Your name here  \n",
    "Net ID: Your ID here\n",
    "(Double-click this cell to type)"
   ]
  },
  {
   "cell_type": "markdown",
   "metadata": {},
   "source": [
    "## Assignment Overview\n",
    "In this homework assignment, we will be modeling how you might begin to work on a larger data-driven project.\n",
    "\n",
    "Imagine that we want to visualize everyone's favorite musical albums by the decade they were released (such as in the imaginary chart below).\n",
    "\n",
    "\n",
    "![](../images/music-chart.png)\n",
    "To make this chart, we would need to know the year that each album was released, and we would need to aggregate the years by decade.\n",
    "\n",
    "One method for getting the album release year information would be to programmatically extract this information from the web, such as from Genius.com web pages (pictured below) — in other words, to write a Python script that would automatically extract this information. \n",
    "  \n",
    "![](../images/Purple-Rain-Prince.png)\n",
    "\n",
    "Typically, when extracting data from the web, you need to extract whole sections of the web page, such as `'Released June 25, 1984'` rather than just `'1984'`, which means that we have to do further manipulations with Python in order to get the text in the correct format.\n",
    "\n",
    "The rest of this homework assignment picks up at this point in the imagined project. We figured out how to extract a specific section of Genius album web pages, but now we need to clean and manipulate the data to extract the 4-digit years from all of these examples and then categorize them by decade."
   ]
  },
  {
   "cell_type": "markdown",
   "metadata": {},
   "source": [
    "The assignment will slowly build toward the following end goal.  \n",
    "\n",
    "**End goal:** Iterate through the list `album_years`, extract the 4-digit year from each item in the list, and then categorize each year by decade."
   ]
  },
  {
   "cell_type": "code",
   "execution_count": null,
   "metadata": {},
   "outputs": [],
   "source": [
    "album_years = ['Released June 25, 1984', 'Released October 25, 2007 ', \\\n",
    "               'Released Monday July 21, 2017', ' Released May 18, 2018']"
   ]
  },
  {
   "cell_type": "markdown",
   "metadata": {},
   "source": [
    "**End goal code structure and output**:"
   ]
  },
  {
   "cell_type": "code",
   "execution_count": 27,
   "metadata": {},
   "outputs": [
    {
     "name": "stdout",
     "output_type": "stream",
     "text": [
      "1980s\n",
      "2000s\n",
      "2010s\n",
      "2010s\n"
     ]
    }
   ],
   "source": [
    "#Your code here\n",
    "    #Your code here\n",
    "    #Your code here\n",
    "    #Your code here\n",
    "        #Your code here\n",
    "    #Your code here\n",
    "        #Your code here\n",
    "    #Your code here\n",
    "        #Your code here\n",
    "    #Your code here\n",
    "        #Your code here"
   ]
  },
  {
   "cell_type": "markdown",
   "metadata": {},
   "source": [
    "*Note: This assignment will include sample outputs like the one above to demonstrate what your outputs should look like.*"
   ]
  },
  {
   "cell_type": "markdown",
   "metadata": {},
   "source": [
    "## Start Small"
   ]
  },
  {
   "cell_type": "markdown",
   "metadata": {},
   "source": [
    "A great way to approach a complicated coding challenge is to start small.\n",
    "\n",
    "If our end goal is to extract the 4-digit years from all these examples at the same time —  `'Released June 25, 1984', 'Released October 25, 2007 ', 'Released Monday July 21, 2017', ' Released May 18, 2018'` — we might begin by considering just one of these examples."
   ]
  },
  {
   "cell_type": "markdown",
   "metadata": {},
   "source": [
    "**1.** Extract just the 4-digit year from the variable `purple_rain` by using [string methods](https://info1350.github.io/Intro-CA-SP21/02-Python/06-String-Methods.html).\n",
    "\n",
    "*If you're having trouble, refer back to the last 10 minutes of our February 19th class. The recording is posted on Canvas -> [Zoom](https://canvas.cornell.edu/courses/27486/external_tools/1346) -> Cloud Recordings*\n",
    "(2 points) "
   ]
  },
  {
   "cell_type": "code",
   "execution_count": 15,
   "metadata": {},
   "outputs": [],
   "source": [
    "purple_rain = \"June 25, 1984\""
   ]
  },
  {
   "cell_type": "code",
   "execution_count": 16,
   "metadata": {},
   "outputs": [
    {
     "data": {
      "text/plain": [
       "'1984'"
      ]
     },
     "execution_count": 16,
     "metadata": {},
     "output_type": "execute_result"
    }
   ],
   "source": [
    "purple_rain..."
   ]
  },
  {
   "cell_type": "markdown",
   "metadata": {},
   "source": [
    "## Build Up"
   ]
  },
  {
   "cell_type": "markdown",
   "metadata": {},
   "source": [
    "Great! We were able to extract the 4-digit year from one example. But will this approach work on all the examples?\n",
    "\n",
    "Let's figure out a bit of code that will work on multiple examples with slightly different formatting."
   ]
  },
  {
   "cell_type": "markdown",
   "metadata": {},
   "source": [
    "**2.** Extract the 4-digit year from the variables `purple_rain` and `blackout` using the exact same code. (2 points)"
   ]
  },
  {
   "cell_type": "code",
   "execution_count": 15,
   "metadata": {},
   "outputs": [],
   "source": [
    "purple_rain = \"June 25, 1984\""
   ]
  },
  {
   "cell_type": "code",
   "execution_count": 17,
   "metadata": {},
   "outputs": [
    {
     "data": {
      "text/plain": [
       "'1984'"
      ]
     },
     "execution_count": 17,
     "metadata": {},
     "output_type": "execute_result"
    }
   ],
   "source": [
    "purple_rain..."
   ]
  },
  {
   "cell_type": "code",
   "execution_count": 19,
   "metadata": {},
   "outputs": [],
   "source": [
    "blackout = \"October 25, 2007 \""
   ]
  },
  {
   "cell_type": "code",
   "execution_count": 20,
   "metadata": {},
   "outputs": [
    {
     "data": {
      "text/plain": [
       "'2007'"
      ]
     },
     "execution_count": 20,
     "metadata": {},
     "output_type": "execute_result"
    }
   ],
   "source": [
    "blackout..."
   ]
  },
  {
   "cell_type": "markdown",
   "metadata": {},
   "source": [
    "## Apply to All"
   ]
  },
  {
   "cell_type": "markdown",
   "metadata": {},
   "source": [
    "Now we're cooking! Let's apply this code to each item in the list.\n",
    "\n",
    "**3.** Use a `for` loop to consider each item in the list `album_years`, extract the 4-digit year into a variable called `year`, and then `print()` out `year`. (4 points)"
   ]
  },
  {
   "cell_type": "code",
   "execution_count": 2,
   "metadata": {},
   "outputs": [],
   "source": [
    "album_years = ['Released June 25, 1984', 'Released October 25, 2007 ', \\\n",
    "               'Released Monday July 21, 2017', ' Released May 18, 2018']"
   ]
  },
  {
   "cell_type": "code",
   "execution_count": 13,
   "metadata": {},
   "outputs": [
    {
     "name": "stdout",
     "output_type": "stream",
     "text": [
      "1984\n",
      "2007\n",
      "2017\n",
      "2018\n"
     ]
    }
   ],
   "source": [
    "for #Your code here\n",
    "    year ... #Your code here\n",
    "    print(year)"
   ]
  },
  {
   "cell_type": "markdown",
   "metadata": {},
   "source": [
    "## Make a String a Number"
   ]
  },
  {
   "cell_type": "markdown",
   "metadata": {},
   "source": [
    "Now that we have all the years isolated, we need to categorize them by decade. A good method for doing so is to use comparison operators such as `>`,`<`, `<=`, or `>=`.\n",
    "\n",
    "To use comparison operators, however, we first need to convert our strings to numbers. You can convert a string to an integer by using [`int()`](https://realpython.com/convert-python-string-to-int/#converting-a-python-string-to-an-int)."
   ]
  },
  {
   "cell_type": "code",
   "execution_count": 23,
   "metadata": {},
   "outputs": [
    {
     "data": {
      "text/plain": [
       "str"
      ]
     },
     "execution_count": 23,
     "metadata": {},
     "output_type": "execute_result"
    }
   ],
   "source": [
    "type(\"500\")"
   ]
  },
  {
   "cell_type": "code",
   "execution_count": 24,
   "metadata": {},
   "outputs": [
    {
     "data": {
      "text/plain": [
       "int"
      ]
     },
     "execution_count": 24,
     "metadata": {},
     "output_type": "execute_result"
    }
   ],
   "source": [
    "type(int(\"500\"))"
   ]
  },
  {
   "cell_type": "markdown",
   "metadata": {},
   "source": [
    "**4.** Add a line to your code from Q 4 where you convert the year to an integer and assign it to the variable `year_number`. (2 points)"
   ]
  },
  {
   "cell_type": "code",
   "execution_count": null,
   "metadata": {},
   "outputs": [],
   "source": [
    "for #Your code here\n",
    "    year ... #Your code here\n",
    "    year_number ... #Your code here\n",
    "    print(year)"
   ]
  },
  {
   "cell_type": "markdown",
   "metadata": {},
   "source": [
    "## Check the Decades"
   ]
  },
  {
   "cell_type": "markdown",
   "metadata": {},
   "source": [
    "We're almost to our end goal! All we have to do now is print out a corresponding decade (e.g., \"1980s\") for each album release year.\n",
    "\n",
    "**5.** Use `if` and `elif` statements as well as comparison operators (`>`,`<`, `<=`, or `>=`) to test whether each `year_number` falls within the 1980s, 1990s, 2000s, and 2010s. (10 points)\n",
    "\n",
    "*Hint: you will also need to use the logical opeartor [and](https://info1350.github.io/Intro-CA-SP21/02-Python/08-Comparisons-Conditionals.html#and)*  "
   ]
  },
  {
   "cell_type": "code",
   "execution_count": 26,
   "metadata": {},
   "outputs": [
    {
     "name": "stdout",
     "output_type": "stream",
     "text": [
      "1980s\n",
      "2000s\n",
      "2010s\n",
      "2010s\n"
     ]
    }
   ],
   "source": [
    "for #Your code here\n",
    "    year ... #Your code here\n",
    "    year_number ... #Your code here\n",
    "    if ...\n",
    "        print(\"1980s\")\n",
    "    elif ...\n",
    "        print(\"1990s\")\n",
    "    # Your code here\n",
    "        # Your code here\n",
    "    # Your code here\n",
    "        # Your code here"
   ]
  },
  {
   "cell_type": "markdown",
   "metadata": {},
   "source": [
    "## When You're Finished"
   ]
  },
  {
   "cell_type": "markdown",
   "metadata": {},
   "source": [
    "When you're finished, you should:\n",
    "\n",
    "1. Save your Jupyter notebook with your last name (Right-click the file and select \"Rename\")\n",
    "\n",
    "![](../images/JB-Rename.png)\n",
    "![](../images/JB-Your-Last-Name.png)\n",
    "\n",
    "2. Upload the Jupyter notebook file (.ipynb) to Gradescope."
   ]
  }
 ],
 "metadata": {
  "kernelspec": {
   "display_name": "Python 3",
   "language": "python",
   "name": "python3"
  },
  "language_info": {
   "codemirror_mode": {
    "name": "ipython",
    "version": 3
   },
   "file_extension": ".py",
   "mimetype": "text/x-python",
   "name": "python",
   "nbconvert_exporter": "python",
   "pygments_lexer": "ipython3",
   "version": "3.7.6"
  }
 },
 "nbformat": 4,
 "nbformat_minor": 4
}
