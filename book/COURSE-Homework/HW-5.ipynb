{
 "cells": [
  {
   "cell_type": "markdown",
   "metadata": {},
   "source": [
    "# HW 5 — Reddit Data"
   ]
  },
  {
   "cell_type": "markdown",
   "metadata": {},
   "source": [
    "Student Name: Your name here  \n",
    "Net ID: Your ID here\n",
    "(Double-click this cell to type)"
   ]
  },
  {
   "cell_type": "markdown",
   "metadata": {},
   "source": [
    "---\n",
    "In this homework assignment, you will collect Reddit posts that mention a certain keyword from a Reddit community or \"subreddit\" of your choice. To do so, you will use [PSAW](https://github.com/dmarx/psaw), the API wrapper for [Pushshift](https://www.reddit.com/r/pushshift/comments/bcxguf/new_to_pushshift_read_this_faq/), which stores Reddit data.\n",
    "\n",
    "This homework assignment will closely mirror our 04-Data-Collection/05.5 class workbook from Friday, April 2nd. It will also include basic Python and Pandas concepts from the previous weeks. You are encouraged to refer back to your class workbooks and the course textbook.\n",
    "\n",
    "When you're finished, please upload this Jupyer notebook to Gradescope (LAST-NAME-HW-5.ipynb).\n",
    "\n",
    "*Not sure which subreddit to choose? To browse popular subreddits, you can go to https://www.reddit.com/, scroll down the page, and look on the right-hand sidebar for \"Popular Communities.\"* "
   ]
  },
  {
   "cell_type": "markdown",
   "metadata": {},
   "source": [
    "## Set Up"
   ]
  },
  {
   "cell_type": "markdown",
   "metadata": {},
   "source": [
    "**1:** First, you need to install and import the libraries/packages that you will need for this notebook. "
   ]
  },
  {
   "cell_type": "markdown",
   "metadata": {},
   "source": [
    "Install PSAW with pip (1 point)"
   ]
  },
  {
   "cell_type": "code",
   "execution_count": null,
   "metadata": {},
   "outputs": [],
   "source": [
    "# Your code here"
   ]
  },
  {
   "cell_type": "markdown",
   "metadata": {},
   "source": [
    "Import the specific part of the PSAW package that you need to collect Reddit data (1 point)"
   ]
  },
  {
   "cell_type": "code",
   "execution_count": null,
   "metadata": {},
   "outputs": [],
   "source": [
    "# Your code here"
   ]
  },
  {
   "cell_type": "markdown",
   "metadata": {},
   "source": [
    "Import Pandas (1 point)"
   ]
  },
  {
   "cell_type": "code",
   "execution_count": null,
   "metadata": {},
   "outputs": [],
   "source": [
    "# Your code here"
   ]
  },
  {
   "cell_type": "markdown",
   "metadata": {},
   "source": [
    "Set Pandas [display settings](https://pandas.pydata.org/pandas-docs/stable/user_guide/options.html#available-options) to show 100 rows and set column widths to be 400  \n",
    "(1 point)"
   ]
  },
  {
   "cell_type": "code",
   "execution_count": null,
   "metadata": {},
   "outputs": [],
   "source": [
    "# Your code here\n",
    "# Your code here"
   ]
  },
  {
   "cell_type": "markdown",
   "metadata": {},
   "source": [
    "Finally, you need to initialize the Pushshift API (completed for you below): "
   ]
  },
  {
   "cell_type": "code",
   "execution_count": null,
   "metadata": {},
   "outputs": [],
   "source": [
    "api = PushshiftAPI()"
   ]
  },
  {
   "cell_type": "markdown",
   "metadata": {},
   "source": [
    "## Define Seach Arguments"
   ]
  },
  {
   "cell_type": "markdown",
   "metadata": {},
   "source": [
    "**2:** Now you need to set up `api_request_generator` to search for Reddit posts (not comments) that will meet four criteria. (4 points)\n",
    "\n",
    "Here are the four criteria you need to establish:\n",
    "- a subreddit of your choice\n",
    "- a query word of your choice\n",
    "- an upvote score of 100 or more\n",
    "- a limit of 100 Reddit posts\n",
    "\n",
    "*Note: You can choose whatever subreddit and query word you like as you long as you get at least 10 Reddit posts in return. For example, in the subreddit \"TodayILearned,\" the query word \"triskaidekaphobia\" only returns two Reddit posts (with upvote scores of 100 or more). So I would have to choose another subreddit/query combo.*"
   ]
  },
  {
   "cell_type": "code",
   "execution_count": null,
   "metadata": {},
   "outputs": [],
   "source": [
    "api_request_generator = #Your code here"
   ]
  },
  {
   "cell_type": "markdown",
   "metadata": {},
   "source": [
    "*Note: Remember that nothing will happen when you run this cell. You are just setting up the generator.*"
   ]
  },
  {
   "cell_type": "markdown",
   "metadata": {},
   "source": [
    "## Get Reddit Posts"
   ]
  },
  {
   "cell_type": "markdown",
   "metadata": {},
   "source": [
    "**3:** Now you will use the `api_request_generator` to get individual Reddit posts and put them in a list called `all_submissions`.\n",
    "\n",
    "To get individual Reddit posts (or submissions), you need to loop through `api_request_generator` and extract the data for each submission, which will be stored in the attribute `submission.d_`."
   ]
  },
  {
   "cell_type": "markdown",
   "metadata": {},
   "source": [
    "Fill in the missing code below to extract the Reddit post data and add it to the list `all_submissions` (2 points)"
   ]
  },
  {
   "cell_type": "code",
   "execution_count": 66,
   "metadata": {},
   "outputs": [],
   "source": [
    "all_submissions = []\n",
    "for submission in api_request_generator:\n",
    "    # Your code here"
   ]
  },
  {
   "cell_type": "markdown",
   "metadata": {},
   "source": [
    "*Note: Running this cell should take a few seconds.*"
   ]
  },
  {
   "cell_type": "markdown",
   "metadata": {},
   "source": [
    "Now calculate the length of the list `all_submissions` — in other words, how many items are contained in it? (1 point)"
   ]
  },
  {
   "cell_type": "code",
   "execution_count": null,
   "metadata": {},
   "outputs": [],
   "source": [
    "# Your code here"
   ]
  },
  {
   "cell_type": "markdown",
   "metadata": {},
   "source": [
    "*Hint: Refer to the [lists sections](https://info1350.github.io/Intro-CA-SP21/02-Python/10-Lists-Loops-Part2.html#build-a-list-with-a-for-loop) of our course textbook for a refresher*"
   ]
  },
  {
   "cell_type": "markdown",
   "metadata": {},
   "source": [
    "Examine the fourth item in the list `all_submissions` (1 point)"
   ]
  },
  {
   "cell_type": "code",
   "execution_count": null,
   "metadata": {
    "scrolled": true
   },
   "outputs": [],
   "source": [
    "# Your code here"
   ]
  },
  {
   "cell_type": "markdown",
   "metadata": {},
   "source": [
    "*Hint: Refer to the [list indexing](https://info1350.github.io/Intro-CA-SP21/02-Python/09-Lists-Loops-Part1.html#index) sections of our course textbook for a refresher*"
   ]
  },
  {
   "cell_type": "markdown",
   "metadata": {},
   "source": [
    "Make a DataFrame from the list `all_submissions` and save it in the variable `reddit_submmissions` (completed for you below)."
   ]
  },
  {
   "cell_type": "code",
   "execution_count": 68,
   "metadata": {},
   "outputs": [],
   "source": [
    "reddit_submissions = pd.DataFrame(all_submissions)"
   ]
  },
  {
   "cell_type": "markdown",
   "metadata": {},
   "source": [
    "## Examine the Reddit Posts"
   ]
  },
  {
   "cell_type": "markdown",
   "metadata": {},
   "source": [
    "Display the `reddit_submissions` DataFrame with only the following columns:\n",
    "- 'score'\n",
    "- 'title'\n",
    "- 'author'\n",
    "- 'selftext',\n",
    "- 'num_comments',\n",
    "- 'subreddit' \n",
    "\n",
    "(2 points)"
   ]
  },
  {
   "cell_type": "code",
   "execution_count": null,
   "metadata": {},
   "outputs": [],
   "source": [
    "reddit_submissions...#Your code here"
   ]
  },
  {
   "cell_type": "markdown",
   "metadata": {},
   "source": [
    "*Note: Remember that you can [enable scrolling](https://info1350.github.io/Intro-CA-SP21/02-Python/EXTRA-Jupyter-Tips-Tricks.html#enable-disable-scrolling-for-outputs) for long outputs.*"
   ]
  },
  {
   "cell_type": "markdown",
   "metadata": {},
   "source": [
    "Assign the condensed version of the DataFrame above to the variable `reddit_submissions`. In other words, `reddit_submissions` should now be a DataFrame that only contains the six columns listed above. (1 point)"
   ]
  },
  {
   "cell_type": "code",
   "execution_count": null,
   "metadata": {},
   "outputs": [],
   "source": [
    "reddit_submissions = ...#Your code here"
   ]
  },
  {
   "cell_type": "markdown",
   "metadata": {},
   "source": [
    "## Find Top Posts"
   ]
  },
  {
   "cell_type": "markdown",
   "metadata": {},
   "source": [
    "Find the top 10 Reddit posts with the highest upvote scores. In other words, sort the DataFrame by upvote score and isolate the first 10 rows. (5 points)"
   ]
  },
  {
   "cell_type": "code",
   "execution_count": null,
   "metadata": {},
   "outputs": [],
   "source": [
    "reddit_submissions...#Your code here"
   ]
  },
  {
   "cell_type": "markdown",
   "metadata": {},
   "source": [
    "## Synthesize"
   ]
  },
  {
   "cell_type": "markdown",
   "metadata": {},
   "source": [
    "Answer the following questions in a few sentences or more (3 points):\n",
    "- What patterns do you notice in the top Reddit posts that contain your query word in your subreddit of choice?\n",
    "- What further analysis would you want to do with this data?\n",
    "- What drawbacks do you see in this data?\n"
   ]
  },
  {
   "cell_type": "markdown",
   "metadata": {},
   "source": [
    "Type your thoughts here (double-click to type)"
   ]
  },
  {
   "cell_type": "markdown",
   "metadata": {},
   "source": [
    "## Bonus (1 Point)"
   ]
  },
  {
   "cell_type": "markdown",
   "metadata": {},
   "source": [
    "We've mentioned [list comprehensions](https://info1350.github.io/Intro-CA-SP21/02-Python/10-Lists-Loops-Part2.html#list-comprehensions) in class, but we haven't had a chance to practice them. For for this week's bonus question, use a list comprehension to make a new list `apples` that only contains items from the list `fruits` that match \"apple.\""
   ]
  },
  {
   "cell_type": "code",
   "execution_count": null,
   "metadata": {},
   "outputs": [],
   "source": [
    "fruits = ['apple', 'banana', 'pear', 'kumquat', 'kiwi', 'apple']"
   ]
  },
  {
   "cell_type": "code",
   "execution_count": 3,
   "metadata": {},
   "outputs": [],
   "source": [
    "apples = ...#Use just one line of code to make this list!"
   ]
  },
  {
   "cell_type": "markdown",
   "metadata": {},
   "source": [
    "Check to make sure you did it correctly. The output should be a list with two \"apple\" items."
   ]
  },
  {
   "cell_type": "code",
   "execution_count": null,
   "metadata": {},
   "outputs": [],
   "source": [
    "apples"
   ]
  },
  {
   "cell_type": "markdown",
   "metadata": {},
   "source": [
    "## When You're Finished"
   ]
  },
  {
   "cell_type": "markdown",
   "metadata": {},
   "source": [
    "When you're finished, you should:\n",
    "\n",
    "1. Save your Jupyter notebook with your last name. To save your notebook, you can select File -> Save Notebook or File -> Save Notebook As...\n",
    "\n",
    "2. Upload the Jupyter notebook file (.ipynb) to Gradescope. You can do so by locating your file on your computer and then dragging and dropping it into Gradescope.\n",
    "\n",
    "![](../images/submit-hw-gradescope.gif)"
   ]
  }
 ],
 "metadata": {
  "kernelspec": {
   "display_name": "Python 3",
   "language": "python",
   "name": "python3"
  },
  "language_info": {
   "codemirror_mode": {
    "name": "ipython",
    "version": 3
   },
   "file_extension": ".py",
   "mimetype": "text/x-python",
   "name": "python",
   "nbconvert_exporter": "python",
   "pygments_lexer": "ipython3",
   "version": "3.7.6"
  },
  "varInspector": {
   "cols": {
    "lenName": 16,
    "lenType": 16,
    "lenVar": 40
   },
   "kernels_config": {
    "python": {
     "delete_cmd_postfix": "",
     "delete_cmd_prefix": "del ",
     "library": "var_list.py",
     "varRefreshCmd": "print(var_dic_list())"
    },
    "r": {
     "delete_cmd_postfix": ") ",
     "delete_cmd_prefix": "rm(",
     "library": "var_list.r",
     "varRefreshCmd": "cat(var_dic_list()) "
    }
   },
   "types_to_exclude": [
    "module",
    "function",
    "builtin_function_or_method",
    "instance",
    "_Feature"
   ],
   "window_display": false
  }
 },
 "nbformat": 4,
 "nbformat_minor": 4
}
