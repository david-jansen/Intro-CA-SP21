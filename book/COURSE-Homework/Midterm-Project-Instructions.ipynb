{
 "cells": [
  {
   "cell_type": "markdown",
   "metadata": {},
   "source": [
    "## Midterm Project"
   ]
  },
  {
   "cell_type": "markdown",
   "metadata": {},
   "source": [
    "Due Friday March 26th by midnight"
   ]
  },
  {
   "cell_type": "markdown",
   "metadata": {},
   "source": [
    "For information about the datasets you can choose from for this assignment, see [midterm-data/Dataset Info](https://info1350.github.io/Intro-CA-SP21/COURSE-Homework/midterm-data/Dataset-Info). Be sure to fill out your [preferred selection](https://forms.gle/vdSXGKx3kxkjFbhu8) by March 13th."
   ]
  },
  {
   "cell_type": "markdown",
   "metadata": {},
   "source": [
    "## Summary\n",
    "\n",
    "For the midterm project, you will work with a partner(s) to computationally analyze a dataset, and you will write a short (500-1,000 word) blog post about an interesting finding or insight from your analysis. You will publish this blog post on Medium, specifically to our [Medium course page](https://medium.com/introduction-to-cultural-analytics) (to do so, you will need to make a [Medium account](https://medium.com/m/signin?operation=register&redirect=https%3A%2F%2Fmedium.com%2F&source=--------------------------lo_home_nav-----------)).\n",
    "\n",
    "**Submission**: To submit this project for credit, each partner will submit a Jupyter notebook to Gradescope (\"Midterm-Project-LASTNAME.ipynb\") that includes a link to your co-authored blog post.\n",
    "\n",
    "**Peer Evaluation**: When you're finished with the project, you will also fill out a [peer evaluation](https://forms.gle/8sA8USor8gFTYhMF7) and evaluate the participation of each group member. If group members participate less than others, their grades will be adjusted to reflect this contribution.\n"
   ]
  },
  {
   "cell_type": "markdown",
   "metadata": {},
   "source": [
    "## Exploratory Data Analysis (30 points)"
   ]
  },
  {
   "cell_type": "markdown",
   "metadata": {},
   "source": [
    "You will work together to perform an exploratory data analysis on your dataset of choice. However, each of you should fill out your own Jupyter notebook. You can freely collaborate and have identical code, but each person should type out the code themselves.\n",
    "\n",
    "The EDA assignment and further instructions can be found in \"Midterm-Project.ipnyb\"."
   ]
  },
  {
   "cell_type": "markdown",
   "metadata": {},
   "source": [
    "## Blog Post (20 points)"
   ]
  },
  {
   "cell_type": "markdown",
   "metadata": {},
   "source": [
    "You will co-author a 500-1,000 word blog post about a finding or insight from your analysis. This is the most open-ended part of the project, which can feel a little intimidating. But this is a chace for you and your partner(s) to focus on something you care about — it doesn't really matter what it is as long as you make a compelling case for why it's interesting.\n",
    "\n",
    "For example, you might look at the prevalence of one language of books getting translated into English versus another, or examine the difference between audiobook and print book checkouts in the Seattle Public Library system, or compare a certain song's popularity on Spotify in different countries.\n",
    "\n",
    "You will work together to co-author this blog post. However, only one person in the group will publish the blog post to our Medium page ([instructions for posting here](https://help.medium.com/hc/en-us/articles/213904978-Add-a-draft-or-post-to-publication)). To draft the blog post, you might use [Google Docs](https://docs.google.com/document/u/0/) or a similar collaboration platform."
   ]
  },
  {
   "cell_type": "markdown",
   "metadata": {},
   "source": [
    "|Blog Post Criteria | Points|\n",
    "|----------|--------|\n",
    "|You introduce the main question, topic, or idea that you are exploring in the blog post | 2 points |\n",
    "|You introduce the dataset that you used for your analysis, including who collected/curated the data and what's included in the data | 2 points |\n",
    "|You mention what is missing from the data and any possible ethical considerations or concerns | 2 points |\n",
    "| You present your main finding or insight, ideally with quantitative evidence (e.g., the number of books translated from French in a certain year) | 5 points |\n",
    "| You include a data viz/plot from your Pandas analysis (with a title) and explain it in the blog post | 4 points |\n",
    "| You zoom in on a specific example (a specific movie, book, song, NBA player, etc.) | 3 points |\n",
    "| You address a possible direction for future work | 2 points |\n",
    "| **Total** | **20 points** |"
   ]
  },
  {
   "cell_type": "markdown",
   "metadata": {},
   "source": [
    "Here are some potential examples for the above blog criteria, drawn from Hannah Fingerhut's 538 [essay about Hollywood biopics](https://fivethirtyeight.com/features/straight-outta-compton-is-the-rare-biopic-not-about-white-dudes/)."
   ]
  },
  {
   "cell_type": "markdown",
   "metadata": {},
   "source": [
    "**You introduce the main question, topic, or idea that you are exploring in the blog post**\n",
    "\"Biopics offer an interpretation of lives deemed important (and profitable) by Hollywood, and they often try to make a statement about their subjects’ historical or cultural significance. So which figures filmmakers spotlight matters, as does whom they ignore (or can’t get the funding to feature).\"\n",
    "\n",
    "**You introduce the dataset that you used for your analysis, including who collected/curated the data and what's included in the data**  \n",
    "\"That’s according to my analysis of IMDb data on biographical films released from 1915 through 2014...To get these numbers, I searched IMDb for feature films categorized within the “biography” genre and released in the United States, the U.K. or Canada since 1900. I was looking specifically for the people Hollywood chose to profile for a U.S. audience. A total of 676 films featuring 761 subjects were included in the sample...\"\n",
    "\n",
    "**You mention what is missing from the data and any possible ethical considerations or concerns**  \n",
    "\"This is by no means a comprehensive list, since many biographical films overlap with other genres, such as drama and musical, and are therefore classified as something else. For example, both “Norma Rae” (1979) and “Belle” (2013) are based on true stories but are classified on IMDb as drama, and drama and romance, respectively. A number of biographical films may be missing from the sample as a result, but this analysis is a place to start.\"\n",
    "\n",
    "**You present your main finding or insight, ideally with quantitative evidence**  \n",
    "\"Since the early 20th century, more than 80 percent of biopicture subjects whose race or ethnicity I was able to determine have been white, and 77 percent of subjects have been men. The genre has seen vast improvement in the presence of women and people of color, but Hollywood biopics still tend to reproduce to a greater degree the stories of white men from all corners of society.\"\n",
    "\n",
    "**You include a data viz/plot from your Pandas analysis (with a title) and explain it in the blog post**\n",
    "![](https://fivethirtyeight.com/wp-content/uploads/2015/08/fingerhut-datalab-biopic-1.png?w=610)\n",
    "\n",
    "\n",
    "**You zoom in on a specific example (a specific movie, book, song, NBA player, etc.)**\n",
    "\"Twenty-three percent of the women featured in my sample of biopics are entertainers...Many of these women are shown suffering...In “Ciao Manhattan” (1972), Sedgwick is propelled to stardom by artist Andy Warhol but experiences the perils of fame...Actress Lillian Roth, the subject of “I’ll Cry Tomorrow” (1955), spirals downward as she faces catastrophic relationships and drug addiction.\"\n",
    "\n",
    "**You address a possible direction for future work**  \n",
    "\"Bingham believes there is an emerging trend toward films made for television, especially films made for and about people of color, which do not have to be pitched to such a mass audience...These films reflect diversity in racial, gender and LGBT status but would not appear in our sample because they are not feature films.\""
   ]
  }
 ],
 "metadata": {
  "kernelspec": {
   "display_name": "Python 3",
   "language": "python",
   "name": "python3"
  },
  "language_info": {
   "codemirror_mode": {
    "name": "ipython",
    "version": 3
   },
   "file_extension": ".py",
   "mimetype": "text/x-python",
   "name": "python",
   "nbconvert_exporter": "python",
   "pygments_lexer": "ipython3",
   "version": "3.7.6"
  }
 },
 "nbformat": 4,
 "nbformat_minor": 4
}
